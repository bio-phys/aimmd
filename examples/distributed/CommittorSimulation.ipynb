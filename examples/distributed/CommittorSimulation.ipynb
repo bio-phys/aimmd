{
 "cells": [
  {
   "cell_type": "markdown",
   "metadata": {},
   "source": [
    "# `aimmd.distributed.CommittorSimulation`\n",
    "This notebook showcases how to steer a complete `CommittorSimulation` from python.\n",
    "\n",
    "**This notebook should be run on a multi-core workstation preferably with a GPU**, otherwise you will have a very long coffee break and a very hot laptop.\n",
    "\n",
    "**Required knowledge/recommended reading:** This notebook assumes familiarity with the `GmxEngine`/`SlurmGmxEngine` and the `TrajectoryFunctionWrappers` from the `asyncmd` module. Please have a look at the documentation/examples there."
   ]
  },
  {
   "cell_type": "markdown",
   "metadata": {},
   "source": [
    "### Imports and working directory"
   ]
  },
  {
   "cell_type": "code",
   "execution_count": 1,
   "metadata": {},
   "outputs": [],
   "source": [
    "%%bash\n",
    "# if using the module system to make gromacs and friends available:\n",
    "# check that they are loaded!\n",
    "#module list"
   ]
  },
  {
   "cell_type": "code",
   "execution_count": 2,
   "metadata": {},
   "outputs": [
    {
     "name": "stdout",
     "output_type": "stream",
     "text": [
      "/home/think/miniforge3/envs/aimmd_dev_new/bin/gmx\n"
     ]
    }
   ],
   "source": [
    "%%bash\n",
    "# unix only, check that gmx is available\n",
    "which gmx"
   ]
  },
  {
   "cell_type": "code",
   "execution_count": 3,
   "metadata": {},
   "outputs": [],
   "source": [
    "%matplotlib inline"
   ]
  },
  {
   "cell_type": "code",
   "execution_count": 4,
   "metadata": {},
   "outputs": [
    {
     "name": "stderr",
     "output_type": "stream",
     "text": [
      "/home/think/miniforge3/envs/aimmd_dev_new/lib/python3.12/site-packages/tqdm/auto.py:21: TqdmWarning: IProgress not found. Please update jupyter and ipywidgets. See https://ipywidgets.readthedocs.io/en/stable/user_install.html\n",
      "  from .autonotebook import tqdm as notebook_tqdm\n"
     ]
    }
   ],
   "source": [
    "import os\n",
    "import asyncio\n",
    "import matplotlib.pyplot as plt\n",
    "import numpy as np\n",
    "import MDAnalysis as mda"
   ]
  },
  {
   "cell_type": "code",
   "execution_count": 5,
   "metadata": {},
   "outputs": [
    {
     "name": "stderr",
     "output_type": "stream",
     "text": [
      "Could not initialize SLURM cluster handling. If you are sure SLURM (sinfo/sacct/etc) is available try calling `asyncmd.config.set_all_slurm_settings()` or `asyncmd.config.set_slurm_setting()` with the appropriate arguments.\n",
      "/home/think/Documents/sources/OPS/aimmd/aimmd/base/storage.py:25: UserWarning: pkg_resources is deprecated as an API. See https://setuptools.pypa.io/en/latest/pkg_resources.html. The pkg_resources package is slated for removal as early as 2025-11-30. Refrain from using this package or pin to Setuptools<81.\n",
      "  from pkg_resources import parse_version\n",
      "WARNING:aimmd:dCGPy not found. SymReg will not be available.\n",
      "WARNING:aimmd:Tensorflow/Keras not available\n"
     ]
    }
   ],
   "source": [
    "import asyncmd\n",
    "import asyncmd.gromacs as async_gmx\n",
    "import aimmd\n",
    "import aimmd.distributed as aimmdd"
   ]
  },
  {
   "cell_type": "code",
   "execution_count": 6,
   "metadata": {},
   "outputs": [],
   "source": [
    "# setup working directory\n",
    "\n",
    "#scratch_dir = \".\"\n",
    "scratch_dir = \"/home/think/scratch/aimmd_distributed/\"\n",
    "\n",
    "workdir = os.path.join(scratch_dir, \"Committors_test\")\n",
    "\n",
    "if not os.path.isdir(workdir):\n",
    "    os.mkdir(workdir)"
   ]
  },
  {
   "cell_type": "markdown",
   "metadata": {},
   "source": [
    "### Setup logging (optional)\n",
    "Note that this is entirely optional, i.e. you can skip the next 3 cells if you like. However for now we want the loglevel to be 'INFO' to see everything/most of the stuff that is done (and possibly goes wrong)."
   ]
  },
  {
   "cell_type": "code",
   "execution_count": 7,
   "metadata": {},
   "outputs": [],
   "source": [
    "# setup logging\n",
    "# executing this file sets the variable LOGCONFIG, which is a dictionary of logging presets \n",
    "%run ../resources/logconf.py"
   ]
  },
  {
   "cell_type": "code",
   "execution_count": 8,
   "metadata": {},
   "outputs": [
    {
     "name": "stdout",
     "output_type": "stream",
     "text": [
      "{'level': 'WARN', 'handlers': ['stdf', 'warnout']}\n",
      "{'level': 'INFO'}\n",
      "{'class': 'logging.FileHandler', 'level': 'INFO', 'mode': 'w', 'filename': 'simulation.log', 'formatter': 'standardFormatter'}\n"
     ]
    }
   ],
   "source": [
    "# have a look at the default logging level (the level used for the root logger)\n",
    "print(LOGCONFIG[\"loggers\"][\"\"])\n",
    "# have a look at the logger for aimmd\n",
    "print(LOGCONFIG[\"loggers\"][\"aimmd\"])\n",
    "# and have a look at the log-level for the filehandler\n",
    "print(LOGCONFIG[\"handlers\"][\"stdf\"])\n",
    "# the last two should both be `INFO`"
   ]
  },
  {
   "cell_type": "code",
   "execution_count": 9,
   "metadata": {},
   "outputs": [],
   "source": [
    "# OPTIONAL: more logging\n",
    "#LOGCONFIG[\"handlers\"][\"stdf\"][\"level\"] = \"DEBUG\"\n",
    "#LOGCONFIG[\"loggers\"][\"aimmd\"][\"level\"] = \"DEBUG\""
   ]
  },
  {
   "cell_type": "code",
   "execution_count": 10,
   "metadata": {},
   "outputs": [],
   "source": [
    "# you can either modify single values or use it as is to get the same setup as in the OPS default logging config file\n",
    "# you could e.g. do LOGCONF['handlers']['stdf']['filename'] = new_name to change the filename of the log\n",
    "# the default is to create 'simulation.log' and 'initialization.log' in the current working directory\n",
    "import logging.config\n",
    "LOGCONFIG[\"handlers\"][\"stdf\"][\"filename\"] = os.path.join(workdir, \"simulation_committors.log\")\n",
    "#LOGCONFIG[\"handlers\"][\"initf\"][\"filename\"] = os.path.join(workdir, \"initlog_committors.log\")\n",
    "logging.config.dictConfig(LOGCONFIG)"
   ]
  },
  {
   "cell_type": "markdown",
   "metadata": {},
   "source": [
    "## `aimmd.distributed.CommittorSimulation` setup\n",
    "The `CommittorSimulation` is a python class to steer/control multiple molecular simulations at the same time. It takes a list of starting configurations and the states to then propagate the trajectories (usually in chunks of walltime) until any of the states is reached. It supports oneway and twoway shooting (the later not beeing a true committor simulation because forward and backwards trajectories are correlated) and is the highlevel user-facing object to perform committor simulations.\n",
    "\n",
    "To initialize and run a `CommittorSimulation` you need:\n",
    "- `workdir`: The toplevel directory the simulation will run in\n",
    "- `starting_configurations`: A list, every entry in the list corresponds to one configuration and must be an iterable itself, the single list entry structure is: `aimmd.distributed.Trajectory`, `index_of_conf_in_traj`, `name_for_configuration`; Note that the `name_for_configuration` is optional and will be used only as the name of the (sub)folder in which the trials for that configuration will be performed, if no name is supplied the folder will simply be named `configuration_$CONFNUM`\n",
    "- `states`: A list of state functions, preferably wrapped using a `aimmd.distributed.TrajectoryFunctionWrapper`\n",
    "- `engine_cls`: The class of the molecular dynamics engine to use, should be a sublcass of `aimmd.distributed.MDEngine`\n",
    "- `engine_kwargs`: A dictionary with keyword arguments that can/will be used to instatiate the molecular dynamics engine\n",
    "- `T`: float, the temperature to use when generating random Maxwell-Boltzmann velocities\n",
    "- `walltime_per_part`: float, (maximum) walltime per trajectory segment in hours; Note that this does not determine the total length of the trajectories but only the size of the single trajectory segments\n",
    "- `n_max_concurrent`: int, the maximum number of trials to propagate concurrently; Note for two way simulations you will run 2*`n_max_concurrent` molecular dynamic simulations in parallel\n",
    "- `two_way`: wheter to run molecular dymaics forward and backward in time\n",
    "- `max_steps`: int or None, the maximum number of integration steps to perform in total per trajectory, i.e. for two way simulations the combined maximum length of the resulting trajectory will be 2*`max_steps`\n",
    "\n",
    "Note that you can set all attributes of the `CommittorSimulation` (`fname_traj_to_state`, `fname_transition_traj`, `deffnm_engine_out`, etc.) at initialization time by passing them as keyword arguments with the respective values you want to use.\n",
    "\n",
    "\n",
    "Also Note, that the `CommittorSimulation` is quite flexible and allows the simulation of different physical ensembles for every starting configuration. This is achieved by allowing the parameters `engine_cls`, `engine_kwargs`, `T` and `twoway` to be either single instances (i.e. using the same value for the whole committor simulation) or a list with the same length as `starting_configurations` (i.e. one value per starting configuration). This means you can simulate systems differing in the number of molecules (by changing the topology used in the engine), at different pressures (by changing the molecular dynamics parameters passed with `engine_kwargs`), at different temperatures (by changing `T` and the parameters in the `engine_kwargs`) and even perform two way shots only for a selected subset of starting configurations (e.g. the ones you expect to be a transition state).\n",
    "\n",
    "If the `CommittorSimulation` options still are not flexible enough for your needs you can always use the `asyncmd.trajectory.TrajectoryPropagatorUntilAnyState` (which is used under the hood anyway) to implement your own committor simulation from scratch."
   ]
  },
  {
   "cell_type": "code",
   "execution_count": 11,
   "metadata": {},
   "outputs": [],
   "source": [
    "# import state functions\n",
    "from state_funcs_mda import alpha_R, C7_eq\n",
    "\n",
    "# and wrapp them\n",
    "wrapped_alphaR = asyncmd.trajectory.PyTrajectoryFunctionWrapper(alpha_R)\n",
    "wrapped_C7_eq = asyncmd.trajectory.PyTrajectoryFunctionWrapper(C7_eq)"
   ]
  },
  {
   "cell_type": "code",
   "execution_count": 12,
   "metadata": {},
   "outputs": [
    {
     "name": "stdout",
     "output_type": "stream",
     "text": [
      "The transition has a length of 102 frames.\n"
     ]
    }
   ],
   "source": [
    "# Load the transition to take initial configurations from \n",
    "tp_traj = asyncmd.Trajectory(trajectory_files=\"gmx_infiles/TP_low_barrier_300K_amber99sbildn.trr\",\n",
    "                             structure_file=\"gmx_infiles/conf.gro\")\n",
    "print(f\"The transition has a length of {len(tp_traj)} frames.\")"
   ]
  },
  {
   "cell_type": "code",
   "execution_count": 13,
   "metadata": {},
   "outputs": [],
   "source": [
    "from aimmd.distributed.committors_new import (CommittorConfiguration,\n",
    "                                              CommittorSimulation,\n",
    "                                              CommittorEngineSpec,\n",
    "                                              )"
   ]
  },
  {
   "cell_type": "code",
   "execution_count": 14,
   "metadata": {},
   "outputs": [
    {
     "name": "stdout",
     "output_type": "stream",
     "text": [
      "Selected 10 frames as starting configurations.\n"
     ]
    }
   ],
   "source": [
    "# prepare a list of starting configurations\n",
    "# we will take each frame of the transition once except the first and last frame (these are already inside the states)\n",
    "# OPTIONAL: we will name each configuration 'frame$FRAMENUM_from_low_barrier_transition',\n",
    "#           we could also just have used tuples of length 2: (traj, idx) and then every configuration would just get an index\n",
    "starting_confs = [CommittorConfiguration(trajectory=tp_traj,\n",
    "                                         index=i,\n",
    "                                         name=f\"frame{i}_from_low_barrier_transition\",\n",
    "                                         )\n",
    "                  for i in range(5, len(tp_traj) - 1, 10)\n",
    "                  ]\n",
    "print(f\"Selected {len(starting_confs)} frames as starting configurations.\")"
   ]
  },
  {
   "cell_type": "code",
   "execution_count": 15,
   "metadata": {},
   "outputs": [
    {
     "data": {
      "text/plain": [
       "array([ True,  True,  True,  True, False, False, False, False, False,\n",
       "       False, False, False, False, False, False, False, False, False,\n",
       "       False, False, False, False, False, False, False, False, False,\n",
       "       False, False, False, False, False, False, False, False, False,\n",
       "       False, False, False, False, False, False, False, False, False,\n",
       "       False, False, False, False, False, False, False, False, False,\n",
       "       False, False, False, False, False, False, False, False, False,\n",
       "       False, False, False, False, False, False, False, False, False,\n",
       "       False, False, False, False, False, False, False, False, False,\n",
       "       False, False, False, False, False, False, False, False, False,\n",
       "       False, False, False, False, False, False, False, False, False,\n",
       "       False, False, False])"
      ]
     },
     "execution_count": 15,
     "metadata": {},
     "output_type": "execute_result"
    }
   ],
   "source": [
    "# have a look at the results of our state functions (note that the transition is from a slightly less strict alpha_R function)\n",
    "await wrapped_alphaR(tp_traj)"
   ]
  },
  {
   "cell_type": "code",
   "execution_count": 16,
   "metadata": {},
   "outputs": [
    {
     "data": {
      "text/plain": [
       "array([False, False, False, False, False, False, False, False, False,\n",
       "       False, False, False, False, False, False, False, False, False,\n",
       "       False, False, False, False, False, False, False, False, False,\n",
       "       False, False, False, False, False, False, False, False, False,\n",
       "       False, False, False, False, False, False, False, False, False,\n",
       "       False, False, False, False, False, False, False, False, False,\n",
       "       False, False, False, False, False, False, False, False, False,\n",
       "       False, False, False, False, False, False, False, False, False,\n",
       "       False, False, False, False, False, False, False, False, False,\n",
       "       False, False, False, False, False, False, False, False, False,\n",
       "       False, False, False, False, False, False, False, False, False,\n",
       "       False, False,  True])"
      ]
     },
     "execution_count": 16,
     "metadata": {},
     "output_type": "execute_result"
    }
   ],
   "source": [
    "await wrapped_C7_eq(tp_traj)"
   ]
  },
  {
   "cell_type": "code",
   "execution_count": 17,
   "metadata": {
    "tags": []
   },
   "outputs": [
    {
     "name": "stdout",
     "output_type": "stream",
     "text": [
      "The reference temperature ('ref-t') in the mdp file is: [300.0, 300.0].\n"
     ]
    }
   ],
   "source": [
    "# engine_kwargs\n",
    "gro = \"gmx_infiles/conf.gro\"\n",
    "top = \"gmx_infiles/topol_amber99sbildn.top\"\n",
    "ndx = \"gmx_infiles/index.ndx\"\n",
    "mdp = async_gmx.MDP(\"gmx_infiles/md.mdp\")\n",
    "#mdp[\"nstxout\"] = 10\n",
    "#mdp[\"nstvout\"] = 10\n",
    "\n",
    "\n",
    "print(f\"The reference temperature ('ref-t') in the mdp file is: {mdp['ref-t']}.\")\n",
    "\n",
    "engine_kwargs = {\"mdconfig\": mdp, \"gro_file\":gro, \"top_file\":top, \"ndx_file\":ndx,\n",
    "                 #\"mdrun_extra_args\":\"-nt 1\",  # use this for GMX with (thread) MPI support\n",
    "                 \"mdrun_extra_args\": \"-nt 2\",  # and this for GMX sans (thread) MPI support\n",
    "                 \"output_traj_type\": \"XTC\",\n",
    "                 }\n",
    "\n",
    "committor_engine_spec = CommittorEngineSpec(\n",
    "                                engine_cls=async_gmx.GmxEngine,\n",
    "                                engine_kwargs=engine_kwargs,\n",
    "                                walltime_per_part=0.000015625,  # 0.055125 s per part\n",
    "                                #walltime_per_part=0.000125,  # 0.45 s per part\n",
    "                                #walltime_per_part=0.005,  # run in simulation parts of 18 seconds\n",
    "                                \n",
    "                                )\n",
    "\n",
    "# here we simply use the `singleton` options for all configurations,\n",
    "# i.e. all molecular dynamics simulations of this committor simulation sample the same ensemble\n",
    "simulation = CommittorSimulation(workdir=workdir,\n",
    "                                 configurations=starting_confs,\n",
    "                                 states=[wrapped_alphaR, wrapped_C7_eq],\n",
    "                                 temperature=mdp[\"ref-t\"][0],\n",
    "                                 committor_engine_spec=committor_engine_spec,\n",
    "                                 two_way=False,\n",
    "                                 ######################### TODO: test this?!\n",
    "                                 max_retries_on_max_steps=2,\n",
    "                                 # maximum number of retries on crash, e.g. 5 means try at most 6 times\n",
    "                                 #########################\n",
    "                                 )"
   ]
  },
  {
   "cell_type": "code",
   "execution_count": 18,
   "metadata": {},
   "outputs": [
    {
     "name": "stdout",
     "output_type": "stream",
     "text": [
      "<class 'asyncmd.gromacs.mdconfig.MDP'> has been changed since parsing: True\n",
      "Current content:\n",
      "----------------\n",
      "title : ['test']\n",
      "cpp : ['/lib/cpp']\n",
      "include : ['-I../top']\n",
      "define : []\n",
      "integrator : md-vv\n",
      "dt : 0.002\n",
      "nsteps : -1\n",
      "nstxout : 0\n",
      "nstvout : 0\n",
      "nstlog : 20\n",
      "nstxout-compressed : 20\n",
      "nstlist : 50\n",
      "ns-type : grid\n",
      "cutoff-scheme : Verlet\n",
      "rlist : 1.1\n",
      "coulombtype : PME\n",
      "rcoulomb : 1.1\n",
      "rvdw : 1.1\n",
      "tcoupl : v-rescale\n",
      "tc-grps : ['Protein', 'SOL']\n",
      "tau-t : [0.5, 0.5]\n",
      "ref-t : [300.0, 300.0]\n",
      "Pcoupl : C-rescale\n",
      "tau-p : 1.0\n",
      "compressibility : [4.5e-05]\n",
      "ref-p : [1.0]\n",
      "gen-vel : no\n",
      "gen-temp : 300.0\n",
      "gen-seed : 173529\n",
      "constraints : h-bonds\n",
      "continuation : yes\n",
      "\n"
     ]
    }
   ],
   "source": [
    "print(mdp)"
   ]
  },
  {
   "cell_type": "code",
   "execution_count": 19,
   "metadata": {
    "tags": []
   },
   "outputs": [
    {
     "name": "stderr",
     "output_type": "stream",
     "text": [
      "100%|██████████| 100/100 [00:33<00:00,  2.99it/s]\n"
     ]
    }
   ],
   "source": [
    "# now run the simulation for 10 shots per configuration\n",
    "await simulation.run(10, n_max_concurrent=None)\n",
    "# if there are errors below they probably stem from the fact that the transition contains 4 frames in alphaR (the state with index 0)\n",
    "# therefore the TrajectoryPropagatorUntilAnyState raises an error and returns the starting configuration as a len 1 trajectory\n",
    "# (the error is raised because usually something went wrong if the first frame already fulfills the stopping criteria)"
   ]
  },
  {
   "cell_type": "markdown",
   "metadata": {},
   "source": [
    "## Have a look at and plot the results"
   ]
  },
  {
   "cell_type": "code",
   "execution_count": 20,
   "metadata": {},
   "outputs": [],
   "source": [
    "import matplotlib"
   ]
  },
  {
   "cell_type": "markdown",
   "metadata": {
    "tags": []
   },
   "source": [
    "### Plot results for every shot seperately, i.e. each result separately "
   ]
  },
  {
   "cell_type": "code",
   "execution_count": 21,
   "metadata": {
    "tags": []
   },
   "outputs": [
    {
     "data": {
      "text/plain": [
       "Text(0, 0.5, 'State reached')"
      ]
     },
     "execution_count": 21,
     "metadata": {},
     "output_type": "execute_result"
    },
    {
     "data": {
      "image/png": "[encoded data removed]",
      "text/plain": [
       "<Figure size 1000x500 with 1 Axes>"
      ]
     },
     "metadata": {},
     "output_type": "display_data"
    }
   ],
   "source": [
    "fig, axs = plt.subplots(figsize=(10, 5))\n",
    "\n",
    "# look at the shooting results per stucture and trial,\n",
    "# i.e. it has shape = (n_conf, n_trial, n_states)\n",
    "# it can be accessed as `CommittorSimulation.states_reached_per_shot`\n",
    "n_conf, n_shot, n_states = simulation.states_reached_per_trial.shape\n",
    "xses_per_conf = np.arange(0, n_shot)\n",
    "# get a colorbar and a normalize instance to have different colors for starting structure\n",
    "cmap = matplotlib.colormaps.get_cmap(\"viridis\")\n",
    "norm = matplotlib.colors.Normalize(vmin=0, vmax=n_conf-1)\n",
    "\n",
    "for cnum, conf in enumerate(simulation.states_reached_per_trial):\n",
    "    # NOTE: this only works if ret is per configuration and per shot, i.e. if it can only have one True value (one 1) per array in the last axis\n",
    "    plot_vals = np.full((n_shot,), np.nan)  # fill with the plot values\n",
    "    idxs, state = np.where(conf)  # will return the idxs of the shot and idx of the state each shot reached\n",
    "    plot_vals[idxs] = state\n",
    "    axs.scatter(x=xses_per_conf + (n_shot * cnum),\n",
    "                y=plot_vals,\n",
    "                color=cmap(norm(cnum)),\n",
    "                )\n",
    "\n",
    "axs.set_yticks([i for i in range(n_states)])\n",
    "axs.set_yticklabels([\"alpha_R\", \"C7_eq\"], size=14)\n",
    "axs.set_xticks([n_shot * i for i in range(n_conf + 1)])\n",
    "axs.set_xlabel(\"Configuration/shot index\", size=14)\n",
    "axs.set_ylabel(\"State reached\", size=14)"
   ]
  },
  {
   "cell_type": "markdown",
   "metadata": {},
   "source": [
    "### Plot committor estimates for every starting configuration, i.e. aggregated for every starting structure"
   ]
  },
  {
   "cell_type": "code",
   "execution_count": 22,
   "metadata": {},
   "outputs": [
    {
     "data": {
      "image/png": "[encoded data removed]",
      "text/plain": [
       "<Figure size 1000x600 with 2 Axes>"
      ]
     },
     "metadata": {},
     "output_type": "display_data"
    }
   ],
   "source": [
    "fig, axs = plt.subplots(figsize=(10,6), nrows=n_states, sharex=True)\n",
    "# states_reached already aggregates the result for the same starting configuration\n",
    "# it therefore has shape = (n_conf, n_states)\n",
    "n_conf, n_states = simulation.states_reached.shape\n",
    "for snum, (ax, name) in enumerate(zip(axs, [\"alpha_R\", \"C7_eq\"])):\n",
    "    ax.set_title(f\"Committor towards state {snum} ({name})\")\n",
    "    ax.scatter(x=np.arange(n_conf),\n",
    "               y=simulation.states_reached[:, snum] / np.sum(simulation.states_reached, axis=1),\n",
    "               c=cmap(norm(np.arange(n_conf))),\n",
    "               )\n",
    "    ax.set_ylim(-0.1, 1.1)\n",
    "    ax.set_ylabel(f\"$p_{{S{snum}}}$\")\n",
    "    if snum == 1:\n",
    "        ax.set_xlabel(\"Configuration index\")"
   ]
  },
  {
   "cell_type": "markdown",
   "metadata": {},
   "source": [
    "## Add \"backwards\" shots to generate initial transitions\n",
    "We will now add the conjugate \"backwards\" trials for the most promising configurations, i.e. thoose with shots that reached both states. To this end we will initialize a new committor simulation with only those configurations and use its `reinitialize_from_workdir()` method. We will set `twoway=True` to add the backwards shots for all of the configurations we now look at again. The `CommittorSimulation` will then add the missing backwards trials to all configurations it knows about. Note, that using a subset of the configurations only works since we named the configurations, if we had not done so we could still add the backwards shots, but would need to do so for all configurations (at least up to a given configuration number).\n",
    "\n",
    "In addition to adding the missing backwards shots this will also write out any potentially generated transitions as one concatenated trajectory from the lower index state to the higher index state with the first and last frame in the states. Therfore the twoway shooting can be used to generate initial transitions for a subsequent transition path sampling simulation. Note however that this is usually only smart for configurations that have an roughly equal probability to reach both/multiple states, i.e. for potential transition states."
   ]
  },
  {
   "cell_type": "code",
   "execution_count": 23,
   "metadata": {},
   "outputs": [
    {
     "name": "stdout",
     "output_type": "stream",
     "text": [
      "(array([1, 5, 7]),)\n",
      "[False, True, False, False, False, True, False, True, False, False]\n"
     ]
    }
   ],
   "source": [
    "p_c7_eq = simulation.states_reached[:, 1] / np.sum(simulation.states_reached, axis=1)\n",
    "print(np.where((0.25 < p_c7_eq) & (p_c7_eq < 0.75)))\n",
    "\n",
    "two_way = [False for _ in range(len(simulation.configurations))]\n",
    "for idx in np.where((0.25 < p_c7_eq) & (p_c7_eq < 0.75))[0]:\n",
    "    two_way[idx] = True\n",
    "\n",
    "print(two_way)\n",
    "\n",
    "#confs_for_twoway = []\n",
    "#for sconf, p in zip(starting_confs, p_c7_eq):\n",
    "#    if 0.25 <= p <= 0.75:\n",
    "#        confs_for_twoway += [sconf]\n",
    "#print(f\"Selected {len(confs_for_twoway)} promising configurations with p(TP|x) >= {round(2 * 0.25**2, 3)}.\")"
   ]
  },
  {
   "cell_type": "code",
   "execution_count": 24,
   "metadata": {},
   "outputs": [
    {
     "data": {
      "text/plain": [
       "CommittorConfiguration(trajectory=Trajectory(trajectory_files=gmx_infiles/TP_low_barrier_300K_amber99sbildn.trr, structure_file=gmx_infiles/conf.gro), index=65, name='frame65_from_low_barrier_transition')"
      ]
     },
     "execution_count": 24,
     "metadata": {},
     "output_type": "execute_result"
    }
   ],
   "source": [
    "simulation.configurations[6]"
   ]
  },
  {
   "cell_type": "code",
   "execution_count": 25,
   "metadata": {},
   "outputs": [
    {
     "name": "stderr",
     "output_type": "stream",
     "text": [
      "(WARNING)aimmd.distributed.committors_new two_way: Changing two_way after trials have been performed.Please call `add_missing_backward_trials` method to ensure consistency.\n"
     ]
    }
   ],
   "source": [
    "simulation.two_way = two_way"
   ]
  },
  {
   "cell_type": "code",
   "execution_count": 26,
   "metadata": {},
   "outputs": [
    {
     "name": "stderr",
     "output_type": "stream",
     "text": [
      "100%|██████████| 100/100 [00:15<00:00,  6.65it/s]\n"
     ]
    }
   ],
   "source": [
    "await simulation.add_missing_backward_trials()"
   ]
  },
  {
   "cell_type": "markdown",
   "metadata": {},
   "source": [
    "## Accessing the generated trajectories\n",
    "The concatenated trajectories until a state is reached and the potentially generated transition trajectories are all inside the respective `shot_$SHOTNUM` folders, however they can also be accessed from python via the properties `CommittorSimulation.trajs_to_state`, `CommittorSimulation.trajs_to_state_bw` and `CommittorSimulation.transitions`."
   ]
  },
  {
   "cell_type": "code",
   "execution_count": 27,
   "metadata": {},
   "outputs": [
    {
     "data": {
      "text/plain": [
       "[[Trajectory(trajectory_files=../../../../../../scratch/aimmd_distributed/Committors_test/frame5_from_low_barrier_transition/trial_0/trajectory_to_state.xtc, structure_file=gmx_infiles/conf.gro),\n",
       "  Trajectory(trajectory_files=../../../../../../scratch/aimmd_distributed/Committors_test/frame5_from_low_barrier_transition/trial_1/trajectory_to_state.xtc, structure_file=gmx_infiles/conf.gro),\n",
       "  Trajectory(trajectory_files=../../../../../../scratch/aimmd_distributed/Committors_test/frame5_from_low_barrier_transition/trial_2/trajectory_to_state.xtc, structure_file=gmx_infiles/conf.gro),\n",
       "  Trajectory(trajectory_files=../../../../../../scratch/aimmd_distributed/Committors_test/frame5_from_low_barrier_transition/trial_3/trajectory_to_state.xtc, structure_file=gmx_infiles/conf.gro),\n",
       "  Trajectory(trajectory_files=../../../../../../scratch/aimmd_distributed/Committors_test/frame5_from_low_barrier_transition/trial_4/trajectory_to_state.xtc, structure_file=gmx_infiles/conf.gro),\n",
       "  Trajectory(trajectory_files=../../../../../../scratch/aimmd_distributed/Committors_test/frame5_from_low_barrier_transition/trial_5/trajectory_to_state.xtc, structure_file=gmx_infiles/conf.gro),\n",
       "  Trajectory(trajectory_files=../../../../../../scratch/aimmd_distributed/Committors_test/frame5_from_low_barrier_transition/trial_6/trajectory_to_state.xtc, structure_file=gmx_infiles/conf.gro),\n",
       "  Trajectory(trajectory_files=../../../../../../scratch/aimmd_distributed/Committors_test/frame5_from_low_barrier_transition/trial_7/trajectory_to_state.xtc, structure_file=gmx_infiles/conf.gro),\n",
       "  Trajectory(trajectory_files=../../../../../../scratch/aimmd_distributed/Committors_test/frame5_from_low_barrier_transition/trial_8/trajectory_to_state.xtc, structure_file=gmx_infiles/conf.gro),\n",
       "  Trajectory(trajectory_files=../../../../../../scratch/aimmd_distributed/Committors_test/frame5_from_low_barrier_transition/trial_9/trajectory_to_state.xtc, structure_file=gmx_infiles/conf.gro)],\n",
       " [Trajectory(trajectory_files=../../../../../../scratch/aimmd_distributed/Committors_test/frame15_from_low_barrier_transition/trial_0/trajectory_to_state.xtc, structure_file=gmx_infiles/conf.gro),\n",
       "  Trajectory(trajectory_files=../../../../../../scratch/aimmd_distributed/Committors_test/frame15_from_low_barrier_transition/trial_1/trajectory_to_state.xtc, structure_file=gmx_infiles/conf.gro),\n",
       "  Trajectory(trajectory_files=../../../../../../scratch/aimmd_distributed/Committors_test/frame15_from_low_barrier_transition/trial_2/trajectory_to_state.xtc, structure_file=gmx_infiles/conf.gro),\n",
       "  Trajectory(trajectory_files=../../../../../../scratch/aimmd_distributed/Committors_test/frame15_from_low_barrier_transition/trial_3/trajectory_to_state.xtc, structure_file=gmx_infiles/conf.gro),\n",
       "  Trajectory(trajectory_files=../../../../../../scratch/aimmd_distributed/Committors_test/frame15_from_low_barrier_transition/trial_4/trajectory_to_state.xtc, structure_file=gmx_infiles/conf.gro),\n",
       "  Trajectory(trajectory_files=../../../../../../scratch/aimmd_distributed/Committors_test/frame15_from_low_barrier_transition/trial_5/trajectory_to_state.xtc, structure_file=gmx_infiles/conf.gro),\n",
       "  Trajectory(trajectory_files=../../../../../../scratch/aimmd_distributed/Committors_test/frame15_from_low_barrier_transition/trial_6/trajectory_to_state.xtc, structure_file=gmx_infiles/conf.gro),\n",
       "  Trajectory(trajectory_files=../../../../../../scratch/aimmd_distributed/Committors_test/frame15_from_low_barrier_transition/trial_7/trajectory_to_state.xtc, structure_file=gmx_infiles/conf.gro),\n",
       "  Trajectory(trajectory_files=../../../../../../scratch/aimmd_distributed/Committors_test/frame15_from_low_barrier_transition/trial_8/trajectory_to_state.xtc, structure_file=gmx_infiles/conf.gro),\n",
       "  Trajectory(trajectory_files=../../../../../../scratch/aimmd_distributed/Committors_test/frame15_from_low_barrier_transition/trial_9/trajectory_to_state.xtc, structure_file=gmx_infiles/conf.gro)],\n",
       " [Trajectory(trajectory_files=../../../../../../scratch/aimmd_distributed/Committors_test/frame25_from_low_barrier_transition/trial_0/trajectory_to_state.xtc, structure_file=gmx_infiles/conf.gro),\n",
       "  Trajectory(trajectory_files=../../../../../../scratch/aimmd_distributed/Committors_test/frame25_from_low_barrier_transition/trial_1/trajectory_to_state.xtc, structure_file=gmx_infiles/conf.gro),\n",
       "  Trajectory(trajectory_files=../../../../../../scratch/aimmd_distributed/Committors_test/frame25_from_low_barrier_transition/trial_2/trajectory_to_state.xtc, structure_file=gmx_infiles/conf.gro),\n",
       "  Trajectory(trajectory_files=../../../../../../scratch/aimmd_distributed/Committors_test/frame25_from_low_barrier_transition/trial_3/trajectory_to_state.xtc, structure_file=gmx_infiles/conf.gro),\n",
       "  Trajectory(trajectory_files=../../../../../../scratch/aimmd_distributed/Committors_test/frame25_from_low_barrier_transition/trial_4/trajectory_to_state.xtc, structure_file=gmx_infiles/conf.gro),\n",
       "  Trajectory(trajectory_files=../../../../../../scratch/aimmd_distributed/Committors_test/frame25_from_low_barrier_transition/trial_5/trajectory_to_state.xtc, structure_file=gmx_infiles/conf.gro),\n",
       "  Trajectory(trajectory_files=../../../../../../scratch/aimmd_distributed/Committors_test/frame25_from_low_barrier_transition/trial_6/trajectory_to_state.xtc, structure_file=gmx_infiles/conf.gro),\n",
       "  Trajectory(trajectory_files=../../../../../../scratch/aimmd_distributed/Committors_test/frame25_from_low_barrier_transition/trial_7/trajectory_to_state.xtc, structure_file=gmx_infiles/conf.gro),\n",
       "  Trajectory(trajectory_files=../../../../../../scratch/aimmd_distributed/Committors_test/frame25_from_low_barrier_transition/trial_8/trajectory_to_state.xtc, structure_file=gmx_infiles/conf.gro),\n",
       "  Trajectory(trajectory_files=../../../../../../scratch/aimmd_distributed/Committors_test/frame25_from_low_barrier_transition/trial_9/trajectory_to_state.xtc, structure_file=gmx_infiles/conf.gro)],\n",
       " [Trajectory(trajectory_files=../../../../../../scratch/aimmd_distributed/Committors_test/frame35_from_low_barrier_transition/trial_0/trajectory_to_state.xtc, structure_file=gmx_infiles/conf.gro),\n",
       "  Trajectory(trajectory_files=../../../../../../scratch/aimmd_distributed/Committors_test/frame35_from_low_barrier_transition/trial_1/trajectory_to_state.xtc, structure_file=gmx_infiles/conf.gro),\n",
       "  Trajectory(trajectory_files=../../../../../../scratch/aimmd_distributed/Committors_test/frame35_from_low_barrier_transition/trial_2/trajectory_to_state.xtc, structure_file=gmx_infiles/conf.gro),\n",
       "  Trajectory(trajectory_files=../../../../../../scratch/aimmd_distributed/Committors_test/frame35_from_low_barrier_transition/trial_3/trajectory_to_state.xtc, structure_file=gmx_infiles/conf.gro),\n",
       "  Trajectory(trajectory_files=../../../../../../scratch/aimmd_distributed/Committors_test/frame35_from_low_barrier_transition/trial_4/trajectory_to_state.xtc, structure_file=gmx_infiles/conf.gro),\n",
       "  Trajectory(trajectory_files=../../../../../../scratch/aimmd_distributed/Committors_test/frame35_from_low_barrier_transition/trial_5/trajectory_to_state.xtc, structure_file=gmx_infiles/conf.gro),\n",
       "  Trajectory(trajectory_files=../../../../../../scratch/aimmd_distributed/Committors_test/frame35_from_low_barrier_transition/trial_6/trajectory_to_state.xtc, structure_file=gmx_infiles/conf.gro),\n",
       "  Trajectory(trajectory_files=../../../../../../scratch/aimmd_distributed/Committors_test/frame35_from_low_barrier_transition/trial_7/trajectory_to_state.xtc, structure_file=gmx_infiles/conf.gro),\n",
       "  Trajectory(trajectory_files=../../../../../../scratch/aimmd_distributed/Committors_test/frame35_from_low_barrier_transition/trial_8/trajectory_to_state.xtc, structure_file=gmx_infiles/conf.gro),\n",
       "  Trajectory(trajectory_files=../../../../../../scratch/aimmd_distributed/Committors_test/frame35_from_low_barrier_transition/trial_9/trajectory_to_state.xtc, structure_file=gmx_infiles/conf.gro)],\n",
       " [Trajectory(trajectory_files=../../../../../../scratch/aimmd_distributed/Committors_test/frame45_from_low_barrier_transition/trial_0/trajectory_to_state.xtc, structure_file=gmx_infiles/conf.gro),\n",
       "  Trajectory(trajectory_files=../../../../../../scratch/aimmd_distributed/Committors_test/frame45_from_low_barrier_transition/trial_1/trajectory_to_state.xtc, structure_file=gmx_infiles/conf.gro),\n",
       "  Trajectory(trajectory_files=../../../../../../scratch/aimmd_distributed/Committors_test/frame45_from_low_barrier_transition/trial_2/trajectory_to_state.xtc, structure_file=gmx_infiles/conf.gro),\n",
       "  Trajectory(trajectory_files=../../../../../../scratch/aimmd_distributed/Committors_test/frame45_from_low_barrier_transition/trial_3/trajectory_to_state.xtc, structure_file=gmx_infiles/conf.gro),\n",
       "  Trajectory(trajectory_files=../../../../../../scratch/aimmd_distributed/Committors_test/frame45_from_low_barrier_transition/trial_4/trajectory_to_state.xtc, structure_file=gmx_infiles/conf.gro),\n",
       "  Trajectory(trajectory_files=../../../../../../scratch/aimmd_distributed/Committors_test/frame45_from_low_barrier_transition/trial_5/trajectory_to_state.xtc, structure_file=gmx_infiles/conf.gro),\n",
       "  Trajectory(trajectory_files=../../../../../../scratch/aimmd_distributed/Committors_test/frame45_from_low_barrier_transition/trial_6/trajectory_to_state.xtc, structure_file=gmx_infiles/conf.gro),\n",
       "  Trajectory(trajectory_files=../../../../../../scratch/aimmd_distributed/Committors_test/frame45_from_low_barrier_transition/trial_7/trajectory_to_state.xtc, structure_file=gmx_infiles/conf.gro),\n",
       "  Trajectory(trajectory_files=../../../../../../scratch/aimmd_distributed/Committors_test/frame45_from_low_barrier_transition/trial_8/trajectory_to_state.xtc, structure_file=gmx_infiles/conf.gro),\n",
       "  Trajectory(trajectory_files=../../../../../../scratch/aimmd_distributed/Committors_test/frame45_from_low_barrier_transition/trial_9/trajectory_to_state.xtc, structure_file=gmx_infiles/conf.gro)],\n",
       " [Trajectory(trajectory_files=../../../../../../scratch/aimmd_distributed/Committors_test/frame55_from_low_barrier_transition/trial_0/trajectory_to_state.xtc, structure_file=gmx_infiles/conf.gro),\n",
       "  Trajectory(trajectory_files=../../../../../../scratch/aimmd_distributed/Committors_test/frame55_from_low_barrier_transition/trial_1/trajectory_to_state.xtc, structure_file=gmx_infiles/conf.gro),\n",
       "  Trajectory(trajectory_files=../../../../../../scratch/aimmd_distributed/Committors_test/frame55_from_low_barrier_transition/trial_2/trajectory_to_state.xtc, structure_file=gmx_infiles/conf.gro),\n",
       "  Trajectory(trajectory_files=../../../../../../scratch/aimmd_distributed/Committors_test/frame55_from_low_barrier_transition/trial_3/trajectory_to_state.xtc, structure_file=gmx_infiles/conf.gro),\n",
       "  Trajectory(trajectory_files=../../../../../../scratch/aimmd_distributed/Committors_test/frame55_from_low_barrier_transition/trial_4/trajectory_to_state.xtc, structure_file=gmx_infiles/conf.gro),\n",
       "  Trajectory(trajectory_files=../../../../../../scratch/aimmd_distributed/Committors_test/frame55_from_low_barrier_transition/trial_5/trajectory_to_state.xtc, structure_file=gmx_infiles/conf.gro),\n",
       "  Trajectory(trajectory_files=../../../../../../scratch/aimmd_distributed/Committors_test/frame55_from_low_barrier_transition/trial_6/trajectory_to_state.xtc, structure_file=gmx_infiles/conf.gro),\n",
       "  Trajectory(trajectory_files=../../../../../../scratch/aimmd_distributed/Committors_test/frame55_from_low_barrier_transition/trial_7/trajectory_to_state.xtc, structure_file=gmx_infiles/conf.gro),\n",
       "  Trajectory(trajectory_files=../../../../../../scratch/aimmd_distributed/Committors_test/frame55_from_low_barrier_transition/trial_8/trajectory_to_state.xtc, structure_file=gmx_infiles/conf.gro),\n",
       "  Trajectory(trajectory_files=../../../../../../scratch/aimmd_distributed/Committors_test/frame55_from_low_barrier_transition/trial_9/trajectory_to_state.xtc, structure_file=gmx_infiles/conf.gro)],\n",
       " [Trajectory(trajectory_files=../../../../../../scratch/aimmd_distributed/Committors_test/frame65_from_low_barrier_transition/trial_0/trajectory_to_state.xtc, structure_file=gmx_infiles/conf.gro),\n",
       "  Trajectory(trajectory_files=../../../../../../scratch/aimmd_distributed/Committors_test/frame65_from_low_barrier_transition/trial_1/trajectory_to_state.xtc, structure_file=gmx_infiles/conf.gro),\n",
       "  Trajectory(trajectory_files=../../../../../../scratch/aimmd_distributed/Committors_test/frame65_from_low_barrier_transition/trial_2/trajectory_to_state.xtc, structure_file=gmx_infiles/conf.gro),\n",
       "  Trajectory(trajectory_files=../../../../../../scratch/aimmd_distributed/Committors_test/frame65_from_low_barrier_transition/trial_3/trajectory_to_state.xtc, structure_file=gmx_infiles/conf.gro),\n",
       "  Trajectory(trajectory_files=../../../../../../scratch/aimmd_distributed/Committors_test/frame65_from_low_barrier_transition/trial_4/trajectory_to_state.xtc, structure_file=gmx_infiles/conf.gro),\n",
       "  Trajectory(trajectory_files=../../../../../../scratch/aimmd_distributed/Committors_test/frame65_from_low_barrier_transition/trial_5/trajectory_to_state.xtc, structure_file=gmx_infiles/conf.gro),\n",
       "  Trajectory(trajectory_files=../../../../../../scratch/aimmd_distributed/Committors_test/frame65_from_low_barrier_transition/trial_6/trajectory_to_state.xtc, structure_file=gmx_infiles/conf.gro),\n",
       "  Trajectory(trajectory_files=../../../../../../scratch/aimmd_distributed/Committors_test/frame65_from_low_barrier_transition/trial_7/trajectory_to_state.xtc, structure_file=gmx_infiles/conf.gro),\n",
       "  Trajectory(trajectory_files=../../../../../../scratch/aimmd_distributed/Committors_test/frame65_from_low_barrier_transition/trial_8/trajectory_to_state.xtc, structure_file=gmx_infiles/conf.gro),\n",
       "  Trajectory(trajectory_files=../../../../../../scratch/aimmd_distributed/Committors_test/frame65_from_low_barrier_transition/trial_9/trajectory_to_state.xtc, structure_file=gmx_infiles/conf.gro)],\n",
       " [Trajectory(trajectory_files=../../../../../../scratch/aimmd_distributed/Committors_test/frame75_from_low_barrier_transition/trial_0/trajectory_to_state.xtc, structure_file=gmx_infiles/conf.gro),\n",
       "  Trajectory(trajectory_files=../../../../../../scratch/aimmd_distributed/Committors_test/frame75_from_low_barrier_transition/trial_1/trajectory_to_state.xtc, structure_file=gmx_infiles/conf.gro),\n",
       "  Trajectory(trajectory_files=../../../../../../scratch/aimmd_distributed/Committors_test/frame75_from_low_barrier_transition/trial_2/trajectory_to_state.xtc, structure_file=gmx_infiles/conf.gro),\n",
       "  Trajectory(trajectory_files=../../../../../../scratch/aimmd_distributed/Committors_test/frame75_from_low_barrier_transition/trial_3/trajectory_to_state.xtc, structure_file=gmx_infiles/conf.gro),\n",
       "  Trajectory(trajectory_files=../../../../../../scratch/aimmd_distributed/Committors_test/frame75_from_low_barrier_transition/trial_4/trajectory_to_state.xtc, structure_file=gmx_infiles/conf.gro),\n",
       "  Trajectory(trajectory_files=../../../../../../scratch/aimmd_distributed/Committors_test/frame75_from_low_barrier_transition/trial_5/trajectory_to_state.xtc, structure_file=gmx_infiles/conf.gro),\n",
       "  Trajectory(trajectory_files=../../../../../../scratch/aimmd_distributed/Committors_test/frame75_from_low_barrier_transition/trial_6/trajectory_to_state.xtc, structure_file=gmx_infiles/conf.gro),\n",
       "  Trajectory(trajectory_files=../../../../../../scratch/aimmd_distributed/Committors_test/frame75_from_low_barrier_transition/trial_7/trajectory_to_state.xtc, structure_file=gmx_infiles/conf.gro),\n",
       "  Trajectory(trajectory_files=../../../../../../scratch/aimmd_distributed/Committors_test/frame75_from_low_barrier_transition/trial_8/trajectory_to_state.xtc, structure_file=gmx_infiles/conf.gro),\n",
       "  Trajectory(trajectory_files=../../../../../../scratch/aimmd_distributed/Committors_test/frame75_from_low_barrier_transition/trial_9/trajectory_to_state.xtc, structure_file=gmx_infiles/conf.gro)],\n",
       " [Trajectory(trajectory_files=../../../../../../scratch/aimmd_distributed/Committors_test/frame85_from_low_barrier_transition/trial_0/trajectory_to_state.xtc, structure_file=gmx_infiles/conf.gro),\n",
       "  Trajectory(trajectory_files=../../../../../../scratch/aimmd_distributed/Committors_test/frame85_from_low_barrier_transition/trial_1/trajectory_to_state.xtc, structure_file=gmx_infiles/conf.gro),\n",
       "  Trajectory(trajectory_files=../../../../../../scratch/aimmd_distributed/Committors_test/frame85_from_low_barrier_transition/trial_2/trajectory_to_state.xtc, structure_file=gmx_infiles/conf.gro),\n",
       "  Trajectory(trajectory_files=../../../../../../scratch/aimmd_distributed/Committors_test/frame85_from_low_barrier_transition/trial_3/trajectory_to_state.xtc, structure_file=gmx_infiles/conf.gro),\n",
       "  Trajectory(trajectory_files=../../../../../../scratch/aimmd_distributed/Committors_test/frame85_from_low_barrier_transition/trial_4/trajectory_to_state.xtc, structure_file=gmx_infiles/conf.gro),\n",
       "  Trajectory(trajectory_files=../../../../../../scratch/aimmd_distributed/Committors_test/frame85_from_low_barrier_transition/trial_5/trajectory_to_state.xtc, structure_file=gmx_infiles/conf.gro),\n",
       "  Trajectory(trajectory_files=../../../../../../scratch/aimmd_distributed/Committors_test/frame85_from_low_barrier_transition/trial_6/trajectory_to_state.xtc, structure_file=gmx_infiles/conf.gro),\n",
       "  Trajectory(trajectory_files=../../../../../../scratch/aimmd_distributed/Committors_test/frame85_from_low_barrier_transition/trial_7/trajectory_to_state.xtc, structure_file=gmx_infiles/conf.gro),\n",
       "  Trajectory(trajectory_files=../../../../../../scratch/aimmd_distributed/Committors_test/frame85_from_low_barrier_transition/trial_8/trajectory_to_state.xtc, structure_file=gmx_infiles/conf.gro),\n",
       "  Trajectory(trajectory_files=../../../../../../scratch/aimmd_distributed/Committors_test/frame85_from_low_barrier_transition/trial_9/trajectory_to_state.xtc, structure_file=gmx_infiles/conf.gro)],\n",
       " [Trajectory(trajectory_files=../../../../../../scratch/aimmd_distributed/Committors_test/frame95_from_low_barrier_transition/trial_0/trajectory_to_state.xtc, structure_file=gmx_infiles/conf.gro),\n",
       "  Trajectory(trajectory_files=../../../../../../scratch/aimmd_distributed/Committors_test/frame95_from_low_barrier_transition/trial_1/trajectory_to_state.xtc, structure_file=gmx_infiles/conf.gro),\n",
       "  Trajectory(trajectory_files=../../../../../../scratch/aimmd_distributed/Committors_test/frame95_from_low_barrier_transition/trial_2/trajectory_to_state.xtc, structure_file=gmx_infiles/conf.gro),\n",
       "  Trajectory(trajectory_files=../../../../../../scratch/aimmd_distributed/Committors_test/frame95_from_low_barrier_transition/trial_3/trajectory_to_state.xtc, structure_file=gmx_infiles/conf.gro),\n",
       "  Trajectory(trajectory_files=../../../../../../scratch/aimmd_distributed/Committors_test/frame95_from_low_barrier_transition/trial_4/trajectory_to_state.xtc, structure_file=gmx_infiles/conf.gro),\n",
       "  Trajectory(trajectory_files=../../../../../../scratch/aimmd_distributed/Committors_test/frame95_from_low_barrier_transition/trial_5/trajectory_to_state.xtc, structure_file=gmx_infiles/conf.gro),\n",
       "  Trajectory(trajectory_files=../../../../../../scratch/aimmd_distributed/Committors_test/frame95_from_low_barrier_transition/trial_6/trajectory_to_state.xtc, structure_file=gmx_infiles/conf.gro),\n",
       "  Trajectory(trajectory_files=../../../../../../scratch/aimmd_distributed/Committors_test/frame95_from_low_barrier_transition/trial_7/trajectory_to_state.xtc, structure_file=gmx_infiles/conf.gro),\n",
       "  Trajectory(trajectory_files=../../../../../../scratch/aimmd_distributed/Committors_test/frame95_from_low_barrier_transition/trial_8/trajectory_to_state.xtc, structure_file=gmx_infiles/conf.gro),\n",
       "  Trajectory(trajectory_files=../../../../../../scratch/aimmd_distributed/Committors_test/frame95_from_low_barrier_transition/trial_9/trajectory_to_state.xtc, structure_file=gmx_infiles/conf.gro)]]"
      ]
     },
     "execution_count": 27,
     "metadata": {},
     "output_type": "execute_result"
    }
   ],
   "source": [
    "# show only the traj_to_state for first configuration this simulation knows about\n",
    "simulation.trajectories_to_state"
   ]
  },
  {
   "cell_type": "code",
   "execution_count": 28,
   "metadata": {},
   "outputs": [
    {
     "data": {
      "text/plain": [
       "10"
      ]
     },
     "execution_count": 28,
     "metadata": {},
     "output_type": "execute_result"
    }
   ],
   "source": [
    "simulation.trial_counter"
   ]
  },
  {
   "cell_type": "code",
   "execution_count": 29,
   "metadata": {},
   "outputs": [
    {
     "data": {
      "text/plain": [
       "[[],\n",
       " [Trajectory(trajectory_files=../../../../../../scratch/aimmd_distributed/Committors_test/frame15_from_low_barrier_transition/trial_0/trajectory_to_state_backward.xtc, structure_file=gmx_infiles/conf.gro),\n",
       "  Trajectory(trajectory_files=../../../../../../scratch/aimmd_distributed/Committors_test/frame15_from_low_barrier_transition/trial_1/trajectory_to_state_backward.xtc, structure_file=gmx_infiles/conf.gro),\n",
       "  Trajectory(trajectory_files=../../../../../../scratch/aimmd_distributed/Committors_test/frame15_from_low_barrier_transition/trial_2/trajectory_to_state_backward.xtc, structure_file=gmx_infiles/conf.gro),\n",
       "  Trajectory(trajectory_files=../../../../../../scratch/aimmd_distributed/Committors_test/frame15_from_low_barrier_transition/trial_3/trajectory_to_state_backward.xtc, structure_file=gmx_infiles/conf.gro),\n",
       "  Trajectory(trajectory_files=../../../../../../scratch/aimmd_distributed/Committors_test/frame15_from_low_barrier_transition/trial_4/trajectory_to_state_backward.xtc, structure_file=gmx_infiles/conf.gro),\n",
       "  Trajectory(trajectory_files=../../../../../../scratch/aimmd_distributed/Committors_test/frame15_from_low_barrier_transition/trial_5/trajectory_to_state_backward.xtc, structure_file=gmx_infiles/conf.gro),\n",
       "  Trajectory(trajectory_files=../../../../../../scratch/aimmd_distributed/Committors_test/frame15_from_low_barrier_transition/trial_6/trajectory_to_state_backward.xtc, structure_file=gmx_infiles/conf.gro),\n",
       "  Trajectory(trajectory_files=../../../../../../scratch/aimmd_distributed/Committors_test/frame15_from_low_barrier_transition/trial_7/trajectory_to_state_backward.xtc, structure_file=gmx_infiles/conf.gro),\n",
       "  Trajectory(trajectory_files=../../../../../../scratch/aimmd_distributed/Committors_test/frame15_from_low_barrier_transition/trial_8/trajectory_to_state_backward.xtc, structure_file=gmx_infiles/conf.gro),\n",
       "  Trajectory(trajectory_files=../../../../../../scratch/aimmd_distributed/Committors_test/frame15_from_low_barrier_transition/trial_9/trajectory_to_state_backward.xtc, structure_file=gmx_infiles/conf.gro)],\n",
       " [],\n",
       " [],\n",
       " [],\n",
       " [Trajectory(trajectory_files=../../../../../../scratch/aimmd_distributed/Committors_test/frame55_from_low_barrier_transition/trial_0/trajectory_to_state_backward.xtc, structure_file=gmx_infiles/conf.gro),\n",
       "  Trajectory(trajectory_files=../../../../../../scratch/aimmd_distributed/Committors_test/frame55_from_low_barrier_transition/trial_1/trajectory_to_state_backward.xtc, structure_file=gmx_infiles/conf.gro),\n",
       "  Trajectory(trajectory_files=../../../../../../scratch/aimmd_distributed/Committors_test/frame55_from_low_barrier_transition/trial_2/trajectory_to_state_backward.xtc, structure_file=gmx_infiles/conf.gro),\n",
       "  Trajectory(trajectory_files=../../../../../../scratch/aimmd_distributed/Committors_test/frame55_from_low_barrier_transition/trial_3/trajectory_to_state_backward.xtc, structure_file=gmx_infiles/conf.gro),\n",
       "  Trajectory(trajectory_files=../../../../../../scratch/aimmd_distributed/Committors_test/frame55_from_low_barrier_transition/trial_4/trajectory_to_state_backward.xtc, structure_file=gmx_infiles/conf.gro),\n",
       "  Trajectory(trajectory_files=../../../../../../scratch/aimmd_distributed/Committors_test/frame55_from_low_barrier_transition/trial_5/trajectory_to_state_backward.xtc, structure_file=gmx_infiles/conf.gro),\n",
       "  Trajectory(trajectory_files=../../../../../../scratch/aimmd_distributed/Committors_test/frame55_from_low_barrier_transition/trial_6/trajectory_to_state_backward.xtc, structure_file=gmx_infiles/conf.gro),\n",
       "  Trajectory(trajectory_files=../../../../../../scratch/aimmd_distributed/Committors_test/frame55_from_low_barrier_transition/trial_7/trajectory_to_state_backward.xtc, structure_file=gmx_infiles/conf.gro),\n",
       "  Trajectory(trajectory_files=../../../../../../scratch/aimmd_distributed/Committors_test/frame55_from_low_barrier_transition/trial_8/trajectory_to_state_backward.xtc, structure_file=gmx_infiles/conf.gro),\n",
       "  Trajectory(trajectory_files=../../../../../../scratch/aimmd_distributed/Committors_test/frame55_from_low_barrier_transition/trial_9/trajectory_to_state_backward.xtc, structure_file=gmx_infiles/conf.gro)],\n",
       " [],\n",
       " [Trajectory(trajectory_files=../../../../../../scratch/aimmd_distributed/Committors_test/frame75_from_low_barrier_transition/trial_0/trajectory_to_state_backward.xtc, structure_file=gmx_infiles/conf.gro),\n",
       "  Trajectory(trajectory_files=../../../../../../scratch/aimmd_distributed/Committors_test/frame75_from_low_barrier_transition/trial_1/trajectory_to_state_backward.xtc, structure_file=gmx_infiles/conf.gro),\n",
       "  Trajectory(trajectory_files=../../../../../../scratch/aimmd_distributed/Committors_test/frame75_from_low_barrier_transition/trial_2/trajectory_to_state_backward.xtc, structure_file=gmx_infiles/conf.gro),\n",
       "  Trajectory(trajectory_files=../../../../../../scratch/aimmd_distributed/Committors_test/frame75_from_low_barrier_transition/trial_3/trajectory_to_state_backward.xtc, structure_file=gmx_infiles/conf.gro),\n",
       "  Trajectory(trajectory_files=../../../../../../scratch/aimmd_distributed/Committors_test/frame75_from_low_barrier_transition/trial_4/trajectory_to_state_backward.xtc, structure_file=gmx_infiles/conf.gro),\n",
       "  Trajectory(trajectory_files=../../../../../../scratch/aimmd_distributed/Committors_test/frame75_from_low_barrier_transition/trial_5/trajectory_to_state_backward.xtc, structure_file=gmx_infiles/conf.gro),\n",
       "  Trajectory(trajectory_files=../../../../../../scratch/aimmd_distributed/Committors_test/frame75_from_low_barrier_transition/trial_6/trajectory_to_state_backward.xtc, structure_file=gmx_infiles/conf.gro),\n",
       "  Trajectory(trajectory_files=../../../../../../scratch/aimmd_distributed/Committors_test/frame75_from_low_barrier_transition/trial_7/trajectory_to_state_backward.xtc, structure_file=gmx_infiles/conf.gro),\n",
       "  Trajectory(trajectory_files=../../../../../../scratch/aimmd_distributed/Committors_test/frame75_from_low_barrier_transition/trial_8/trajectory_to_state_backward.xtc, structure_file=gmx_infiles/conf.gro),\n",
       "  Trajectory(trajectory_files=../../../../../../scratch/aimmd_distributed/Committors_test/frame75_from_low_barrier_transition/trial_9/trajectory_to_state_backward.xtc, structure_file=gmx_infiles/conf.gro)],\n",
       " [],\n",
       " []]"
      ]
     },
     "execution_count": 29,
     "metadata": {},
     "output_type": "execute_result"
    }
   ],
   "source": [
    "# same here\n",
    "simulation.trajectories_to_state_backward"
   ]
  },
  {
   "cell_type": "code",
   "execution_count": 30,
   "metadata": {},
   "outputs": [
    {
     "data": {
      "text/plain": [
       "[[],\n",
       " [Trajectory(trajectory_files=../../../../../../scratch/aimmd_distributed/Committors_test/frame15_from_low_barrier_transition/trial_3/transition_trajectory.xtc, structure_file=gmx_infiles/conf.gro),\n",
       "  Trajectory(trajectory_files=../../../../../../scratch/aimmd_distributed/Committors_test/frame15_from_low_barrier_transition/trial_8/transition_trajectory.xtc, structure_file=gmx_infiles/conf.gro),\n",
       "  Trajectory(trajectory_files=../../../../../../scratch/aimmd_distributed/Committors_test/frame15_from_low_barrier_transition/trial_9/transition_trajectory.xtc, structure_file=gmx_infiles/conf.gro)],\n",
       " [],\n",
       " [],\n",
       " [],\n",
       " [Trajectory(trajectory_files=../../../../../../scratch/aimmd_distributed/Committors_test/frame55_from_low_barrier_transition/trial_0/transition_trajectory.xtc, structure_file=gmx_infiles/conf.gro),\n",
       "  Trajectory(trajectory_files=../../../../../../scratch/aimmd_distributed/Committors_test/frame55_from_low_barrier_transition/trial_1/transition_trajectory.xtc, structure_file=gmx_infiles/conf.gro),\n",
       "  Trajectory(trajectory_files=../../../../../../scratch/aimmd_distributed/Committors_test/frame55_from_low_barrier_transition/trial_4/transition_trajectory.xtc, structure_file=gmx_infiles/conf.gro)],\n",
       " [],\n",
       " [Trajectory(trajectory_files=../../../../../../scratch/aimmd_distributed/Committors_test/frame75_from_low_barrier_transition/trial_0/transition_trajectory.xtc, structure_file=gmx_infiles/conf.gro),\n",
       "  Trajectory(trajectory_files=../../../../../../scratch/aimmd_distributed/Committors_test/frame75_from_low_barrier_transition/trial_2/transition_trajectory.xtc, structure_file=gmx_infiles/conf.gro),\n",
       "  Trajectory(trajectory_files=../../../../../../scratch/aimmd_distributed/Committors_test/frame75_from_low_barrier_transition/trial_3/transition_trajectory.xtc, structure_file=gmx_infiles/conf.gro),\n",
       "  Trajectory(trajectory_files=../../../../../../scratch/aimmd_distributed/Committors_test/frame75_from_low_barrier_transition/trial_4/transition_trajectory.xtc, structure_file=gmx_infiles/conf.gro),\n",
       "  Trajectory(trajectory_files=../../../../../../scratch/aimmd_distributed/Committors_test/frame75_from_low_barrier_transition/trial_6/transition_trajectory.xtc, structure_file=gmx_infiles/conf.gro),\n",
       "  Trajectory(trajectory_files=../../../../../../scratch/aimmd_distributed/Committors_test/frame75_from_low_barrier_transition/trial_7/transition_trajectory.xtc, structure_file=gmx_infiles/conf.gro)],\n",
       " [],\n",
       " []]"
      ]
     },
     "execution_count": 30,
     "metadata": {},
     "output_type": "execute_result"
    }
   ],
   "source": [
    "# and the transition trajectories (for the trials where we added them via two_way=True)\n",
    "# we look at all of them, but there will be many empty lists for the configurations that do not have\n",
    "# a backward trial\n",
    "simulation.transition_trajectories"
   ]
  },
  {
   "cell_type": "markdown",
   "metadata": {
    "tags": []
   },
   "source": [
    "## \"Continuation\" of the trials that reached only one state\n",
    "This is a bit stupid, but just to showcase the possiblity to rerun a `CommittorSimulation` on an existing directory/run with possibly changed states. To this end, we will simply run the `CommittorSimulation` with only one state (the one we did not reach on the trials we rerun on). We will take the first few trials (started from configurations on the transition that are close(r) to alpha_R) as they should all/mostly have reached the alpha_R state and run a committor continuation with C7_eq as the only target state. This will result in continuing all choosen trial until they reach C7_eq (ignoring that they first reached alpha_R because the new `CommittorSimulation` does not know about alpha_R anymore)."
   ]
  },
  {
   "cell_type": "code",
   "execution_count": 31,
   "metadata": {},
   "outputs": [],
   "source": [
    "# take the first 5 starting configurations for continuation, they will mostly have ended up in C7_eq\n",
    "first_n_starting_configurations_to_take = 5"
   ]
  },
  {
   "cell_type": "code",
   "execution_count": 32,
   "metadata": {},
   "outputs": [],
   "source": [
    "new_simulation = CommittorSimulation(workdir=workdir,\n",
    "                                     # take only a subset of the original starting configurations\n",
    "                                     # NOTE: we exclude the first frame because it is already inside alpha_R, i.e. we never\n",
    "                                     #       started a trajectory for these shots, therefore the continuation will fail...\n",
    "                                     configurations=starting_confs[:first_n_starting_configurations_to_take],\n",
    "                                     states=[wrapped_C7_eq], # only C7_eq as target state\n",
    "                                     temperature=mdp[\"ref-t\"][0],\n",
    "                                     committor_engine_spec=committor_engine_spec,\n",
    "                                     # make sure we name the concatenated output trajs differently this time\n",
    "                                     fileout_trajectory_to_state=\"continuation_traj_to_state\",\n",
    "                                     # not needed since we dont do twoway, but for completeness\n",
    "                                     fileout_trajectory_to_state_backward=\"continuation_traj_to_state_bw\",\n",
    "                                     # also not really needed, there can be no transitions with only one state anyway\n",
    "                                     fileout_transition_trajectory=\"transition_traj\",\n",
    "                                            )"
   ]
  },
  {
   "cell_type": "code",
   "execution_count": 33,
   "metadata": {
    "tags": []
   },
   "outputs": [
    {
     "name": "stderr",
     "output_type": "stream",
     "text": [
      "100%|██████████| 50/50 [16:39<00:00, 19.98s/it]\n"
     ]
    }
   ],
   "source": [
    "# since the concatenated output-trajs have different names we can pass overwrite=False\n",
    "#  (the default is True!)\n",
    "await new_simulation.reinitialize_from_workdir(overwrite=False, n_max_concurrent=20)"
   ]
  },
  {
   "cell_type": "code",
   "execution_count": 34,
   "metadata": {},
   "outputs": [
    {
     "data": {
      "text/plain": [
       "array([[10.],\n",
       "       [10.],\n",
       "       [10.],\n",
       "       [10.],\n",
       "       [10.]])"
      ]
     },
     "execution_count": 34,
     "metadata": {},
     "output_type": "execute_result"
    }
   ],
   "source": [
    "new_simulation.states_reached"
   ]
  },
  {
   "cell_type": "code",
   "execution_count": null,
   "metadata": {},
   "outputs": [],
   "source": []
  }
 ],
 "metadata": {
  "kernelspec": {
   "display_name": "aimmd_dev_new",
   "language": "python",
   "name": "python3"
  },
  "language_info": {
   "codemirror_mode": {
    "name": "ipython",
    "version": 3
   },
   "file_extension": ".py",
   "mimetype": "text/x-python",
   "name": "python",
   "nbconvert_exporter": "python",
   "pygments_lexer": "ipython3",
   "version": "3.12.11"
  }
 },
 "nbformat": 4,
 "nbformat_minor": 4
}
