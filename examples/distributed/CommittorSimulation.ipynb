{
 "cells": [
  {
   "cell_type": "markdown",
   "metadata": {},
   "source": [
    "# Committor simulations\n",
    "This notebook showcases how to setup and perform a `CommittorSimulation` of capped alanine dipeptide from python. We will use the $C7_{eq}$ and $\\alpha_R$ states as final states (stopping conditions) for the trial propagations. To perform a `CommittorSimulation` with your favorite molecular system, you just need to adapt the state functions and the initial configurations to your needs.\n",
    "\n",
    "This notebook also shows how to easily (given you have access to promising initial configurations) generate transitions between states using two way shooting. These transitions can, e.g., be used as input to a Transition Path Sampling simulation.\n",
    "\n",
    "**This notebook should be run on a multi-core workstation**, otherwise you will have a very long coffee break and a very hot laptop.\n",
    "\n",
    "**Required knowledge/recommended reading:** This notebook assumes some familiarity with the `asyncmd` python package, i.e. we will use a MD engine class (the `GmxEngine`) and the `PyTrajectoryFunctionWrapper` from the `asyncmd` package. Please have a look at the [asyncmd documentation/examples](https://asyncmd.readthedocs.io/en/latest/) if anything regarding their usage is unclear."
   ]
  },
  {
   "cell_type": "markdown",
   "metadata": {},
   "source": [
    "### Imports and working directory"
   ]
  },
  {
   "cell_type": "code",
   "execution_count": 1,
   "metadata": {},
   "outputs": [],
   "source": [
    "%matplotlib inline"
   ]
  },
  {
   "cell_type": "code",
   "execution_count": 2,
   "metadata": {},
   "outputs": [
    {
     "name": "stderr",
     "output_type": "stream",
     "text": [
      "Could not initialize SLURM cluster handling. If you are sure SLURM (sinfo/sacct/etc) is available try calling `asyncmd.config.set_all_slurm_settings()` or `asyncmd.config.set_slurm_setting()` with the appropriate arguments.\n",
      "/home/think/Documents/sources/OPS/aimmd/aimmd/base/storage.py:25: UserWarning: pkg_resources is deprecated as an API. See https://setuptools.pypa.io/en/latest/pkg_resources.html. The pkg_resources package is slated for removal as early as 2025-11-30. Refrain from using this package or pin to Setuptools<81.\n",
      "  from pkg_resources import parse_version\n",
      "WARNING:aimmd:dCGPy not found. SymReg will not be available.\n",
      "WARNING:aimmd:Tensorflow/Keras not available\n"
     ]
    }
   ],
   "source": [
    "import matplotlib\n",
    "import matplotlib.pyplot as plt\n",
    "import numpy as np\n",
    "import asyncmd\n",
    "import asyncmd.gromacs as async_gmx\n",
    "\n",
    "from aimmd.distributed import (CommittorConfiguration,\n",
    "                               CommittorEngineSpec,\n",
    "                               CommittorSimulation,\n",
    "                               )"
   ]
  },
  {
   "cell_type": "code",
   "execution_count": null,
   "metadata": {},
   "outputs": [],
   "source": [
    "# working directory\n",
    "workdir = \"Committors_capped_alanine\""
   ]
  },
  {
   "cell_type": "markdown",
   "metadata": {},
   "source": [
    "## Setup the `CommittorSimulation`\n",
    "\n",
    "The `CommittorSimulation` is a python class to perform an arbitrary number of committor trials from multiple starting configurations at the same time.\n",
    "To run it we need to define the states (functions returning True or False for every configuration, i.e. if it belongs to a given state or not), a list of starting configurations (as `CommittorConfigurations`), and the specification of the MD engine used to propagate the trials (as `CommittorEngineSpec`).\n",
    "\n",
    "The `CommittorSimulation` will always perform an equal number of trials per configuration (controlled via the `trials_per_configuration` argument to the `run` method) and you can easily control the maximum number of simultaneously performed trials via the `n_max_concurrent` argument.\n",
    "The `CommittorSimulation` can optionally perform two way trials, i.e., perform additional trials with inverted momenta for every (or a subset) of the starting configurations.\n",
    "In this case it will also write out transition trajectories if the forward and backward trials reach different states.\n",
    "Note that, except if the dynamics is truly diffusive, the outcomes of the forward and backward trials will always be correlated.\n",
    "The shooting statistics of the forward and backward trials are therefore kept separate and returned via the two attributes `states_reached` and `states_reached_backward`."
   ]
  },
  {
   "cell_type": "markdown",
   "metadata": {},
   "source": [
    "### States\n",
    "\n",
    "State functions are functions that take an `asyncmd.Trajectory` and return an array of True or False values (of shape `(len(trajectory),)`), i.e., indicate for every configuration/frame of the trajectory if it lies in a given state.\n",
    "To make the application of a state functions on multiple trajectories at the same time easily possible and to profit from the automatic value caching, state functions are expected to be `asyncmd.trajectory.functionwrapper.TrajectoryFunctionWrapper` subclasses, e.g. `asyncmd.trajectory.PyTrajectoryFunctionWrapper` or `asyncmd.trajectory.SlurmTrajectoryFunctionWrapper`.\n",
    "\n",
    "In our example here we will import the predefined state functions for the $C7_{eq}$ and $\\alpha_R$ states included with the aimmd examples.\n",
    "They are simple functions implemented in MDAnalysis and you are highly encouraged to have a look at the python file in the directory of the notebook to have a look at them."
   ]
  },
  {
   "cell_type": "code",
   "execution_count": 4,
   "metadata": {},
   "outputs": [],
   "source": [
    "# import state functions\n",
    "from state_funcs_mda import alpha_R, C7_eq\n",
    "\n",
    "# and wrap them\n",
    "wrapped_alphaR = asyncmd.trajectory.PyTrajectoryFunctionWrapper(alpha_R)\n",
    "wrapped_C7_eq = asyncmd.trajectory.PyTrajectoryFunctionWrapper(C7_eq)"
   ]
  },
  {
   "cell_type": "markdown",
   "metadata": {},
   "source": [
    "### `CommittorConfiguration`\n",
    "\n",
    "Here, we will make use of the transition trajectory connecting the $C7_{eq}$ and $\\alpha_R$ states to have an easy source of configurations belonging to no state.\n",
    "The trajectory is included with the example notebooks in the repository and also serves as input to various Transition Path Sampling simulations.\n",
    "We will load it and pick a number of evenly spaced (in time) configurations from it.\n",
    "\n",
    "The `CommittorConfiguration` is a simple dataclass holding information about the initial configuration for committor simulations, namely:\n",
    "- the trajectory this configuration lies on (an `asyncmd.Trajectory` object),\n",
    "- the index of the configuration in said trajectory,\n",
    "- and, optionally, a name for the configuration which will be used in the directory structure created by the `CommittorSimulation`."
   ]
  },
  {
   "cell_type": "code",
   "execution_count": 5,
   "metadata": {},
   "outputs": [
    {
     "name": "stdout",
     "output_type": "stream",
     "text": [
      "The transition has a length of 102 frames.\n"
     ]
    }
   ],
   "source": [
    "# Load the transition to take initial configurations from\n",
    "tp_traj = asyncmd.Trajectory(trajectory_files=\"gmx_infiles/TP_low_barrier_300K_amber99sbildn.trr\",\n",
    "                             structure_file=\"gmx_infiles/conf.gro\")\n",
    "print(f\"The transition has a length of {len(tp_traj)} frames.\")"
   ]
  },
  {
   "cell_type": "code",
   "execution_count": 6,
   "metadata": {},
   "outputs": [
    {
     "name": "stdout",
     "output_type": "stream",
     "text": [
      "alpha_R result:  [ True  True  True  True False False False False False False False False\n",
      " False False False False False False False False False False False False\n",
      " False False False False False False False False False False False False\n",
      " False False False False False False False False False False False False\n",
      " False False False False False False False False False False False False\n",
      " False False False False False False False False False False False False\n",
      " False False False False False False False False False False False False\n",
      " False False False False False False False False False False False False\n",
      " False False False False False False]\n",
      "C7_eq result:  [False False False False False False False False False False False False\n",
      " False False False False False False False False False False False False\n",
      " False False False False False False False False False False False False\n",
      " False False False False False False False False False False False False\n",
      " False False False False False False False False False False False False\n",
      " False False False False False False False False False False False False\n",
      " False False False False False False False False False False False False\n",
      " False False False False False False False False False False False False\n",
      " False False False False False  True]\n"
     ]
    }
   ],
   "source": [
    "# have a look at the results of our state functions\n",
    "# Note that the transition is from a slightly less strict alpha_R function,\n",
    "# therefore the first four frames here are inside alpha_R\n",
    "print(\"alpha_R result: \", await wrapped_alphaR(tp_traj))\n",
    "print(\"C7_eq result: \", await wrapped_C7_eq(tp_traj))"
   ]
  },
  {
   "cell_type": "code",
   "execution_count": 7,
   "metadata": {},
   "outputs": [
    {
     "name": "stdout",
     "output_type": "stream",
     "text": [
      "Selected 10 frames as starting configurations.\n"
     ]
    }
   ],
   "source": [
    "# prepare the list of starting configurations\n",
    "# we just pick 10 configurations equally spaced,\n",
    "# but exclude the configurations that are inside any state\n",
    "n_confs_to_pick = 10\n",
    "starting_confs = [CommittorConfiguration(trajectory=tp_traj,\n",
    "                                         index=i,\n",
    "                                         name=f\"frame{i}_from_low_barrier_transition\",\n",
    "                                         )\n",
    "                  for i in range(4, len(tp_traj) - 1, n_confs_to_pick)\n",
    "                  ]\n",
    "print(f\"Selected {len(starting_confs)} frames as starting configurations.\")"
   ]
  },
  {
   "cell_type": "markdown",
   "metadata": {},
   "source": [
    "### `CommittorEngineSpec`\n",
    "\n",
    "The `CommittorEngineSpec` defines all things related to the MD engine performing the trial propagation. Most of the initialization arguments of the `CommittorEngineSpec` are used to define the MD engine via `asyncmd` (see its (documentation on gromacs engines)[https://asyncmd.readthedocs.io/en/latest/guide/gromacs.html]), the only other mandatory argument is `walltime_per_part`.\n",
    "\n",
    "The trials of the `CommittorSimulation` are propagated in parts, each with a walltime of `walltime_per_part`.\n",
    "Only after each part, the trajectory is checked if a state has been reached or if the propagation must be continued.\n",
    "It is therefore important to choose `walltime_per_part` such that it not too long and (unnecessary) MD integration inside of one of the states (after a stopping condition was reached) is performed.\n",
    "On the other hand a **very** short `walltime_per_part` will result in unnecessary overhead of starting and shutting down the MD program.\n",
    "Note that, a large plus of propagation in short parts is that it can make efficient use of [backfilling on an HPC cluster](https://slurm.schedmd.com/sched_config.html#backfill), i.e. it will make your simulation finish faster while helping to optimally utilize the cluster you run on.\n",
    "\n",
    "You can also define a maximum number of integration steps to perform to avoid that trials get stuck in unknown metastable states via the `max_steps` argument.\n",
    "\n",
    "If you are not using a gromacs engine, you might need to change the `full_precision_traj_type` argument from its default value of `\"trr\"` to something your engine can use as a full precision format (including velocities and positions)."
   ]
  },
  {
   "cell_type": "code",
   "execution_count": 8,
   "metadata": {
    "tags": []
   },
   "outputs": [
    {
     "name": "stdout",
     "output_type": "stream",
     "text": [
      "The reference temperature ('ref-t') in the mdp file is: [300.0, 300.0].\n"
     ]
    }
   ],
   "source": [
    "# engine_kwargs for asyncmd.gromacs.GmxEngine\n",
    "gro = \"gmx_infiles/conf.gro\"\n",
    "top = \"gmx_infiles/topol_amber99sbildn.top\"\n",
    "ndx = \"gmx_infiles/index.ndx\"\n",
    "mdp = async_gmx.MDP(\"gmx_infiles/md.mdp\")\n",
    "print(f\"The reference temperature ('ref-t') in the mdp file is: {mdp['ref-t']}.\")\n",
    "# put them in a dictionary\n",
    "engine_kwargs = {\"mdconfig\": mdp, \"gro_file\":gro,\n",
    "                 \"top_file\":top, \"ndx_file\":ndx,\n",
    "                 \"mdrun_extra_args\": \"-nt 2\",\n",
    "                 \"output_traj_type\": \"XTC\",\n",
    "                 }\n",
    "\n",
    "# and initialize the CommittorEngineSpec dataclass\n",
    "committor_engine_spec = CommittorEngineSpec(\n",
    "                                engine_cls=async_gmx.GmxEngine,\n",
    "                                engine_kwargs=engine_kwargs,\n",
    "                                walltime_per_part=0.2/360,  # 0.2 s per part\n",
    "                                )"
   ]
  },
  {
   "cell_type": "markdown",
   "metadata": {},
   "source": [
    "### Initialize the `CommittorSimulation`\n",
    "\n",
    "Here we will initialize the `CommittorSimulation` using our previously defined states, configurations, and engine specification.\n",
    "\n",
    "Note that you can set all attributes of the `CommittorSimulation` (e.g. how many retries to perform in various cases `max_retries_on_max_steps`/`max_retries_on_crash`, the directory names `directory_forward`/`directory_backward`/etc., or the names of the output trajectory files `fileout_trajectory_to_state`/`fileout_trajectory_to_state_backwards`/`fileout_transition_trajectory`/etc.) at initialization time by passing them as keyword arguments with the respective values you want to use.\n",
    "\n",
    "Also note that the `CommittorSimulation` allows the simulation of different physical ensembles for different starting configurations.\n",
    "To this end the `CommittorSimulation` allows to vary some of the simulation parameters on a per configuration basis.\n",
    "These can be either a list of values (length must then be equal to the number of `configurations`) or a single value.\n",
    "This means you can simulate systems differing in the number of molecules, at different pressures, or at different temperatures (by using different :class:`CommittorEngineSpec`) and even perform two way trials only for a selected subset of configurations (e.g. the ones you expect to be a transition state)."
   ]
  },
  {
   "cell_type": "code",
   "execution_count": 9,
   "metadata": {},
   "outputs": [
    {
     "name": "stderr",
     "output_type": "stream",
     "text": [
      "WARNING:aimmd.distributed.committors:Working directory (workdir=../../../../../../scratch/aimmd_distributed/Committors_capped_alanine) does not exist.We will create it when we need it.\n"
     ]
    }
   ],
   "source": [
    "# here we simply use the same engine specification (and temperature) for all configurations,\n",
    "# i.e. all molecular dynamics simulations of this committor simulation use the same MD integration options\n",
    "simulation = CommittorSimulation(workdir=workdir,\n",
    "                                 configurations=starting_confs,\n",
    "                                 states=[wrapped_alphaR, wrapped_C7_eq],\n",
    "                                 temperature=mdp[\"ref-t\"][0],\n",
    "                                 committor_engine_spec=committor_engine_spec,\n",
    "                                 # if we would want to, e.g. change max_retries_on_max_steps:\n",
    "                                 #max_retries_on_max_steps=2,\n",
    "                                 )"
   ]
  },
  {
   "cell_type": "markdown",
   "metadata": {},
   "source": [
    "## Run the `CommittorSimulation`"
   ]
  },
  {
   "cell_type": "code",
   "execution_count": 10,
   "metadata": {
    "tags": []
   },
   "outputs": [
    {
     "name": "stderr",
     "output_type": "stream",
     "text": [
      "100%|██████████| 100/100 [00:36<00:00,  2.77it/s]\n"
     ]
    }
   ],
   "source": [
    "# now run the simulation for 10 shots per configuration\n",
    "# run at most 20 trials simultaneously\n",
    "await simulation.run(10, n_max_concurrent=20)"
   ]
  },
  {
   "cell_type": "markdown",
   "metadata": {},
   "source": [
    "## Analyze and plot the results"
   ]
  },
  {
   "cell_type": "markdown",
   "metadata": {},
   "source": [
    "### Plot committor estimates for every starting configuration\n",
    "\n",
    "The `states_reached` (and `states_reached_backward`) attributes of the `CommittorSimulation` aggregate the shooting statistics for every starting structure as numpy arrays."
   ]
  },
  {
   "cell_type": "code",
   "execution_count": 11,
   "metadata": {},
   "outputs": [
    {
     "data": {
      "image/png": "[encoded data removed]",
      "text/plain": [
       "<Figure size 1000x600 with 2 Axes>"
      ]
     },
     "metadata": {},
     "output_type": "display_data"
    }
   ],
   "source": [
    "# states_reached already aggregates the result for the same starting configuration\n",
    "# it therefore has shape = (n_conf, n_states)\n",
    "n_conf, n_states = simulation.states_reached.shape\n",
    "\n",
    "# get a colorbar and a normalize instance to have different colors for starting structure\n",
    "#cmap = matplotlib.colormaps.get_cmap(\"viridis\")\n",
    "cmap = matplotlib.colormaps.get_cmap(\"tab10\")\n",
    "norm = matplotlib.colors.Normalize(vmin=0, vmax=n_conf-1)\n",
    "\n",
    "fig, axs = plt.subplots(figsize=(10,6), nrows=n_states, sharex=True)\n",
    "for snum, (ax, name) in enumerate(zip(axs, [r\"$\\alpha_R$\", r\"$C7_{eq}$\"])):\n",
    "    ax.set_title(f\"Committor towards state {snum} ({name})\")\n",
    "    ax.scatter(x=np.arange(n_conf),\n",
    "               y=simulation.states_reached[:, snum] / np.sum(simulation.states_reached, axis=1),\n",
    "               c=cmap(norm(np.arange(n_conf))),\n",
    "               )\n",
    "    ax.set_ylim(-0.1, 1.1)\n",
    "    ax.set_ylabel(f\"$p_{{S{snum}}}$\")\n",
    "    if snum == 1:\n",
    "        ax.set_xlabel(\"Configuration index\")"
   ]
  },
  {
   "cell_type": "markdown",
   "metadata": {
    "tags": []
   },
   "source": [
    "### Plot results for every shot separately\n",
    "\n",
    "The attributes `states_reached_per_trial` (and `states_reached_per_trial_backward`) perform no aggregation, i.e., they contain the results for every trial separately."
   ]
  },
  {
   "cell_type": "code",
   "execution_count": 12,
   "metadata": {
    "tags": []
   },
   "outputs": [
    {
     "data": {
      "image/png": "[encoded data removed]",
      "text/plain": [
       "<Figure size 1000x500 with 1 Axes>"
      ]
     },
     "metadata": {},
     "output_type": "display_data"
    }
   ],
   "source": [
    "fig, axs = plt.subplots(figsize=(10, 5))\n",
    "\n",
    "# look at the shooting results per stucture and trial,\n",
    "# i.e. it has shape = (n_conf, n_trial, n_states)\n",
    "# it can be accessed as `CommittorSimulation.states_reached_per_trial`\n",
    "n_conf, n_trial, n_states = simulation.states_reached_per_trial.shape\n",
    "xses_per_conf = np.arange(0, n_trial)\n",
    "\n",
    "for cnum, states_reached_per_conf in enumerate(simulation.states_reached_per_trial):\n",
    "    plot_vals = np.full((n_trial,), np.nan)  # fill with nan values to plot nothing\n",
    "    # get the idxs of the shot and idx of the state each shot reached\n",
    "    idxs, state = np.where(states_reached_per_conf)\n",
    "    plot_vals[idxs] = state  # and plot only where we reached the given state\n",
    "    axs.scatter(x=xses_per_conf + (n_trial * cnum),\n",
    "                y=plot_vals,\n",
    "                color=cmap(norm(cnum)),\n",
    "                )\n",
    "\n",
    "axs.set_yticks([i for i in range(n_states)])\n",
    "axs.set_yticklabels([r\"$\\alpha_R$\", r\"$C7_{eq}$\"], size=14)\n",
    "axs.set_xticks([n_trial * i for i in range(n_conf + 1)],\n",
    "               [str(i) for i in range(n_conf + 1)])\n",
    "axs.set_xlabel(\"Configuration index\", size=14)\n",
    "axs.set_ylabel(\"State reached\", size=14);"
   ]
  },
  {
   "cell_type": "markdown",
   "metadata": {},
   "source": [
    "## Add \"backward\" trials to generate initial transitions\n",
    "\n",
    "We will now add the conjugate \"backward\" trials for the most promising configurations, i.e. those with shots that reached both states.\n",
    "\n",
    "To this end we will simply set the `two_way` attribute to a list with bool values.\n",
    "In this list we set `True` for the configurations with $0.25 < p_{C7_{eq}} < 0.75$, i.e. those we want to perform two way trials for.\n",
    "After this we only need to call the `add_missing_backward_trials` method and the `CommittorSimulation` will add the backward trials for the configurations we requested.\n",
    "\n",
    "In addition to adding the missing backwards trials, this will also write out any potentially generated transitions as one concatenated trajectory from the lower index state to the higher index state (the trajectory will start with the first frame in a state and end last frame in another state).\n",
    "\n",
    "The two way trial propagation can be used to generate initial transitions, e.g. for a subsequent transition path sampling simulation.\n",
    "Note however, that this is usually only worth spending computational effort for configurations that have an roughly equal probability to reach both/multiple states, i.e. for potential transition states.\n",
    "It is therefore advisable to perform a similar workflow as we do here, where two way trials are only performed after an initial committor simulation to identify worthwhile candidates.\n",
    "\n",
    "Another potential use-case for two way trials is to asses how diffusive the dynamics of the molecular system is, i.e., how correlated the forward and backward realizations are."
   ]
  },
  {
   "cell_type": "code",
   "execution_count": 13,
   "metadata": {},
   "outputs": [
    {
     "name": "stderr",
     "output_type": "stream",
     "text": [
      "WARNING:aimmd.distributed.committors:Changing two_way after trials have been performed. Please call `add_missing_backward_trials` method to ensure consistency.\n"
     ]
    },
    {
     "name": "stdout",
     "output_type": "stream",
     "text": [
      "Will perform two way trials for configurations with the following indices:  (array([5, 6, 7]),)\n"
     ]
    }
   ],
   "source": [
    "# estimate probability to reach C7_eq\n",
    "p_c7_eq = simulation.states_reached[:, 1] / np.sum(simulation.states_reached, axis=1)\n",
    "print(\"Will perform two way trials for configurations with the following indices: \",\n",
    "      np.where((0.25 < p_c7_eq) & (p_c7_eq < 0.75)),\n",
    "      )\n",
    "\n",
    "# set two_way=True for the respective configurations\n",
    "two_way = [False for _ in range(len(simulation.configurations))]\n",
    "for idx in np.where((0.25 < p_c7_eq) & (p_c7_eq < 0.75))[0]:\n",
    "    two_way[idx] = True\n",
    "\n",
    "simulation.two_way = two_way"
   ]
  },
  {
   "cell_type": "code",
   "execution_count": 14,
   "metadata": {},
   "outputs": [
    {
     "name": "stderr",
     "output_type": "stream",
     "text": [
      "100%|██████████| 100/100 [00:12<00:00,  7.87it/s]\n"
     ]
    }
   ],
   "source": [
    "# now add the missing backward trials\n",
    "await simulation.add_missing_backward_trials()"
   ]
  },
  {
   "cell_type": "code",
   "execution_count": 15,
   "metadata": {},
   "outputs": [
    {
     "data": {
      "text/plain": [
       "array([[0., 0.],\n",
       "       [0., 0.],\n",
       "       [0., 0.],\n",
       "       [0., 0.],\n",
       "       [0., 0.],\n",
       "       [5., 5.],\n",
       "       [8., 2.],\n",
       "       [2., 8.],\n",
       "       [0., 0.],\n",
       "       [0., 0.]])"
      ]
     },
     "execution_count": 15,
     "metadata": {},
     "output_type": "execute_result"
    }
   ],
   "source": [
    "# now the states_reached_backward property will also contain non-zero values\n",
    "simulation.states_reached_backward"
   ]
  },
  {
   "cell_type": "markdown",
   "metadata": {},
   "source": [
    "## Accessing the generated trajectories\n",
    "\n",
    "The concatenated output trajectories until a state is reached and the (potentially) generated transition trajectories can all be found inside the respective trial folders, however they can also be accessed from python via the properties `trajectories_to_state`, `trajectories_to_state_backward` and `transition_trajectories`.\n",
    "Each of these will return a list of list, where the outer list corresponds to configurations and the inner list to the trials for that respective configuration."
   ]
  },
  {
   "cell_type": "code",
   "execution_count": 16,
   "metadata": {},
   "outputs": [
    {
     "name": "stdout",
     "output_type": "stream",
     "text": [
      "Trajectories to state:  [[Trajectory(trajectory_files=../../../../../../scratch/aimmd_distributed/Committors_capped_alanine/frame4_from_low_barrier_transition/trial_0/trajectory_to_state.xtc, structure_file=gmx_infiles/conf.gro), Trajectory(trajectory_files=../../../../../../scratch/aimmd_distributed/Committors_capped_alanine/frame4_from_low_barrier_transition/trial_1/trajectory_to_state.xtc, structure_file=gmx_infiles/conf.gro), Trajectory(trajectory_files=../../../../../../scratch/aimmd_distributed/Committors_capped_alanine/frame4_from_low_barrier_transition/trial_2/trajectory_to_state.xtc, structure_file=gmx_infiles/conf.gro), Trajectory(trajectory_files=../../../../../../scratch/aimmd_distributed/Committors_capped_alanine/frame4_from_low_barrier_transition/trial_3/trajectory_to_state.xtc, structure_file=gmx_infiles/conf.gro), Trajectory(trajectory_files=../../../../../../scratch/aimmd_distributed/Committors_capped_alanine/frame4_from_low_barrier_transition/trial_4/trajectory_to_state.xtc, structure_file=gmx_infiles/conf.gro), Trajectory(trajectory_files=../../../../../../scratch/aimmd_distributed/Committors_capped_alanine/frame4_from_low_barrier_transition/trial_5/trajectory_to_state.xtc, structure_file=gmx_infiles/conf.gro), Trajectory(trajectory_files=../../../../../../scratch/aimmd_distributed/Committors_capped_alanine/frame4_from_low_barrier_transition/trial_6/trajectory_to_state.xtc, structure_file=gmx_infiles/conf.gro), Trajectory(trajectory_files=../../../../../../scratch/aimmd_distributed/Committors_capped_alanine/frame4_from_low_barrier_transition/trial_7/trajectory_to_state.xtc, structure_file=gmx_infiles/conf.gro), Trajectory(trajectory_files=../../../../../../scratch/aimmd_distributed/Committors_capped_alanine/frame4_from_low_barrier_transition/trial_8/trajectory_to_state.xtc, structure_file=gmx_infiles/conf.gro), Trajectory(trajectory_files=../../../../../../scratch/aimmd_distributed/Committors_capped_alanine/frame4_from_low_barrier_transition/trial_9/trajectory_to_state.xtc, structure_file=gmx_infiles/conf.gro)], [Trajectory(trajectory_files=../../../../../../scratch/aimmd_distributed/Committors_capped_alanine/frame14_from_low_barrier_transition/trial_0/trajectory_to_state.xtc, structure_file=gmx_infiles/conf.gro), Trajectory(trajectory_files=../../../../../../scratch/aimmd_distributed/Committors_capped_alanine/frame14_from_low_barrier_transition/trial_1/trajectory_to_state.xtc, structure_file=gmx_infiles/conf.gro), Trajectory(trajectory_files=../../../../../../scratch/aimmd_distributed/Committors_capped_alanine/frame14_from_low_barrier_transition/trial_2/trajectory_to_state.xtc, structure_file=gmx_infiles/conf.gro), Trajectory(trajectory_files=../../../../../../scratch/aimmd_distributed/Committors_capped_alanine/frame14_from_low_barrier_transition/trial_3/trajectory_to_state.xtc, structure_file=gmx_infiles/conf.gro), Trajectory(trajectory_files=../../../../../../scratch/aimmd_distributed/Committors_capped_alanine/frame14_from_low_barrier_transition/trial_4/trajectory_to_state.xtc, structure_file=gmx_infiles/conf.gro), Trajectory(trajectory_files=../../../../../../scratch/aimmd_distributed/Committors_capped_alanine/frame14_from_low_barrier_transition/trial_5/trajectory_to_state.xtc, structure_file=gmx_infiles/conf.gro), Trajectory(trajectory_files=../../../../../../scratch/aimmd_distributed/Committors_capped_alanine/frame14_from_low_barrier_transition/trial_6/trajectory_to_state.xtc, structure_file=gmx_infiles/conf.gro), Trajectory(trajectory_files=../../../../../../scratch/aimmd_distributed/Committors_capped_alanine/frame14_from_low_barrier_transition/trial_7/trajectory_to_state.xtc, structure_file=gmx_infiles/conf.gro), Trajectory(trajectory_files=../../../../../../scratch/aimmd_distributed/Committors_capped_alanine/frame14_from_low_barrier_transition/trial_8/trajectory_to_state.xtc, structure_file=gmx_infiles/conf.gro), Trajectory(trajectory_files=../../../../../../scratch/aimmd_distributed/Committors_capped_alanine/frame14_from_low_barrier_transition/trial_9/trajectory_to_state.xtc, structure_file=gmx_infiles/conf.gro)], [Trajectory(trajectory_files=../../../../../../scratch/aimmd_distributed/Committors_capped_alanine/frame24_from_low_barrier_transition/trial_0/trajectory_to_state.xtc, structure_file=gmx_infiles/conf.gro), Trajectory(trajectory_files=../../../../../../scratch/aimmd_distributed/Committors_capped_alanine/frame24_from_low_barrier_transition/trial_1/trajectory_to_state.xtc, structure_file=gmx_infiles/conf.gro), Trajectory(trajectory_files=../../../../../../scratch/aimmd_distributed/Committors_capped_alanine/frame24_from_low_barrier_transition/trial_2/trajectory_to_state.xtc, structure_file=gmx_infiles/conf.gro), Trajectory(trajectory_files=../../../../../../scratch/aimmd_distributed/Committors_capped_alanine/frame24_from_low_barrier_transition/trial_3/trajectory_to_state.xtc, structure_file=gmx_infiles/conf.gro), Trajectory(trajectory_files=../../../../../../scratch/aimmd_distributed/Committors_capped_alanine/frame24_from_low_barrier_transition/trial_4/trajectory_to_state.xtc, structure_file=gmx_infiles/conf.gro), Trajectory(trajectory_files=../../../../../../scratch/aimmd_distributed/Committors_capped_alanine/frame24_from_low_barrier_transition/trial_5/trajectory_to_state.xtc, structure_file=gmx_infiles/conf.gro), Trajectory(trajectory_files=../../../../../../scratch/aimmd_distributed/Committors_capped_alanine/frame24_from_low_barrier_transition/trial_6/trajectory_to_state.xtc, structure_file=gmx_infiles/conf.gro), Trajectory(trajectory_files=../../../../../../scratch/aimmd_distributed/Committors_capped_alanine/frame24_from_low_barrier_transition/trial_7/trajectory_to_state.xtc, structure_file=gmx_infiles/conf.gro), Trajectory(trajectory_files=../../../../../../scratch/aimmd_distributed/Committors_capped_alanine/frame24_from_low_barrier_transition/trial_8/trajectory_to_state.xtc, structure_file=gmx_infiles/conf.gro), Trajectory(trajectory_files=../../../../../../scratch/aimmd_distributed/Committors_capped_alanine/frame24_from_low_barrier_transition/trial_9/trajectory_to_state.xtc, structure_file=gmx_infiles/conf.gro)], [Trajectory(trajectory_files=../../../../../../scratch/aimmd_distributed/Committors_capped_alanine/frame34_from_low_barrier_transition/trial_0/trajectory_to_state.xtc, structure_file=gmx_infiles/conf.gro), Trajectory(trajectory_files=../../../../../../scratch/aimmd_distributed/Committors_capped_alanine/frame34_from_low_barrier_transition/trial_1/trajectory_to_state.xtc, structure_file=gmx_infiles/conf.gro), Trajectory(trajectory_files=../../../../../../scratch/aimmd_distributed/Committors_capped_alanine/frame34_from_low_barrier_transition/trial_2/trajectory_to_state.xtc, structure_file=gmx_infiles/conf.gro), Trajectory(trajectory_files=../../../../../../scratch/aimmd_distributed/Committors_capped_alanine/frame34_from_low_barrier_transition/trial_3/trajectory_to_state.xtc, structure_file=gmx_infiles/conf.gro), Trajectory(trajectory_files=../../../../../../scratch/aimmd_distributed/Committors_capped_alanine/frame34_from_low_barrier_transition/trial_4/trajectory_to_state.xtc, structure_file=gmx_infiles/conf.gro), Trajectory(trajectory_files=../../../../../../scratch/aimmd_distributed/Committors_capped_alanine/frame34_from_low_barrier_transition/trial_5/trajectory_to_state.xtc, structure_file=gmx_infiles/conf.gro), Trajectory(trajectory_files=../../../../../../scratch/aimmd_distributed/Committors_capped_alanine/frame34_from_low_barrier_transition/trial_6/trajectory_to_state.xtc, structure_file=gmx_infiles/conf.gro), Trajectory(trajectory_files=../../../../../../scratch/aimmd_distributed/Committors_capped_alanine/frame34_from_low_barrier_transition/trial_7/trajectory_to_state.xtc, structure_file=gmx_infiles/conf.gro), Trajectory(trajectory_files=../../../../../../scratch/aimmd_distributed/Committors_capped_alanine/frame34_from_low_barrier_transition/trial_8/trajectory_to_state.xtc, structure_file=gmx_infiles/conf.gro), Trajectory(trajectory_files=../../../../../../scratch/aimmd_distributed/Committors_capped_alanine/frame34_from_low_barrier_transition/trial_9/trajectory_to_state.xtc, structure_file=gmx_infiles/conf.gro)], [Trajectory(trajectory_files=../../../../../../scratch/aimmd_distributed/Committors_capped_alanine/frame44_from_low_barrier_transition/trial_9/trajectory_to_state.xtc, structure_file=gmx_infiles/conf.gro), Trajectory(trajectory_files=../../../../../../scratch/aimmd_distributed/Committors_capped_alanine/frame44_from_low_barrier_transition/trial_9/trajectory_to_state.xtc, structure_file=gmx_infiles/conf.gro), Trajectory(trajectory_files=../../../../../../scratch/aimmd_distributed/Committors_capped_alanine/frame44_from_low_barrier_transition/trial_9/trajectory_to_state.xtc, structure_file=gmx_infiles/conf.gro), Trajectory(trajectory_files=../../../../../../scratch/aimmd_distributed/Committors_capped_alanine/frame44_from_low_barrier_transition/trial_9/trajectory_to_state.xtc, structure_file=gmx_infiles/conf.gro), Trajectory(trajectory_files=../../../../../../scratch/aimmd_distributed/Committors_capped_alanine/frame44_from_low_barrier_transition/trial_9/trajectory_to_state.xtc, structure_file=gmx_infiles/conf.gro), Trajectory(trajectory_files=../../../../../../scratch/aimmd_distributed/Committors_capped_alanine/frame44_from_low_barrier_transition/trial_9/trajectory_to_state.xtc, structure_file=gmx_infiles/conf.gro), Trajectory(trajectory_files=../../../../../../scratch/aimmd_distributed/Committors_capped_alanine/frame44_from_low_barrier_transition/trial_9/trajectory_to_state.xtc, structure_file=gmx_infiles/conf.gro), Trajectory(trajectory_files=../../../../../../scratch/aimmd_distributed/Committors_capped_alanine/frame44_from_low_barrier_transition/trial_9/trajectory_to_state.xtc, structure_file=gmx_infiles/conf.gro), Trajectory(trajectory_files=../../../../../../scratch/aimmd_distributed/Committors_capped_alanine/frame44_from_low_barrier_transition/trial_9/trajectory_to_state.xtc, structure_file=gmx_infiles/conf.gro), Trajectory(trajectory_files=../../../../../../scratch/aimmd_distributed/Committors_capped_alanine/frame44_from_low_barrier_transition/trial_9/trajectory_to_state.xtc, structure_file=gmx_infiles/conf.gro)], [Trajectory(trajectory_files=../../../../../../scratch/aimmd_distributed/Committors_capped_alanine/frame54_from_low_barrier_transition/trial_0/trajectory_to_state.xtc, structure_file=gmx_infiles/conf.gro), Trajectory(trajectory_files=../../../../../../scratch/aimmd_distributed/Committors_capped_alanine/frame54_from_low_barrier_transition/trial_1/trajectory_to_state.xtc, structure_file=gmx_infiles/conf.gro), Trajectory(trajectory_files=../../../../../../scratch/aimmd_distributed/Committors_capped_alanine/frame54_from_low_barrier_transition/trial_2/trajectory_to_state.xtc, structure_file=gmx_infiles/conf.gro), Trajectory(trajectory_files=../../../../../../scratch/aimmd_distributed/Committors_capped_alanine/frame54_from_low_barrier_transition/trial_3/trajectory_to_state.xtc, structure_file=gmx_infiles/conf.gro), Trajectory(trajectory_files=../../../../../../scratch/aimmd_distributed/Committors_capped_alanine/frame54_from_low_barrier_transition/trial_4/trajectory_to_state.xtc, structure_file=gmx_infiles/conf.gro), Trajectory(trajectory_files=../../../../../../scratch/aimmd_distributed/Committors_capped_alanine/frame54_from_low_barrier_transition/trial_5/trajectory_to_state.xtc, structure_file=gmx_infiles/conf.gro), Trajectory(trajectory_files=../../../../../../scratch/aimmd_distributed/Committors_capped_alanine/frame54_from_low_barrier_transition/trial_6/trajectory_to_state.xtc, structure_file=gmx_infiles/conf.gro), Trajectory(trajectory_files=../../../../../../scratch/aimmd_distributed/Committors_capped_alanine/frame54_from_low_barrier_transition/trial_7/trajectory_to_state.xtc, structure_file=gmx_infiles/conf.gro), Trajectory(trajectory_files=../../../../../../scratch/aimmd_distributed/Committors_capped_alanine/frame54_from_low_barrier_transition/trial_8/trajectory_to_state.xtc, structure_file=gmx_infiles/conf.gro), Trajectory(trajectory_files=../../../../../../scratch/aimmd_distributed/Committors_capped_alanine/frame54_from_low_barrier_transition/trial_9/trajectory_to_state.xtc, structure_file=gmx_infiles/conf.gro)], [Trajectory(trajectory_files=../../../../../../scratch/aimmd_distributed/Committors_capped_alanine/frame64_from_low_barrier_transition/trial_0/trajectory_to_state.xtc, structure_file=gmx_infiles/conf.gro), Trajectory(trajectory_files=../../../../../../scratch/aimmd_distributed/Committors_capped_alanine/frame64_from_low_barrier_transition/trial_1/trajectory_to_state.xtc, structure_file=gmx_infiles/conf.gro), Trajectory(trajectory_files=../../../../../../scratch/aimmd_distributed/Committors_capped_alanine/frame64_from_low_barrier_transition/trial_2/trajectory_to_state.xtc, structure_file=gmx_infiles/conf.gro), Trajectory(trajectory_files=../../../../../../scratch/aimmd_distributed/Committors_capped_alanine/frame64_from_low_barrier_transition/trial_3/trajectory_to_state.xtc, structure_file=gmx_infiles/conf.gro), Trajectory(trajectory_files=../../../../../../scratch/aimmd_distributed/Committors_capped_alanine/frame64_from_low_barrier_transition/trial_4/trajectory_to_state.xtc, structure_file=gmx_infiles/conf.gro), Trajectory(trajectory_files=../../../../../../scratch/aimmd_distributed/Committors_capped_alanine/frame64_from_low_barrier_transition/trial_5/trajectory_to_state.xtc, structure_file=gmx_infiles/conf.gro), Trajectory(trajectory_files=../../../../../../scratch/aimmd_distributed/Committors_capped_alanine/frame64_from_low_barrier_transition/trial_6/trajectory_to_state.xtc, structure_file=gmx_infiles/conf.gro), Trajectory(trajectory_files=../../../../../../scratch/aimmd_distributed/Committors_capped_alanine/frame64_from_low_barrier_transition/trial_7/trajectory_to_state.xtc, structure_file=gmx_infiles/conf.gro), Trajectory(trajectory_files=../../../../../../scratch/aimmd_distributed/Committors_capped_alanine/frame64_from_low_barrier_transition/trial_8/trajectory_to_state.xtc, structure_file=gmx_infiles/conf.gro), Trajectory(trajectory_files=../../../../../../scratch/aimmd_distributed/Committors_capped_alanine/frame64_from_low_barrier_transition/trial_9/trajectory_to_state.xtc, structure_file=gmx_infiles/conf.gro)], [Trajectory(trajectory_files=../../../../../../scratch/aimmd_distributed/Committors_capped_alanine/frame74_from_low_barrier_transition/trial_0/trajectory_to_state.xtc, structure_file=gmx_infiles/conf.gro), Trajectory(trajectory_files=../../../../../../scratch/aimmd_distributed/Committors_capped_alanine/frame74_from_low_barrier_transition/trial_1/trajectory_to_state.xtc, structure_file=gmx_infiles/conf.gro), Trajectory(trajectory_files=../../../../../../scratch/aimmd_distributed/Committors_capped_alanine/frame74_from_low_barrier_transition/trial_2/trajectory_to_state.xtc, structure_file=gmx_infiles/conf.gro), Trajectory(trajectory_files=../../../../../../scratch/aimmd_distributed/Committors_capped_alanine/frame74_from_low_barrier_transition/trial_3/trajectory_to_state.xtc, structure_file=gmx_infiles/conf.gro), Trajectory(trajectory_files=../../../../../../scratch/aimmd_distributed/Committors_capped_alanine/frame74_from_low_barrier_transition/trial_4/trajectory_to_state.xtc, structure_file=gmx_infiles/conf.gro), Trajectory(trajectory_files=../../../../../../scratch/aimmd_distributed/Committors_capped_alanine/frame74_from_low_barrier_transition/trial_5/trajectory_to_state.xtc, structure_file=gmx_infiles/conf.gro), Trajectory(trajectory_files=../../../../../../scratch/aimmd_distributed/Committors_capped_alanine/frame74_from_low_barrier_transition/trial_6/trajectory_to_state.xtc, structure_file=gmx_infiles/conf.gro), Trajectory(trajectory_files=../../../../../../scratch/aimmd_distributed/Committors_capped_alanine/frame74_from_low_barrier_transition/trial_7/trajectory_to_state.xtc, structure_file=gmx_infiles/conf.gro), Trajectory(trajectory_files=../../../../../../scratch/aimmd_distributed/Committors_capped_alanine/frame74_from_low_barrier_transition/trial_8/trajectory_to_state.xtc, structure_file=gmx_infiles/conf.gro), Trajectory(trajectory_files=../../../../../../scratch/aimmd_distributed/Committors_capped_alanine/frame74_from_low_barrier_transition/trial_9/trajectory_to_state.xtc, structure_file=gmx_infiles/conf.gro)], [Trajectory(trajectory_files=../../../../../../scratch/aimmd_distributed/Committors_capped_alanine/frame84_from_low_barrier_transition/trial_0/trajectory_to_state.xtc, structure_file=gmx_infiles/conf.gro), Trajectory(trajectory_files=../../../../../../scratch/aimmd_distributed/Committors_capped_alanine/frame84_from_low_barrier_transition/trial_1/trajectory_to_state.xtc, structure_file=gmx_infiles/conf.gro), Trajectory(trajectory_files=../../../../../../scratch/aimmd_distributed/Committors_capped_alanine/frame84_from_low_barrier_transition/trial_2/trajectory_to_state.xtc, structure_file=gmx_infiles/conf.gro), Trajectory(trajectory_files=../../../../../../scratch/aimmd_distributed/Committors_capped_alanine/frame84_from_low_barrier_transition/trial_3/trajectory_to_state.xtc, structure_file=gmx_infiles/conf.gro), Trajectory(trajectory_files=../../../../../../scratch/aimmd_distributed/Committors_capped_alanine/frame84_from_low_barrier_transition/trial_4/trajectory_to_state.xtc, structure_file=gmx_infiles/conf.gro), Trajectory(trajectory_files=../../../../../../scratch/aimmd_distributed/Committors_capped_alanine/frame84_from_low_barrier_transition/trial_5/trajectory_to_state.xtc, structure_file=gmx_infiles/conf.gro), Trajectory(trajectory_files=../../../../../../scratch/aimmd_distributed/Committors_capped_alanine/frame84_from_low_barrier_transition/trial_6/trajectory_to_state.xtc, structure_file=gmx_infiles/conf.gro), Trajectory(trajectory_files=../../../../../../scratch/aimmd_distributed/Committors_capped_alanine/frame84_from_low_barrier_transition/trial_7/trajectory_to_state.xtc, structure_file=gmx_infiles/conf.gro), Trajectory(trajectory_files=../../../../../../scratch/aimmd_distributed/Committors_capped_alanine/frame84_from_low_barrier_transition/trial_8/trajectory_to_state.xtc, structure_file=gmx_infiles/conf.gro), Trajectory(trajectory_files=../../../../../../scratch/aimmd_distributed/Committors_capped_alanine/frame84_from_low_barrier_transition/trial_9/trajectory_to_state.xtc, structure_file=gmx_infiles/conf.gro)], [Trajectory(trajectory_files=../../../../../../scratch/aimmd_distributed/Committors_capped_alanine/frame94_from_low_barrier_transition/trial_0/trajectory_to_state.xtc, structure_file=gmx_infiles/conf.gro), Trajectory(trajectory_files=../../../../../../scratch/aimmd_distributed/Committors_capped_alanine/frame94_from_low_barrier_transition/trial_1/trajectory_to_state.xtc, structure_file=gmx_infiles/conf.gro), Trajectory(trajectory_files=../../../../../../scratch/aimmd_distributed/Committors_capped_alanine/frame94_from_low_barrier_transition/trial_2/trajectory_to_state.xtc, structure_file=gmx_infiles/conf.gro), Trajectory(trajectory_files=../../../../../../scratch/aimmd_distributed/Committors_capped_alanine/frame94_from_low_barrier_transition/trial_3/trajectory_to_state.xtc, structure_file=gmx_infiles/conf.gro), Trajectory(trajectory_files=../../../../../../scratch/aimmd_distributed/Committors_capped_alanine/frame94_from_low_barrier_transition/trial_4/trajectory_to_state.xtc, structure_file=gmx_infiles/conf.gro), Trajectory(trajectory_files=../../../../../../scratch/aimmd_distributed/Committors_capped_alanine/frame94_from_low_barrier_transition/trial_5/trajectory_to_state.xtc, structure_file=gmx_infiles/conf.gro), Trajectory(trajectory_files=../../../../../../scratch/aimmd_distributed/Committors_capped_alanine/frame94_from_low_barrier_transition/trial_6/trajectory_to_state.xtc, structure_file=gmx_infiles/conf.gro), Trajectory(trajectory_files=../../../../../../scratch/aimmd_distributed/Committors_capped_alanine/frame94_from_low_barrier_transition/trial_7/trajectory_to_state.xtc, structure_file=gmx_infiles/conf.gro), Trajectory(trajectory_files=../../../../../../scratch/aimmd_distributed/Committors_capped_alanine/frame94_from_low_barrier_transition/trial_8/trajectory_to_state.xtc, structure_file=gmx_infiles/conf.gro), Trajectory(trajectory_files=../../../../../../scratch/aimmd_distributed/Committors_capped_alanine/frame94_from_low_barrier_transition/trial_9/trajectory_to_state.xtc, structure_file=gmx_infiles/conf.gro)]]\n",
      "Trajectories to state backward:  [[], [], [], [], [], [Trajectory(trajectory_files=../../../../../../scratch/aimmd_distributed/Committors_capped_alanine/frame54_from_low_barrier_transition/trial_0/trajectory_to_state_backward.xtc, structure_file=gmx_infiles/conf.gro), Trajectory(trajectory_files=../../../../../../scratch/aimmd_distributed/Committors_capped_alanine/frame54_from_low_barrier_transition/trial_1/trajectory_to_state_backward.xtc, structure_file=gmx_infiles/conf.gro), Trajectory(trajectory_files=../../../../../../scratch/aimmd_distributed/Committors_capped_alanine/frame54_from_low_barrier_transition/trial_2/trajectory_to_state_backward.xtc, structure_file=gmx_infiles/conf.gro), Trajectory(trajectory_files=../../../../../../scratch/aimmd_distributed/Committors_capped_alanine/frame54_from_low_barrier_transition/trial_3/trajectory_to_state_backward.xtc, structure_file=gmx_infiles/conf.gro), Trajectory(trajectory_files=../../../../../../scratch/aimmd_distributed/Committors_capped_alanine/frame54_from_low_barrier_transition/trial_4/trajectory_to_state_backward.xtc, structure_file=gmx_infiles/conf.gro), Trajectory(trajectory_files=../../../../../../scratch/aimmd_distributed/Committors_capped_alanine/frame54_from_low_barrier_transition/trial_5/trajectory_to_state_backward.xtc, structure_file=gmx_infiles/conf.gro), Trajectory(trajectory_files=../../../../../../scratch/aimmd_distributed/Committors_capped_alanine/frame54_from_low_barrier_transition/trial_6/trajectory_to_state_backward.xtc, structure_file=gmx_infiles/conf.gro), Trajectory(trajectory_files=../../../../../../scratch/aimmd_distributed/Committors_capped_alanine/frame54_from_low_barrier_transition/trial_7/trajectory_to_state_backward.xtc, structure_file=gmx_infiles/conf.gro), Trajectory(trajectory_files=../../../../../../scratch/aimmd_distributed/Committors_capped_alanine/frame54_from_low_barrier_transition/trial_8/trajectory_to_state_backward.xtc, structure_file=gmx_infiles/conf.gro), Trajectory(trajectory_files=../../../../../../scratch/aimmd_distributed/Committors_capped_alanine/frame54_from_low_barrier_transition/trial_9/trajectory_to_state_backward.xtc, structure_file=gmx_infiles/conf.gro)], [Trajectory(trajectory_files=../../../../../../scratch/aimmd_distributed/Committors_capped_alanine/frame64_from_low_barrier_transition/trial_0/trajectory_to_state_backward.xtc, structure_file=gmx_infiles/conf.gro), Trajectory(trajectory_files=../../../../../../scratch/aimmd_distributed/Committors_capped_alanine/frame64_from_low_barrier_transition/trial_1/trajectory_to_state_backward.xtc, structure_file=gmx_infiles/conf.gro), Trajectory(trajectory_files=../../../../../../scratch/aimmd_distributed/Committors_capped_alanine/frame64_from_low_barrier_transition/trial_2/trajectory_to_state_backward.xtc, structure_file=gmx_infiles/conf.gro), Trajectory(trajectory_files=../../../../../../scratch/aimmd_distributed/Committors_capped_alanine/frame64_from_low_barrier_transition/trial_3/trajectory_to_state_backward.xtc, structure_file=gmx_infiles/conf.gro), Trajectory(trajectory_files=../../../../../../scratch/aimmd_distributed/Committors_capped_alanine/frame64_from_low_barrier_transition/trial_4/trajectory_to_state_backward.xtc, structure_file=gmx_infiles/conf.gro), Trajectory(trajectory_files=../../../../../../scratch/aimmd_distributed/Committors_capped_alanine/frame64_from_low_barrier_transition/trial_5/trajectory_to_state_backward.xtc, structure_file=gmx_infiles/conf.gro), Trajectory(trajectory_files=../../../../../../scratch/aimmd_distributed/Committors_capped_alanine/frame64_from_low_barrier_transition/trial_6/trajectory_to_state_backward.xtc, structure_file=gmx_infiles/conf.gro), Trajectory(trajectory_files=../../../../../../scratch/aimmd_distributed/Committors_capped_alanine/frame64_from_low_barrier_transition/trial_7/trajectory_to_state_backward.xtc, structure_file=gmx_infiles/conf.gro), Trajectory(trajectory_files=../../../../../../scratch/aimmd_distributed/Committors_capped_alanine/frame64_from_low_barrier_transition/trial_8/trajectory_to_state_backward.xtc, structure_file=gmx_infiles/conf.gro), Trajectory(trajectory_files=../../../../../../scratch/aimmd_distributed/Committors_capped_alanine/frame64_from_low_barrier_transition/trial_9/trajectory_to_state_backward.xtc, structure_file=gmx_infiles/conf.gro)], [Trajectory(trajectory_files=../../../../../../scratch/aimmd_distributed/Committors_capped_alanine/frame74_from_low_barrier_transition/trial_0/trajectory_to_state_backward.xtc, structure_file=gmx_infiles/conf.gro), Trajectory(trajectory_files=../../../../../../scratch/aimmd_distributed/Committors_capped_alanine/frame74_from_low_barrier_transition/trial_1/trajectory_to_state_backward.xtc, structure_file=gmx_infiles/conf.gro), Trajectory(trajectory_files=../../../../../../scratch/aimmd_distributed/Committors_capped_alanine/frame74_from_low_barrier_transition/trial_2/trajectory_to_state_backward.xtc, structure_file=gmx_infiles/conf.gro), Trajectory(trajectory_files=../../../../../../scratch/aimmd_distributed/Committors_capped_alanine/frame74_from_low_barrier_transition/trial_3/trajectory_to_state_backward.xtc, structure_file=gmx_infiles/conf.gro), Trajectory(trajectory_files=../../../../../../scratch/aimmd_distributed/Committors_capped_alanine/frame74_from_low_barrier_transition/trial_4/trajectory_to_state_backward.xtc, structure_file=gmx_infiles/conf.gro), Trajectory(trajectory_files=../../../../../../scratch/aimmd_distributed/Committors_capped_alanine/frame74_from_low_barrier_transition/trial_5/trajectory_to_state_backward.xtc, structure_file=gmx_infiles/conf.gro), Trajectory(trajectory_files=../../../../../../scratch/aimmd_distributed/Committors_capped_alanine/frame74_from_low_barrier_transition/trial_6/trajectory_to_state_backward.xtc, structure_file=gmx_infiles/conf.gro), Trajectory(trajectory_files=../../../../../../scratch/aimmd_distributed/Committors_capped_alanine/frame74_from_low_barrier_transition/trial_7/trajectory_to_state_backward.xtc, structure_file=gmx_infiles/conf.gro), Trajectory(trajectory_files=../../../../../../scratch/aimmd_distributed/Committors_capped_alanine/frame74_from_low_barrier_transition/trial_8/trajectory_to_state_backward.xtc, structure_file=gmx_infiles/conf.gro), Trajectory(trajectory_files=../../../../../../scratch/aimmd_distributed/Committors_capped_alanine/frame74_from_low_barrier_transition/trial_9/trajectory_to_state_backward.xtc, structure_file=gmx_infiles/conf.gro)], [], []]\n",
      "Transition trajectories:  [[], [], [], [], [], [Trajectory(trajectory_files=../../../../../../scratch/aimmd_distributed/Committors_capped_alanine/frame54_from_low_barrier_transition/trial_0/transition_trajectory.xtc, structure_file=gmx_infiles/conf.gro), Trajectory(trajectory_files=../../../../../../scratch/aimmd_distributed/Committors_capped_alanine/frame54_from_low_barrier_transition/trial_6/transition_trajectory.xtc, structure_file=gmx_infiles/conf.gro)], [Trajectory(trajectory_files=../../../../../../scratch/aimmd_distributed/Committors_capped_alanine/frame64_from_low_barrier_transition/trial_1/transition_trajectory.xtc, structure_file=gmx_infiles/conf.gro), Trajectory(trajectory_files=../../../../../../scratch/aimmd_distributed/Committors_capped_alanine/frame64_from_low_barrier_transition/trial_2/transition_trajectory.xtc, structure_file=gmx_infiles/conf.gro), Trajectory(trajectory_files=../../../../../../scratch/aimmd_distributed/Committors_capped_alanine/frame64_from_low_barrier_transition/trial_3/transition_trajectory.xtc, structure_file=gmx_infiles/conf.gro), Trajectory(trajectory_files=../../../../../../scratch/aimmd_distributed/Committors_capped_alanine/frame64_from_low_barrier_transition/trial_4/transition_trajectory.xtc, structure_file=gmx_infiles/conf.gro), Trajectory(trajectory_files=../../../../../../scratch/aimmd_distributed/Committors_capped_alanine/frame64_from_low_barrier_transition/trial_5/transition_trajectory.xtc, structure_file=gmx_infiles/conf.gro), Trajectory(trajectory_files=../../../../../../scratch/aimmd_distributed/Committors_capped_alanine/frame64_from_low_barrier_transition/trial_8/transition_trajectory.xtc, structure_file=gmx_infiles/conf.gro)], [Trajectory(trajectory_files=../../../../../../scratch/aimmd_distributed/Committors_capped_alanine/frame74_from_low_barrier_transition/trial_0/transition_trajectory.xtc, structure_file=gmx_infiles/conf.gro), Trajectory(trajectory_files=../../../../../../scratch/aimmd_distributed/Committors_capped_alanine/frame74_from_low_barrier_transition/trial_1/transition_trajectory.xtc, structure_file=gmx_infiles/conf.gro), Trajectory(trajectory_files=../../../../../../scratch/aimmd_distributed/Committors_capped_alanine/frame74_from_low_barrier_transition/trial_3/transition_trajectory.xtc, structure_file=gmx_infiles/conf.gro), Trajectory(trajectory_files=../../../../../../scratch/aimmd_distributed/Committors_capped_alanine/frame74_from_low_barrier_transition/trial_4/transition_trajectory.xtc, structure_file=gmx_infiles/conf.gro), Trajectory(trajectory_files=../../../../../../scratch/aimmd_distributed/Committors_capped_alanine/frame74_from_low_barrier_transition/trial_5/transition_trajectory.xtc, structure_file=gmx_infiles/conf.gro), Trajectory(trajectory_files=../../../../../../scratch/aimmd_distributed/Committors_capped_alanine/frame74_from_low_barrier_transition/trial_6/transition_trajectory.xtc, structure_file=gmx_infiles/conf.gro), Trajectory(trajectory_files=../../../../../../scratch/aimmd_distributed/Committors_capped_alanine/frame74_from_low_barrier_transition/trial_7/transition_trajectory.xtc, structure_file=gmx_infiles/conf.gro), Trajectory(trajectory_files=../../../../../../scratch/aimmd_distributed/Committors_capped_alanine/frame74_from_low_barrier_transition/trial_9/transition_trajectory.xtc, structure_file=gmx_infiles/conf.gro)], [], []]\n"
     ]
    }
   ],
   "source": [
    "print(\"Trajectories to state: \", simulation.trajectories_to_state)\n",
    "print(\"Trajectories to state backward: \", simulation.trajectories_to_state_backward)\n",
    "print(\"Transition trajectories: \", simulation.transition_trajectories)"
   ]
  },
  {
   "cell_type": "markdown",
   "metadata": {
    "tags": []
   },
   "source": [
    "## Changing the states or refining the state definitions\n",
    "\n",
    "It is possible to modify the `states` of a `CommittorSimulation` and reuse any existing MD integration in a working directory.\n",
    "This can mean both, loosening or tightening the definition of (some) states, or even adding/removing states altogether.\n",
    "Using the `reinitialize_from_workdir` method, the `CommittorSimulation` will reassess all existing trials using the current `states` and perform any MD trial propagation necessary to fulfill the new state definitions.\n",
    "In real-life situations, it can be very useful to be able to reassess a committor simulation with an improved state definition, or after adding an additional, previously unknown state.\n",
    "\n",
    "However, our example here is a bit senseless as we will simply reinitialize/rerun the `CommittorSimulation` from before, but now with only one state, $\\alpha_R$.\n",
    "This means we will propagate all trials that ended up in $C7_{eq}$ until they reach $\\alpha_R$ (which might take some time as they are already in a metastable state) and do nothing for the trials that already reached $\\alpha_R$ before."
   ]
  },
  {
   "cell_type": "code",
   "execution_count": 17,
   "metadata": {},
   "outputs": [
    {
     "name": "stderr",
     "output_type": "stream",
     "text": [
      "WARNING:aimmd.distributed.committors:Changing states after trials have been performed. Please call `reinitialize_from_workdir` method to ensure consistency.\n"
     ]
    }
   ],
   "source": [
    "simulation.states = [wrapped_C7_eq]\n",
    "# and give the output trajectories new/different names\n",
    "simulation.fileout_trajectory_to_state = \"continuation_traj_to_state\"\n",
    "simulation.fileout_trajectory_to_state_backward = \"continuation_traj_to_state_backwards\"\n",
    "# not needed as there can be no transitions with only one state...but for completeness\n",
    "simulation.fileout_transition_trajectory = \"continuation_transition\"\n",
    "# NOTE: we could have also just passed `overwrite=True` to `reinitialize_from_workdir`\n",
    "#       to overwrite potentially existing concatenated output trajectories"
   ]
  },
  {
   "cell_type": "code",
   "execution_count": 18,
   "metadata": {
    "tags": []
   },
   "outputs": [
    {
     "name": "stderr",
     "output_type": "stream",
     "text": [
      "100%|██████████| 100/100 [09:52<00:00,  5.93s/it]\n"
     ]
    }
   ],
   "source": [
    "# since the concatenated output trajectories have different names we can pass overwrite=False\n",
    "#  (the default is True!)\n",
    "await simulation.reinitialize_from_workdir(overwrite=False, n_max_concurrent=20)"
   ]
  },
  {
   "cell_type": "code",
   "execution_count": 19,
   "metadata": {},
   "outputs": [
    {
     "data": {
      "text/plain": [
       "array([[10.],\n",
       "       [10.],\n",
       "       [10.],\n",
       "       [10.],\n",
       "       [10.],\n",
       "       [10.],\n",
       "       [10.],\n",
       "       [10.],\n",
       "       [10.],\n",
       "       [10.]])"
      ]
     },
     "execution_count": 19,
     "metadata": {},
     "output_type": "execute_result"
    }
   ],
   "source": [
    "# states_reached will be very boring now, as we have only one state\n",
    "# and that will be reached on every trial...\n",
    "simulation.states_reached"
   ]
  },
  {
   "cell_type": "code",
   "execution_count": null,
   "metadata": {},
   "outputs": [],
   "source": []
  }
 ],
 "metadata": {
  "kernelspec": {
   "display_name": "aimmd_dev_new",
   "language": "python",
   "name": "python3"
  },
  "language_info": {
   "codemirror_mode": {
    "name": "ipython",
    "version": 3
   },
   "file_extension": ".py",
   "mimetype": "text/x-python",
   "name": "python",
   "nbconvert_exporter": "python",
   "pygments_lexer": "ipython3",
   "version": "3.12.11"
  }
 },
 "nbformat": 4,
 "nbformat_minor": 4
}
