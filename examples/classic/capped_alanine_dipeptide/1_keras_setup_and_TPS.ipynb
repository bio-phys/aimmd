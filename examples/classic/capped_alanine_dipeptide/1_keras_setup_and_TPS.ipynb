{
 "cells": [
  {
   "cell_type": "markdown",
   "metadata": {},
   "source": [
    "# ANN assisted TPS on capped alanine dipeptide 1\n",
    "In this notebook you will learn:\n",
    "- how to setup an ANN assisted TPS simulation on a simple molecular system\n",
    "- how to transform atomistic input coordinates to the descriptor space in which the ANN learns\n",
    "\n",
    "This notebook assumes some familiarity with `openpathsampling` and `aimmd`, please do the Toy notebooks first."
   ]
  },
  {
   "cell_type": "code",
   "execution_count": 1,
   "metadata": {},
   "outputs": [
    {
     "name": "stdout",
     "output_type": "stream",
     "text": [
      "available GPUs:  [PhysicalDevice(name='/physical_device:GPU:0', device_type='GPU')]\n"
     ]
    }
   ],
   "source": [
    "# to be able tu run multiple notebooks in paralell:\n",
    "# tell tf to not grab the whole GPU memory available\n",
    "import tensorflow as tf\n",
    "if tf.version.VERSION.startswith('2.'):\n",
    "    # tell tf to use only the GPU mem it needs\n",
    "    gpus = tf.config.experimental.list_physical_devices('GPU')\n",
    "    print('available GPUs: ', gpus)\n",
    "    for gpu in gpus:\n",
    "        tf.config.experimental.set_memory_growth(gpu, True)\n",
    "    from tensorflow.keras import backend as K\n",
    "\n",
    "else:\n",
    "    conf = tf.compat.v1.ConfigProto()\n",
    "    conf.gpu_options.allow_growth = True\n",
    "    conf.gpu_options.per_process_gpu_memory_fraction = 0.25\n",
    "    #tf.enable_eager_execution(config=conf)\\n\",\n",
    "    sess = tf.compat.v1.Session(config=conf)\n",
    "    from tensorflow.keras import backend as K\n",
    "    K.set_session(sess)"
   ]
  },
  {
   "cell_type": "code",
   "execution_count": 2,
   "metadata": {},
   "outputs": [],
   "source": [
    "%matplotlib inline"
   ]
  },
  {
   "cell_type": "code",
   "execution_count": 3,
   "metadata": {},
   "outputs": [],
   "source": [
    "import os\n",
    "import aimmd\n",
    "import numpy as np\n",
    "import mdtraj as md\n",
    "import matplotlib.pyplot as plt\n",
    "plt.rcParams['figure.figsize'] = 9, 6  # make the figures a bit bigger\n",
    "import openpathsampling as paths\n",
    "import openpathsampling.engines.openmm as peng_omm\n",
    "import simtk.openmm as mm\n",
    "import simtk.unit as unit\n",
    "from simtk.openmm import app\n",
    "from openmmtools.integrators import VVVRIntegrator"
   ]
  },
  {
   "cell_type": "code",
   "execution_count": 4,
   "metadata": {},
   "outputs": [],
   "source": [
    "# setup logging\n",
    "# executing this file sets the variable LOGCONFIG, which is a dictionary of logging presets \n",
    "%run ../resources/logconf.py"
   ]
  },
  {
   "cell_type": "code",
   "execution_count": 5,
   "metadata": {},
   "outputs": [],
   "source": [
    "# name our logfiles\n",
    "LOGCONFIG['handlers']['stdf']['filename'] = 'ala_keras_simulation.log'\n",
    "LOGCONFIG['handlers']['initf']['filename'] = 'ala_keras_init.log'"
   ]
  },
  {
   "cell_type": "code",
   "execution_count": 6,
   "metadata": {},
   "outputs": [],
   "source": [
    "cur_dir = os.path.abspath(os.getcwd())  # needed to find our initial TP later\n",
    "# change to the working directory of choice\n",
    "wdir = '/home/tb/hejung/DATA/aimmd_scratch/SimData_keras_ala/'\n",
    "#wdir = None\n",
    "if wdir is not None:\n",
    "    if not os.path.isdir(wdir):\n",
    "        os.mkdir(wdir)\n",
    "    os.chdir(wdir)\n",
    "\n",
    "# setup logging in that directory\n",
    "import logging.config\n",
    "logging.config.dictConfig(LOGCONFIG)"
   ]
  },
  {
   "cell_type": "markdown",
   "metadata": {},
   "source": [
    "### initial TP and states\n",
    "Generating the initial TP is out of scope of this tutorial, please consult the `openpathsampling` examples for that."
   ]
  },
  {
   "cell_type": "code",
   "execution_count": 7,
   "metadata": {},
   "outputs": [],
   "source": [
    "# load initial TP for ala (generated at high temp, 400K)\n",
    "# we load the h5py trajectory and define the states from scratch\n",
    "# for better machine interoperability and smaller footprint in repo\n",
    "initialTP_md = md.load(os.path.join(cur_dir, 'ala_400K_TP_low_barrier.h5'))\n",
    "initialTP = peng_omm.trajectory_from_mdtraj(initialTP_md)\n",
    "template = peng_omm.snapshot_from_pdb(os.path.join(cur_dir, \"AD_initial_frame.pdb\"))\n",
    "\n",
    "# define the CVs\n",
    "psi = paths.MDTrajFunctionCV(\"psi\", md.compute_dihedrals, template.topology, indices=[[6,8,14,16]])\n",
    "phi = paths.MDTrajFunctionCV(\"phi\", md.compute_dihedrals, template.topology, indices=[[4,6,8,14]])\n",
    "\n",
    "# define the states\n",
    "deg = 180.0/np.pi\n",
    "C_7eq = (paths.PeriodicCVDefinedVolume(phi, lambda_min=-180/deg, lambda_max=0/deg,\n",
    "                                     period_min=-np.pi, period_max=np.pi) &\n",
    "         paths.PeriodicCVDefinedVolume(psi, lambda_min=120/deg, lambda_max=200/deg,\n",
    "                                     period_min=-np.pi, period_max=np.pi)\n",
    "        ).named(\"C_7eq\")\n",
    "\n",
    "alpha_R = (paths.PeriodicCVDefinedVolume(phi, -180/deg, 0/deg, -np.pi, np.pi) &\n",
    "           paths.PeriodicCVDefinedVolume(psi, -50/deg, 30/deg, -np.pi, np.pi)).named(\"alpha_R\")"
   ]
  },
  {
   "cell_type": "markdown",
   "metadata": {},
   "source": [
    "### engine setup"
   ]
  },
  {
   "cell_type": "code",
   "execution_count": 8,
   "metadata": {},
   "outputs": [],
   "source": [
    "forcefield = app.ForceField('amber99sbildn.xml', 'tip3p.xml')\n",
    "pdb = app.PDBFile(os.path.join(cur_dir, \"AD_initial_frame.pdb\"))\n",
    "system = forcefield.createSystem(pdb.topology,\n",
    "                                 nonbondedMethod=app.PME,\n",
    "                                 nonbondedCutoff=1.0*unit.nanometers,\n",
    "                                 constraints=app.HBonds,\n",
    "                                 rigidWater=True,\n",
    "                                 ewaldErrorTolerance=0.0005\n",
    "                                 )\n",
    "integrator = VVVRIntegrator(300*unit.kelvin,  # T\n",
    "                            1.0/unit.picoseconds,  # fric\n",
    "                            2.0*unit.femtoseconds)  # dt\n",
    "integrator.setConstraintTolerance(0.00001)\n",
    "engine_options = {\n",
    "    'n_frames_max': 20000,\n",
    "    'nsteps_per_frame': 10,\n",
    "}\n",
    "engine = peng_omm.Engine(template.topology,\n",
    "                         system,\n",
    "                         integrator,\n",
    "                         options=engine_options\n",
    "                         )\n",
    "engine.name = '300K'"
   ]
  },
  {
   "cell_type": "markdown",
   "metadata": {},
   "source": [
    "### Transforming atomistic coordinates to training descriptors: Symmetry functions and internal coordinates"
   ]
  },
  {
   "cell_type": "code",
   "execution_count": 9,
   "metadata": {},
   "outputs": [],
   "source": [
    "# The slow part: symmetry functions\n",
    "\n",
    "# symmerty functions first\n",
    "cutoff = 0.6 # consider G5 worst case scenarios for cutoff!\n",
    "# g2_parms are expected to be a list of lists, each sublist needs to contain [eta, r_s] \n",
    "g2_parms = [[200., 0.1], [200., 0.25], [200., 0.4]]#, [200., 0.55], [200., 0.7], [200., 0.85]]\n",
    "\n",
    "# g5_parms are also expected to be a list of lists, here each sublist needs to contain\n",
    "# [eta, r_s, zeta, lambda]\n",
    "# here we just create the list of [eta, r_s] for G5,\n",
    "# we add the missing parmeters below since:\n",
    "# we use the same zetas, which influence the sharpness of the angular peaks, for all G5s at different probing radii\n",
    "# and we use the same two lambda values [-1, +1], which influence the location of the maximum, i.e. at angle=0 or at angle=\\pi\n",
    "g5_etas_rs = [[120., 0.1],\n",
    "              [120., 0.25],\n",
    "              [120., 0.4],\n",
    "              #[120., 0.55],\n",
    "              #[120., 0.7],\n",
    "              #[120., 0.85]\n",
    "             ]\n",
    "# all zetas for all G5, high zeta means sharp angular resultion\n",
    "# Note: zeta must be an even number, using these powers of 2 empirically works well\n",
    "zetas = [\n",
    "        1,\n",
    "        2,\n",
    "        4,\n",
    "        16,\n",
    "        64,\n",
    "        ]\n",
    "# construct g5_parms from previously defined values\n",
    "# combine every eta, r_s with all zetas and both possible lambda values\n",
    "g5_parms = [[eta, r_s, zeta, lamb] for (eta, r_s) in g5_etas_rs for zeta in zetas for lamb in [+1., -1.]]\n",
    "\n",
    "# combine G2 and G5 params into one list to pass to the SF transformation function\n",
    "g_parms = [g2_parms, g5_parms]\n",
    "\n",
    "mol_idxs, solv_idxs = aimmd.coords.symmetry.generate_indices(template.topology.mdtraj,\n",
    "                                                            ['HOH'],\n",
    "                                                            solvent_atelements=[['O', 'H']],\n",
    "                                                            reactant_selection='not resname HOH')\n",
    "\n",
    "sf_parms = {'mol_idxs': mol_idxs, 'solv_idxs': solv_idxs, 'g_parms': g_parms,\n",
    "            'cutoff': cutoff, 'n_per_solv': [[1., 2.]], 'rho_solv': [33.]}\n",
    "\n",
    "sf_transform = paths.MDTrajFunctionCV('sf_transform', aimmd.coords.symmetry.transform,  # transform is an alias for sf\n",
    "                                      template.topology, **sf_parms)"
   ]
  },
  {
   "cell_type": "code",
   "execution_count": 10,
   "metadata": {},
   "outputs": [],
   "source": [
    "# The fast part: internal coordinates\n",
    "\n",
    "pairs, triples, quadruples = aimmd.coords.internal.generate_indices(template.topology.mdtraj, source_idx=0)\n",
    "\n",
    "ic_parms = {'pairs': pairs, 'triples': triples, 'quadruples': quadruples}\n",
    "\n",
    "ic_transform = paths.MDTrajFunctionCV('ic_transform', aimmd.coords.internal.transform,  # transform is an alias for ic\n",
    "                                      template.topology, **ic_parms)"
   ]
  },
  {
   "cell_type": "code",
   "execution_count": 11,
   "metadata": {},
   "outputs": [],
   "source": [
    "# set this to True to do the full setup with symmetry functions, will be much slower\n",
    "# leave it at False and we will not calculate any symmetry functions and train on internal coords only\n",
    "# setting this to True will increase runtime by a factor of approximately 10 (depending on the choice of symmetry function cutoff)\n",
    "we_have_time = True\n",
    "\n",
    "if we_have_time:\n",
    "    # create this little helper function to concatenate the descriptors we are interested in\n",
    "    def transform_func(mdtra, sf_parms, ic_parms):\n",
    "        import mdtraj as md\n",
    "        from aimmd.coords.symmetry import sf\n",
    "        from aimmd.coords.internal import ic\n",
    "        import numpy as np\n",
    "        return np.concatenate([ic(mdtra, **ic_parms),\n",
    "                               sf(mdtra, **sf_parms),\n",
    "                               ],\n",
    "                              axis=1)\n",
    "\n",
    "    descriptor_transform = paths.MDTrajFunctionCV('descriptor_transform', transform_func,\n",
    "                                                  template.topology,\n",
    "                                                  sf_parms=sf_parms, \n",
    "                                                  ic_parms=ic_parms,\n",
    "                                                  cv_scalarize_numpy_singletons=False)\n",
    "else:\n",
    "    # create this little helper function to concatenate the descriptors we are interested in\n",
    "    def transform_func(mdtra, ic_parms):\n",
    "        import mdtraj as md\n",
    "        from aimmd.coords.internal import ic\n",
    "        import numpy as np\n",
    "        return ic(mdtra, **ic_parms)\n",
    "\n",
    "    descriptor_transform = paths.MDTrajFunctionCV('descriptor_transform', transform_func,\n",
    "                                                  template.topology,\n",
    "                                                  ic_parms=ic_parms,\n",
    "                                                  cv_scalarize_numpy_singletons=False)"
   ]
  },
  {
   "cell_type": "code",
   "execution_count": 12,
   "metadata": {},
   "outputs": [
    {
     "name": "stdout",
     "output_type": "stream",
     "text": [
      "number of input descriptors:  1507\n"
     ]
    },
    {
     "data": {
      "image/png": "[encoded data removed]",
      "text/plain": [
       "<Figure size 648x432 with 1 Axes>"
      ]
     },
     "metadata": {
      "needs_background": "light"
     },
     "output_type": "display_data"
    }
   ],
   "source": [
    "# lets have a look a the transformed coordinate values\n",
    "# they should be all approximately in [0, 1]\n",
    "trans_coords = descriptor_transform(template)\n",
    "# also set cv_ndim, because this will be the number of network inputs\n",
    "cv_ndim = trans_coords.shape[0]\n",
    "plt.hist(trans_coords);\n",
    "print('number of input descriptors: ', cv_ndim)"
   ]
  },
  {
   "cell_type": "markdown",
   "metadata": {},
   "source": [
    "### aimmd setup: create an ANN, RCModel, etc"
   ]
  },
  {
   "cell_type": "code",
   "execution_count": 13,
   "metadata": {},
   "outputs": [],
   "source": [
    "from tensorflow.keras import optimizers, regularizers"
   ]
  },
  {
   "cell_type": "code",
   "execution_count": 14,
   "metadata": {},
   "outputs": [
    {
     "name": "stdout",
     "output_type": "stream",
     "text": [
      "number of input descriptors:  1507\n"
     ]
    }
   ],
   "source": [
    "# use an aimmd utility function to create a pyramidal arch with a ResNet top part\n",
    "# you could however wrap any keras model that has been compiled with an optimizer in an aimmd RCModel in the next cell\n",
    "n_lay_pyramid = 4\n",
    "n_unit_top = 10\n",
    "n_lay_top = 2\n",
    "n_unit_base = descriptor_transform(template).shape[0]\n",
    "print('number of input descriptors: ', n_unit_base)\n",
    "\n",
    "fact = (n_unit_top / n_unit_base)**(1./(n_lay_pyramid-1))\n",
    "\n",
    "hidden_parms = []\n",
    "for i in range(n_lay_pyramid):\n",
    "    hidden_parms += [{'units': max(n_unit_top, int(n_unit_base * fact**i)),\n",
    "                     'activation': 'selu', # elu; selu is good!\n",
    "                     'use_bias': True,\n",
    "                     'kernel_initializer': 'lecun_normal',\n",
    "                     'bias_initializer': 'lecun_normal',\n",
    "                     'kernel_regularizer': None,#regularizers.l1(l=0.0001),\n",
    "                     'bias_regularizer': None,\n",
    "                     'activity_regularizer': None,\n",
    "                     'kernel_constraint': None,\n",
    "                     'bias_constraint': None,\n",
    "                     'dropout': 0.15 * fact**i,\n",
    "                     }\n",
    "                    ]\n",
    "for i in range(n_lay_top):\n",
    "    \n",
    "    hidden_parms += [{'units': n_unit_top,\n",
    "                     'activation': 'elu',\n",
    "                     'use_bias': True,\n",
    "                     'kernel_initializer': 'lecun_normal',\n",
    "                     'bias_initializer': 'lecun_normal',\n",
    "                     'kernel_regularizer': None,# regularizers.l1(l=0.0001),\n",
    "                     'bias_regularizer': None,\n",
    "                     'activity_regularizer': None,\n",
    "                     'kernel_constraint': None,\n",
    "                     'bias_constraint': None,\n",
    "                     'dropout': None,\n",
    "                     'residual_n_skip': 4,\n",
    "                     }\n",
    "                    ]\n",
    "    \n",
    "\n",
    "optimizer = optimizers.Adam(lr=0.001) \n",
    "# create a ResNet with binomial loss to predict p_B\n",
    "resnet = aimmd.keras.create_resnet(ndim=n_unit_base, hidden_parms=hidden_parms,\n",
    "                                  optimizer=optimizer,\n",
    "                                  n_states=2,  # does not really matter if multi_state=False\n",
    "                                  multi_state=False)"
   ]
  },
  {
   "cell_type": "code",
   "execution_count": 15,
   "metadata": {},
   "outputs": [],
   "source": [
    "aimmd_store = aimmd.Storage(os.path.join(wdir, 'aimmd_storage.h5'), mode='w')"
   ]
  },
  {
   "cell_type": "code",
   "execution_count": 16,
   "metadata": {},
   "outputs": [],
   "source": [
    "# we take an ExpectedEfficiencyPytorchRCModel,\n",
    "# this RCmodel scales the learning rate by the expected efficiency factor (1 - n_TP_true / n_TP_expected)**2\n",
    "model = aimmd.keras.EEScaleKerasRCModel(nnet=resnet,\n",
    "                                        states=[C_7eq, alpha_R],\n",
    "                                        descriptor_transform=descriptor_transform,\n",
    "                                        ee_params={'lr_0': 0.001,\n",
    "                                                   'lr_min': 0.00005,  # lr_min = lr_0 / 20 is a good choice empirically\n",
    "                                                   'epochs_per_train': 4,\n",
    "                                                   'interval': 5,\n",
    "                                                   'window': 75,\n",
    "                                                   },\n",
    "                                        cache_file=aimmd_store,\n",
    "                                       )"
   ]
  },
  {
   "cell_type": "code",
   "execution_count": 17,
   "metadata": {},
   "outputs": [],
   "source": [
    "trainset = aimmd.TrainSet(n_states=2)"
   ]
  },
  {
   "cell_type": "code",
   "execution_count": 18,
   "metadata": {},
   "outputs": [],
   "source": [
    "trainhook = aimmd.ops.TrainingHook(model, trainset)\n",
    "storehook = aimmd.ops.AimmdStorageHook(aimmd_store, model, trainset)\n",
    "densityhook = aimmd.ops.DensityCollectionHook(model)"
   ]
  },
  {
   "cell_type": "code",
   "execution_count": 19,
   "metadata": {},
   "outputs": [],
   "source": [
    "selector = aimmd.ops.RCModelSelector(model=model,\n",
    "                                    states=[C_7eq, alpha_R],\n",
    "                                    distribution='lorentzian',\n",
    "                                    scale=1.0,\n",
    "                                    )"
   ]
  },
  {
   "cell_type": "markdown",
   "metadata": {},
   "source": [
    "### OPS setup: TPS strategy and sampled transitions"
   ]
  },
  {
   "cell_type": "code",
   "execution_count": 20,
   "metadata": {},
   "outputs": [],
   "source": [
    "network = paths.TPSNetwork.from_states_all_to_all([C_7eq, alpha_R])\n",
    "move_scheme = paths.MoveScheme(network=network)\n",
    "beta = 1.0 / (engine.integrator.getTemperature() * unit.BOLTZMANN_CONSTANT_kB)\n",
    "modifier = paths.RandomVelocities(beta=beta, engine=engine)\n",
    "tw_strategy = paths.strategies.TwoWayShootingStrategy(modifier=modifier,\n",
    "                                                      selector=selector,\n",
    "                                                      engine=engine,\n",
    "                                                      group='TwoWayShooting')\n",
    "move_scheme.append(tw_strategy)\n",
    "move_scheme.append(paths.strategies.OrganizeByMoveGroupStrategy())\n",
    "move_scheme.build_move_decision_tree()"
   ]
  },
  {
   "cell_type": "code",
   "execution_count": 21,
   "metadata": {},
   "outputs": [
    {
     "name": "stdout",
     "output_type": "stream",
     "text": [
      "No missing ensembles.\n",
      "No extra ensembles.\n"
     ]
    }
   ],
   "source": [
    "initial_conditions = move_scheme.initial_conditions_from_trajectories(initialTP)"
   ]
  },
  {
   "cell_type": "code",
   "execution_count": 22,
   "metadata": {},
   "outputs": [],
   "source": [
    "storage = paths.Storage('ala_LB_keras_ResNet.nc', mode='w', template=template)\n",
    "\n",
    "sampler = paths.PathSampling(storage=storage,\n",
    "                             sample_set=initial_conditions,\n",
    "                             move_scheme=move_scheme)"
   ]
  },
  {
   "cell_type": "code",
   "execution_count": 23,
   "metadata": {},
   "outputs": [],
   "source": [
    "sampler.attach_hook(trainhook)\n",
    "sampler.attach_hook(storehook)\n",
    "sampler.attach_hook(densityhook)"
   ]
  },
  {
   "cell_type": "code",
   "execution_count": 24,
   "metadata": {},
   "outputs": [
    {
     "name": "stdout",
     "output_type": "stream",
     "text": [
      "Working on Monte Carlo cycle number 2000\n",
      "Running for 2 hours 1 minute 30 seconds -  3.65 seconds per step\n",
      "Estimated time remaining: 3 seconds\n",
      "DONE! Completed 2000 Monte Carlo cycles.\n"
     ]
    }
   ],
   "source": [
    "sampler.run(2000)"
   ]
  },
  {
   "cell_type": "code",
   "execution_count": 25,
   "metadata": {},
   "outputs": [
    {
     "data": {
      "image/png": "[encoded data removed]",
      "text/plain": [
       "<Figure size 648x432 with 1 Axes>"
      ]
     },
     "metadata": {
      "needs_background": "light"
     },
     "output_type": "display_data"
    }
   ],
   "source": [
    "log_train = np.array(model.log_train_decision)\n",
    "lr = log_train[:,1]\n",
    "plt.plot(lr, label='lr')\n",
    "# see where we really trained: everywhere where train=True\n",
    "# set lr_true to NaN anywhere where we did not train to have a nice plot\n",
    "lr_true = lr\n",
    "lr_true[log_train[:,0] == False] = np.nan\n",
    "plt.plot(lr_true, '+', label='True learning')\n",
    "# lr_min as a guide to the eye\n",
    "plt.axhline(model.ee_params['lr_min'], label='lr_min', color='lime')\n",
    "plt.legend()\n",
    "plt.xlabel('MCStep', size=15);\n",
    "plt.ylabel('Learning rate', size=15);"
   ]
  },
  {
   "cell_type": "code",
   "execution_count": 26,
   "metadata": {},
   "outputs": [
    {
     "data": {
      "image/png": "[encoded data removed]",
      "text/plain": [
       "<Figure size 648x432 with 1 Axes>"
      ]
     },
     "metadata": {
      "needs_background": "light"
     },
     "output_type": "display_data"
    }
   ],
   "source": [
    "# resort such that we have a loss value per MCStep, NaN if we did not train at that step\n",
    "train_loss = []\n",
    "count = 0\n",
    "for t in log_train[:, 0]:\n",
    "    if t:\n",
    "        train_loss.append(model.log_train_loss[count])\n",
    "        count += 1\n",
    "    else:\n",
    "        train_loss.append([np.nan for _ in range(model.ee_params['epochs_per_train'])])\n",
    "    \n",
    "plt.plot(train_loss, '+', label='training loss')\n",
    "plt.legend();\n",
    "plt.ylabel('loss per training point', size=15)\n",
    "plt.xlabel('MCStep', size=15)\n",
    "plt.tight_layout()"
   ]
  },
  {
   "cell_type": "code",
   "execution_count": 27,
   "metadata": {},
   "outputs": [],
   "source": [
    "# get the number of accepts from OPS storage\n",
    "accepts = []\n",
    "for step in storage.steps:\n",
    "    if step.change.canonical.accepted:\n",
    "        accepts.append(1.)\n",
    "    else:\n",
    "        accepts.append(0.)"
   ]
  },
  {
   "cell_type": "code",
   "execution_count": 28,
   "metadata": {},
   "outputs": [
    {
     "data": {
      "image/png": "[encoded data removed]",
      "text/plain": [
       "<Figure size 648x432 with 1 Axes>"
      ]
     },
     "metadata": {
      "needs_background": "light"
     },
     "output_type": "display_data"
    }
   ],
   "source": [
    "p_ex = np.array(model.expected_p)\n",
    "\n",
    "l, = plt.plot(np.cumsum(trainset.transitions), label='generated');\n",
    "plt.plot(np.cumsum(accepts), c=l.get_color(), ls='--', label='accepted');\n",
    "plt.plot(np.cumsum(2*p_ex*(1 - p_ex)),c=l.get_color(), ls=':', label='expected');\n",
    "plt.plot(np.cumsum(2*p_ex*(1 - p_ex))- np.cumsum(trainset.transitions), label='diff (generated - expected)')\n",
    "plt.plot(np.linspace(0., len(trainset)/2., len(trainset)), c='k', ls='--', label='maximal', lw=2)\n",
    "plt.legend(fontsize=12);\n",
    "plt.ylabel('Cummulative count of TPs', size=15)\n",
    "plt.xlabel('# MC Step', size=15);"
   ]
  },
  {
   "cell_type": "markdown",
   "metadata": {},
   "source": [
    "# HIPR"
   ]
  },
  {
   "cell_type": "code",
   "execution_count": 29,
   "metadata": {},
   "outputs": [],
   "source": [
    "hipr = aimmd.analysis.HIPRanalysis(model, trainset)"
   ]
  },
  {
   "cell_type": "code",
   "execution_count": 30,
   "metadata": {},
   "outputs": [],
   "source": [
    "hipr_plus_losses, hipr_plus_stds = hipr.do_hipr_plus(25)"
   ]
  },
  {
   "cell_type": "code",
   "execution_count": 31,
   "metadata": {},
   "outputs": [
    {
     "data": {
      "image/png": "[encoded data removed]",
      "text/plain": [
       "<Figure size 648x432 with 1 Axes>"
      ]
     },
     "metadata": {
      "needs_background": "light"
     },
     "output_type": "display_data"
    }
   ],
   "source": [
    "loss_diffs = hipr_plus_losses[:-1] - hipr_plus_losses[-1]  # hipr_losses[-1] is the reference loss over the unaltered trainset\n",
    "\n",
    "plt.bar(np.arange(len(loss_diffs)), loss_diffs, yerr=hipr_plus_stds[:-1])\n",
    "plt.xlabel('Coordinate index', size=15)\n",
    "plt.ylabel('Relative importance', size=15);"
   ]
  },
  {
   "cell_type": "code",
   "execution_count": 34,
   "metadata": {},
   "outputs": [],
   "source": [
    "ic_parms[\"quadrouples\"] = ic_parms[\"quadruples\"]"
   ]
  },
  {
   "cell_type": "code",
   "execution_count": 37,
   "metadata": {},
   "outputs": [
    {
     "name": "stdout",
     "output_type": "stream",
     "text": [
      "reference loss: 0.4989878237247467\n",
      "\n",
      "loss for idx 48:  0.7660467290878296\n",
      "('IC', ('cos', [6, 8, 14, 15]))\n",
      "\n",
      "loss for idx 47:  0.5100106143951416\n",
      "('IC', ('sin', [6, 8, 14, 15]))\n",
      "\n",
      "loss for idx 704:  0.5074009466171264\n",
      "('SF', ('G5', [120.0, 0.25, 64, -1.0], 19, 'HOH', 'O'))\n",
      "\n",
      "loss for idx 1265:  0.5063236474990844\n",
      "('SF', ('G5', [120.0, 0.25, 64, -1.0], 14, 'HOH', 'H'))\n",
      "\n",
      "loss for idx 638:  0.5038898038864136\n",
      "('SF', ('G5', [120.0, 0.25, 64, -1.0], 17, 'HOH', 'O'))\n",
      "\n",
      "loss for idx 605:  0.5034584665298462\n",
      "('SF', ('G5', [120.0, 0.25, 64, -1.0], 16, 'HOH', 'O'))\n",
      "\n",
      "loss for idx 353:  0.5028022313117981\n",
      "('SF', ('G2', [200.0, 0.25], 9, 'HOH', 'O'))\n",
      "\n",
      "loss for idx 219:  0.5027276182174683\n",
      "('SF', ('G5', [120.0, 0.4, 64, -1.0], 4, 'HOH', 'O'))\n",
      "\n",
      "loss for idx 186:  0.5026985812187195\n",
      "('SF', ('G5', [120.0, 0.4, 64, -1.0], 3, 'HOH', 'O'))\n",
      "\n",
      "loss for idx 714:  0.5025678777694702\n",
      "('SF', ('G5', [120.0, 0.4, 64, -1.0], 19, 'HOH', 'O'))\n",
      "\n",
      "loss for idx 572:  0.5024674677848816\n",
      "('SF', ('G5', [120.0, 0.25, 64, -1.0], 15, 'HOH', 'O'))\n",
      "\n",
      "loss for idx 1298:  0.5020161890983581\n",
      "('SF', ('G5', [120.0, 0.25, 64, -1.0], 15, 'HOH', 'H'))\n",
      "\n",
      "loss for idx 110:  0.5019930195808411\n",
      "('SF', ('G5', [120.0, 0.25, 64, -1.0], 1, 'HOH', 'O'))\n",
      "\n",
      "loss for idx 54:  0.5018625879287719\n",
      "('IC', ('cos', [14, 16, 18, 19]))\n",
      "\n",
      "loss for idx 615:  0.5017547821998596\n",
      "('SF', ('G5', [120.0, 0.4, 64, -1.0], 16, 'HOH', 'O'))\n",
      "\n",
      "loss for idx 737:  0.50148876786232\n",
      "('SF', ('G5', [120.0, 0.25, 64, -1.0], 20, 'HOH', 'O'))\n",
      "\n",
      "loss for idx 118:  0.5014217233657837\n",
      "('SF', ('G5', [120.0, 0.4, 16, -1.0], 1, 'HOH', 'O'))\n",
      "\n",
      "loss for idx 1364:  0.5013529598712921\n",
      "('SF', ('G5', [120.0, 0.25, 64, -1.0], 17, 'HOH', 'H'))\n",
      "\n",
      "loss for idx 813:  0.5013305699825287\n",
      "('SF', ('G5', [120.0, 0.4, 64, -1.0], 0, 'HOH', 'H'))\n",
      "\n",
      "loss for idx 450:  0.5012381136417389\n",
      "('SF', ('G5', [120.0, 0.4, 64, -1.0], 11, 'HOH', 'O'))\n",
      "\n",
      "loss for idx 516:  0.5011262917518615\n",
      "('SF', ('G5', [120.0, 0.4, 64, -1.0], 13, 'HOH', 'O'))\n",
      "\n",
      "loss for idx 351:  0.5009903120994568\n",
      "('SF', ('G5', [120.0, 0.4, 64, -1.0], 8, 'HOH', 'O'))\n",
      "\n",
      "loss for idx 902:  0.5009245538711548\n",
      "('SF', ('G5', [120.0, 0.25, 64, -1.0], 3, 'HOH', 'H'))\n",
      "\n",
      "loss for idx 46:  0.5008585023880004\n",
      "('IC', ('cos', [4, 6, 8, 14]))\n",
      "\n",
      "loss for idx 836:  0.5007065236568451\n",
      "('SF', ('G5', [120.0, 0.25, 64, -1.0], 1, 'HOH', 'H'))\n",
      "\n",
      "loss for idx 1075:  0.5007018399238586\n",
      "('SF', ('G5', [120.0, 0.4, 16, -1.0], 8, 'HOH', 'H'))\n",
      "\n",
      "loss for idx 1199:  0.5006754302978516\n",
      "('SF', ('G5', [120.0, 0.25, 64, -1.0], 12, 'HOH', 'H'))\n",
      "\n",
      "loss for idx 316:  0.5006131601333618\n",
      "('SF', ('G5', [120.0, 0.4, 16, -1.0], 7, 'HOH', 'O'))\n",
      "\n",
      "loss for idx 954:  0.500596672296524\n",
      "('SF', ('G5', [120.0, 0.1, 4, -1.0], 5, 'HOH', 'H'))\n",
      "\n",
      "loss for idx 87:  0.5005046200752258\n",
      "('SF', ('G5', [120.0, 0.4, 64, -1.0], 0, 'HOH', 'O'))\n",
      "\n",
      "loss for idx 648:  0.5004878866672516\n",
      "('SF', ('G5', [120.0, 0.4, 64, -1.0], 17, 'HOH', 'O'))\n",
      "\n",
      "loss for idx 803:  0.5004625809192658\n",
      "('SF', ('G5', [120.0, 0.25, 64, -1.0], 0, 'HOH', 'H'))\n",
      "\n",
      "loss for idx 286:  0.5004577755928039\n",
      "('SF', ('G2', [200.0, 0.1], 7, 'HOH', 'O'))\n",
      "\n",
      "loss for idx 116:  0.5003732419013978\n",
      "('SF', ('G5', [120.0, 0.4, 4, -1.0], 1, 'HOH', 'O'))\n",
      "\n",
      "loss for idx 1296:  0.5003430426120759\n",
      "('SF', ('G5', [120.0, 0.25, 16, -1.0], 15, 'HOH', 'H'))\n",
      "\n",
      "loss for idx 45:  0.5003343033790588\n",
      "('IC', ('sin', [4, 6, 8, 14]))\n",
      "\n",
      "loss for idx 446:  0.5003123235702515\n",
      "('SF', ('G5', [120.0, 0.4, 4, -1.0], 11, 'HOH', 'O'))\n",
      "\n",
      "loss for idx 945:  0.5003120613098144\n",
      "('SF', ('G5', [120.0, 0.4, 64, -1.0], 4, 'HOH', 'H'))\n",
      "\n",
      "loss for idx 539:  0.5002900290489197\n",
      "('SF', ('G5', [120.0, 0.25, 64, -1.0], 14, 'HOH', 'O'))\n",
      "\n",
      "loss for idx 242:  0.5002531719207763\n",
      "('SF', ('G5', [120.0, 0.25, 64, -1.0], 5, 'HOH', 'O'))\n"
     ]
    }
   ],
   "source": [
    "# what are the most important contributors?\n",
    "max_idxs = np.argsort(loss_diffs)[::-1]\n",
    "sf_parms = descriptor_transform.kwargs['sf_parms']\n",
    "ic_parms = descriptor_transform.kwargs['ic_parms']\n",
    "\n",
    "print('reference loss:', hipr_plus_losses[-1])\n",
    "for idx in max_idxs[:40]:\n",
    "    print()\n",
    "    print('loss for idx {:d}: '.format(idx), hipr_plus_losses[idx])\n",
    "    print(aimmd.coords.get_involved(idx, sf_parms=sf_parms, ic_parms=ic_parms, solvent_atoms=[['O', 'H']], solvent_resname=['HOH']))"
   ]
  },
  {
   "cell_type": "code",
   "execution_count": null,
   "metadata": {},
   "outputs": [],
   "source": []
  },
  {
   "cell_type": "code",
   "execution_count": 39,
   "metadata": {},
   "outputs": [],
   "source": [
    "storage.sync_all()\n",
    "storage.close()"
   ]
  },
  {
   "cell_type": "code",
   "execution_count": 40,
   "metadata": {},
   "outputs": [],
   "source": [
    "aimmd_store.close()"
   ]
  },
  {
   "cell_type": "code",
   "execution_count": null,
   "metadata": {},
   "outputs": [],
   "source": []
  }
 ],
 "metadata": {
  "kernelspec": {
   "display_name": "AIMMD nature publish (py3)",
   "language": "python",
   "name": "aimmd_nature_publish"
  },
  "language_info": {
   "codemirror_mode": {
    "name": "ipython",
    "version": 3
   },
   "file_extension": ".py",
   "mimetype": "text/x-python",
   "name": "python",
   "nbconvert_exporter": "python",
   "pygments_lexer": "ipython3",
   "version": "3.8.10"
  }
 },
 "nbformat": 4,
 "nbformat_minor": 4
}
