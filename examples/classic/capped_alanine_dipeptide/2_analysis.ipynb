{
 "cells": [
  {
   "cell_type": "markdown",
   "metadata": {},
   "source": [
    "# ANN assisted TPS on capped alanine dipeptide 2\n",
    "In this notebook you will learn\n",
    "- how to perform input importance analyses for models with transformed atomistic coordinates, i.e. how to find which are the important ANN inputs and how to relate them to atomistic coordinates\n",
    "- how to create visualizizations of the transitions colored by gradient\n",
    "\n",
    "This notebook uses files created in `1_setup_and_TPS.ipynb`, please do this notebook first."
   ]
  },
  {
   "cell_type": "code",
   "execution_count": 1,
   "metadata": {},
   "outputs": [],
   "source": [
    "%matplotlib inline"
   ]
  },
  {
   "cell_type": "code",
   "execution_count": 2,
   "metadata": {},
   "outputs": [],
   "source": [
    "import os\n",
    "import arcd\n",
    "import torch\n",
    "import numpy as np\n",
    "import matplotlib.pyplot as plt\n",
    "plt.rcParams['figure.figsize'] = 9, 6  # make the figures a bit bigger\n",
    "import openpathsampling as paths"
   ]
  },
  {
   "cell_type": "code",
   "execution_count": 3,
   "metadata": {},
   "outputs": [],
   "source": [
    "# change to the working directory of choice\n",
    "# same as for the first notebook\n",
    "wdir = '/home/think/scratch/arcd_ala/IC_only/'\n",
    "#wdir = None\n",
    "if wdir is not None:\n",
    "    os.chdir(wdir)"
   ]
  },
  {
   "cell_type": "code",
   "execution_count": 4,
   "metadata": {},
   "outputs": [],
   "source": [
    "storage = paths.Storage('ala_low_barrier_IC_only_TPS.nc', 'a')"
   ]
  },
  {
   "cell_type": "code",
   "execution_count": 6,
   "metadata": {},
   "outputs": [],
   "source": [
    "arcd_store = arcd.Storage('arcd_storage.h5', 'a')\n",
    "model = arcd_store.rcmodels['most_recent']"
   ]
  },
  {
   "cell_type": "code",
   "execution_count": 7,
   "metadata": {},
   "outputs": [],
   "source": [
    "trainset = arcd_store.load_trainset()"
   ]
  },
  {
   "cell_type": "code",
   "execution_count": 11,
   "metadata": {},
   "outputs": [],
   "source": [
    "model = model.complete_from_ops_storage(storage)"
   ]
  },
  {
   "cell_type": "code",
   "execution_count": 12,
   "metadata": {},
   "outputs": [
    {
     "name": "stderr",
     "output_type": "stream",
     "text": [
      "Restoring RCModelSelector without model.Please take care of resetting the model yourself.\n"
     ]
    }
   ],
   "source": [
    "sampler = storage.pathsimulators[0]\n",
    "trainhook = arcd.ops.TrainingHook(model, trainset)\n",
    "storehook = arcd.ops.ArcdStorageHook(arcd_store, model, trainset)\n",
    "densityhook = arcd.ops.DensityCollectionHook(model)\n",
    "\n",
    "sampler.attach_hook(trainhook)\n",
    "sampler.attach_hook(storehook)\n",
    "sampler.attach_hook(densityhook)\n",
    "\n",
    "sampler.restart_at_step(storage.steps[-1], storage=storage)"
   ]
  },
  {
   "cell_type": "code",
   "execution_count": 13,
   "metadata": {},
   "outputs": [],
   "source": [
    "arcd.ops.utils.set_rcmodel_in_all_selectors(model, sampler)"
   ]
  },
  {
   "cell_type": "markdown",
   "metadata": {},
   "source": [
    "## HIPR analysis\n",
    "We will have a look at the most important inputs and which atoms contribute to them."
   ]
  },
  {
   "cell_type": "code",
   "execution_count": 14,
   "metadata": {},
   "outputs": [],
   "source": [
    "hipr = arcd.analysis.HIPRanalysis(model, trainset)"
   ]
  },
  {
   "cell_type": "code",
   "execution_count": 15,
   "metadata": {},
   "outputs": [],
   "source": [
    "final_hipr_losses = hipr.do_hipr()"
   ]
  },
  {
   "cell_type": "code",
   "execution_count": 16,
   "metadata": {},
   "outputs": [],
   "source": [
    "final_hipr_losses_plus = hipr.do_hipr_plus()"
   ]
  },
  {
   "cell_type": "code",
   "execution_count": 9,
   "metadata": {},
   "outputs": [],
   "source": [
    "# lets load the model after 500 MCsteps to compare\n",
    "from arcd.base.rcmodel import RCModel\n",
    "fname = storage.abspath + '_RCmodel_at_step500.pckl'\n",
    "state, cls = RCModel.load_state(fname, storage)\n",
    "state = cls.fix_state(state)\n",
    "model_at_step500 = cls.set_state(state)"
   ]
  },
  {
   "cell_type": "code",
   "execution_count": 10,
   "metadata": {},
   "outputs": [],
   "source": [
    "# use the complete trainset for HIPR\n",
    "# this includes point the ANN has never trained on but makes it comparable to the previous HIPR\n",
    "hipr_at_step500 = arcd.analysis.HIPRanalysis(model_at_step500, trainhook.trainset)\n",
    "\n",
    "step500_hipr_losses = hipr_at_step500.do_hipr()\n",
    "step500_hipr_losses_plus = hipr_at_step500.do_hipr_plus()"
   ]
  },
  {
   "cell_type": "code",
   "execution_count": 11,
   "metadata": {},
   "outputs": [
    {
     "name": "stdout",
     "output_type": "stream",
     "text": [
      "Reference loss:  0.5318849262839068\n",
      "\n",
      "coordinate:  ('cos', [6, 8, 14, 15])\n",
      "with associated loss:  1.0222091827088011\n",
      "\n",
      "coordinate:  ('sin', [6, 8, 14, 15])\n",
      "with associated loss:  0.5665803623770526\n",
      "\n",
      "coordinate:  ('cos', [1, 4, 6, 8])\n",
      "with associated loss:  0.5388207342334373\n",
      "\n",
      "coordinate:  ('sin', [8, 14, 16, 18])\n",
      "with associated loss:  0.5386478797166409\n",
      "\n",
      "coordinate:  ('sin', [1, 4, 6, 8])\n",
      "with associated loss:  0.5351947312345523\n"
     ]
    },
    {
     "data": {
      "image/png": "[encoded data removed]",
      "text/plain": [
       "<Figure size 648x432 with 1 Axes>"
      ]
     },
     "metadata": {
      "needs_background": "light"
     },
     "output_type": "display_data"
    }
   ],
   "source": [
    "final_loss_diff = final_hipr_losses[:-1] - final_hipr_losses[-1]\n",
    "\n",
    "plt.bar(np.arange(len(final_loss_diff)), final_loss_diff)\n",
    "plt.xlabel('coordinate index', size=15)\n",
    "plt.ylabel('Loss difference', size=15)\n",
    "\n",
    "# get the associated coordinates for the maximally important inputs\n",
    "max_idx = np.argsort(final_loss_diff)[::-1]\n",
    "\n",
    "# this bit below only works for IC only\n",
    "# figuring out how to get the info for SF CVs is left as an excersise to the reader :)\n",
    "ic_parms = trainhook.model.descriptor_transform.kwargs['ic_parms']\n",
    "\n",
    "\n",
    "print('Reference loss: ', final_hipr_losses[-1])\n",
    "for idx in max_idx[:5]:\n",
    "    # this little helper function gets you the involved atoms given the input index and the inputparameters to the CV of question\n",
    "    # there is similar functions for the symmetry functions @ arcd.coords.symmetry.get_involved\n",
    "    print()\n",
    "    print('coordinate: ', arcd.coords.internal.get_involved(idx, **ic_parms))\n",
    "    print('with associated loss: ', final_hipr_losses[idx])"
   ]
  },
  {
   "cell_type": "code",
   "execution_count": 13,
   "metadata": {},
   "outputs": [
    {
     "name": "stdout",
     "output_type": "stream",
     "text": [
      "Reference loss:  0.5410692020804583\n",
      "\n",
      "coordinate:  ('cos', [6, 8, 14, 15])\n",
      "with associated loss:  1.028923017916803\n",
      "\n",
      "coordinate:  ('sin', [6, 8, 14, 15])\n",
      "with associated loss:  0.5620001094307966\n",
      "\n",
      "coordinate:  ('cos', [1, 4, 6, 8])\n",
      "with associated loss:  0.5549061560107325\n",
      "\n",
      "coordinate:  ('cos', [0, 1, 4, 5])\n",
      "with associated loss:  0.5476359209376657\n",
      "\n",
      "coordinate:  ('sin', [1, 4, 6, 8])\n",
      "with associated loss:  0.5457021648536423\n"
     ]
    },
    {
     "data": {
      "image/png": "[encoded data removed]",
      "text/plain": [
       "<Figure size 648x432 with 1 Axes>"
      ]
     },
     "metadata": {
      "needs_background": "light"
     },
     "output_type": "display_data"
    }
   ],
   "source": [
    "# same for the model after 500 steps\n",
    "step500_loss_diff = step500_hipr_losses[:-1] - step500_hipr_losses[-1]\n",
    "\n",
    "plt.bar(np.arange(len(step500_loss_diff)), step500_loss_diff, label='after step 100')\n",
    "plt.xlabel('coordinate index', size=15)\n",
    "plt.ylabel('Loss difference', size=15)\n",
    "\n",
    "max_idx = np.argsort(step500_loss_diff)[::-1]\n",
    "print('Reference loss: ', step500_hipr_losses[-1])\n",
    "for idx in max_idx[:5]:\n",
    "    print()\n",
    "    print('coordinate: ', arcd.coords.internal.get_involved(idx, **ic_parms))\n",
    "    print('with associated loss: ', step500_hipr_losses[idx])"
   ]
  },
  {
   "cell_type": "markdown",
   "metadata": {},
   "source": [
    "## Now we know that the dihedral between the atoms 6, 8, 14 and 15 seems to be important...what are these atoms?"
   ]
  },
  {
   "cell_type": "code",
   "execution_count": 16,
   "metadata": {},
   "outputs": [
    {
     "name": "stdout",
     "output_type": "stream",
     "text": [
      "atom:  ALA2-N  with index:  6\n",
      "atom:  ALA2-CA  with index:  8\n",
      "atom:  ALA2-C  with index:  14\n",
      "atom:  ALA2-O  with index:  15\n",
      "atom:  NME3-N  with index:  16\n"
     ]
    }
   ],
   "source": [
    "# lets get a snapshot from trajectory, such that we can ask its topology object for the atom names\n",
    "snap = storage.snapshots[-1]\n",
    "topol = snap.topology.mdtraj\n",
    "\n",
    "for at in [6, 8, 14, 15, 16]:\n",
    "    print('atom: ', topol.atom(at), ' with index: ', at)"
   ]
  },
  {
   "cell_type": "markdown",
   "metadata": {},
   "source": [
    "It is a dihedral which is equivalent to psi (atoms 6, 8, 14 and 16) since atom 15 and atom 16 are always in the same plane, they are the O and the N of a peptide bond."
   ]
  },
  {
   "cell_type": "markdown",
   "metadata": {},
   "source": [
    "## Can we get a more intuitive feeling for what is happening?\n",
    "### Lets make a movie of a transition colored by gradient of the learned reaction coordinate!"
   ]
  },
  {
   "cell_type": "code",
   "execution_count": 17,
   "metadata": {},
   "outputs": [],
   "source": [
    "# get some TPs from the last steps of the storage\n",
    "tras = []\n",
    "for step in storage.steps[-50:]:\n",
    "    if step.change.canonical.accepted:\n",
    "        tras.append(step.change.canonical.trials[0].trajectory)"
   ]
  },
  {
   "cell_type": "code",
   "execution_count": 19,
   "metadata": {},
   "outputs": [],
   "source": [
    "# instantiate the movie maker\n",
    "gmovie = arcd.analysis.GradientMovieMaker(trainhook.model, trainhook.model.descriptor_transform, topol)"
   ]
  },
  {
   "cell_type": "code",
   "execution_count": 20,
   "metadata": {},
   "outputs": [
    {
     "data": {
      "text/plain": [
       "[42, 42, 95, 60, 71, 33, 47, 64, 36, 70, 74, 47, 40, 94, 108]"
      ]
     },
     "execution_count": 20,
     "metadata": {},
     "output_type": "execute_result"
    }
   ],
   "source": [
    "# lets choose a trajectory that is not too long to save some time\n",
    "# (especially important if using symmetry functions)\n",
    "[len(t) for t in tras]"
   ]
  },
  {
   "cell_type": "code",
   "execution_count": 22,
   "metadata": {},
   "outputs": [],
   "source": [
    "# Note: works only for internal coordinates only\n",
    "# choose the atoms we want to calculate gradients for\n",
    "# just take all the ala atoms, as they are the only ones that can contribute if using internal coordinates only\n",
    "atoms = topol.select('not resname HOH')"
   ]
  },
  {
   "cell_type": "code",
   "execution_count": 23,
   "metadata": {},
   "outputs": [],
   "source": [
    "# this will write out two pdb trajectories with the gradient info in the Bfactors\n",
    "# one with gradient magnitudes normalized per frame and one with just the gradient magnitudes\n",
    "gmovie.color_by_gradient(tras[0], 'ala_movie_0.pdb', atom_indices=atoms)"
   ]
  },
  {
   "cell_type": "markdown",
   "metadata": {},
   "source": [
    "## look at the movie in VMD\n",
    "Unfortunately just loading the trajectory will not work, since VMD reads only the Bfactors of the first frame, the way to get the movie is:\n",
    "1. start VMD\n",
    "2. `source arcd/examples/resources/pdbbfactor.tcl` in the VMD TK console\n",
    "3. `pdbbfactor $OUTFILENAME` loads the trajectory and writes the Bfactors of every frame into the VMD user field for every frame\n",
    "4. choose color by user and be amazed :)"
   ]
  },
  {
   "cell_type": "code",
   "execution_count": 17,
   "metadata": {},
   "outputs": [],
   "source": [
    "storage.close()\n",
    "arcd_store.close()"
   ]
  },
  {
   "cell_type": "code",
   "execution_count": null,
   "metadata": {},
   "outputs": [],
   "source": []
  }
 ],
 "metadata": {
  "kernelspec": {
   "display_name": "ARCD dev (py3.7/Juli-2020)",
   "language": "python",
   "name": "arcd_dev_7_2020"
  },
  "language_info": {
   "codemirror_mode": {
    "name": "ipython",
    "version": 3
   },
   "file_extension": ".py",
   "mimetype": "text/x-python",
   "name": "python",
   "nbconvert_exporter": "python",
   "pygments_lexer": "ipython3",
   "version": "3.7.7"
  }
 },
 "nbformat": 4,
 "nbformat_minor": 4
}
