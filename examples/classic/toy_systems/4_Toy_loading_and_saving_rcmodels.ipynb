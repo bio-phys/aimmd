{
 "cells": [
  {
   "cell_type": "markdown",
   "metadata": {},
   "source": [
    "# Loading and saving `RCModel`s\n",
    "This notebook will show you:\n",
    "- how to load any `aimmd.RCModel` by hand\n",
    "- how to save any `aimmd.RCModel` by hand\n",
    "\n",
    "Note: This notebook depends on files created in either one of the the notebooks `1_Toy_pytorch_simple_setup.ipynb` and `1_Toy_tensorflow_simple_setup.ipynb`. Please do one of them first if you have not already."
   ]
  },
  {
   "cell_type": "code",
   "execution_count": 1,
   "metadata": {},
   "outputs": [],
   "source": [
    "%matplotlib inline"
   ]
  },
  {
   "cell_type": "code",
   "execution_count": 2,
   "metadata": {},
   "outputs": [],
   "source": [
    "import os\n",
    "import aimmd\n",
    "import numpy as np\n",
    "import matplotlib.pyplot as plt\n",
    "import openpathsampling as paths"
   ]
  },
  {
   "cell_type": "code",
   "execution_count": 3,
   "metadata": {},
   "outputs": [],
   "source": [
    "# set this to False if you want to use the files from the pytorch notebook instead\n",
    "use_tf_notebook_files = True\n",
    "\n",
    "# change to the working directory of choice\n",
    "# (should be the same as in the first notebook)\n",
    "if use_tf_notebook_files:\n",
    "    wdir = '/home/tb/hejung/DATA/aimmd_scratch/SimData_keras_toy_22dim/'\n",
    "else:\n",
    "    wdir = '/home/tb/hejung/DATA/aimmd_scratch/SimData_pytorch_toy_22dim/'\n",
    "\n",
    "#wdir = None\n",
    "if wdir is not None:\n",
    "    os.chdir(wdir)"
   ]
  },
  {
   "cell_type": "markdown",
   "metadata": {},
   "source": [
    "## Loading\n",
    "You can load any `RCModel` from the `aimmd.Storage`. This is useful for example to do analysis of the intermediate models that have been saved."
   ]
  },
  {
   "cell_type": "code",
   "execution_count": 4,
   "metadata": {},
   "outputs": [],
   "source": [
    "aimmd_storage = aimmd.Storage('aimmd_storage.h5', \"a\")  # open storage in append mode"
   ]
  },
  {
   "cell_type": "markdown",
   "metadata": {},
   "source": [
    "The `aimmd.Storage` exposes a dictionary like interface for all models at `storage.rcmodels`."
   ]
  },
  {
   "cell_type": "code",
   "execution_count": 9,
   "metadata": {},
   "outputs": [
    {
     "name": "stdout",
     "output_type": "stream",
     "text": [
      "KeysView(<aimmd.base.storage.RCModelRack object at 0x7f1d3eb53b50>)\n",
      "\n",
      "Available models in the storage are:\n",
      "RCModel_after_step_1000\n",
      "RCModel_after_step_500\n",
      "most_recent\n"
     ]
    }
   ],
   "source": [
    "print(aimmd_storage.rcmodels.keys())  # will be a KeysView\n",
    "print()\n",
    "print(\"Available models in the storage are:\")\n",
    "for k in aimmd_storage.rcmodels:\n",
    "    print(k)"
   ]
  },
  {
   "cell_type": "markdown",
   "metadata": {},
   "source": [
    "There should always be a `most_recent` model if you used the `aimmd.Storage` with a TPS simulation. This key will always point to the model (state) at the point in time when the simulation has finished its last TPS step. This should make it easy to always get the most recent model for restarting/continuing a simulation."
   ]
  },
  {
   "cell_type": "code",
   "execution_count": 10,
   "metadata": {},
   "outputs": [],
   "source": [
    "# load the most recent model\n",
    "model = aimmd_storage.rcmodels[\"most_recent\"]"
   ]
  },
  {
   "cell_type": "markdown",
   "metadata": {},
   "source": [
    "### Note that the model will have forgotten about the descriptor_transform and the states (if they are openpathsampling objects)\n",
    "All `openpathsampling` objects are saved in the `openpathsampling.Storage` (because this storage knows how to save them and always will). Currently this affects the states (if they are `openpathsampling.Volume` objects) and the descriptor_transform (if it is a `openpathsampling.CollectiveVariable` or sublcass thereof).\n",
    "\n",
    "We can however easily readd them to the model in the current python session by calling `model.complete_from_ops_storage(store)` where `store` is the `openpathsampling.Storage` containing the descriptor_transform collective variable and and the state volumes.\n",
    "\n",
    "Note: If states or descriptor_transform had been pure python objects/functions, they would have been be pickled and saved with the model to the `aimmd.Storage`."
   ]
  },
  {
   "cell_type": "code",
   "execution_count": 14,
   "metadata": {},
   "outputs": [
    {
     "name": "stdout",
     "output_type": "stream",
     "text": [
      "['StateA', 'StateB']\n",
      "descriptor_transform\n"
     ]
    }
   ],
   "source": [
    "print(model.states)  # these will be strings indicating the names of the ops volumes\n",
    "print(model.descriptor_transform)  # same for the descriptor transform"
   ]
  },
  {
   "cell_type": "code",
   "execution_count": 15,
   "metadata": {},
   "outputs": [],
   "source": [
    "# open ops storage for reading\n",
    "if use_tf_notebook_files:\n",
    "    storage = paths.Storage(\"22dim_toy_keras.nc\", \"r\")  # read only\n",
    "else:\n",
    "    storage = paths.Storage('22dim_toy_pytorch.nc', 'r')"
   ]
  },
  {
   "cell_type": "code",
   "execution_count": 16,
   "metadata": {},
   "outputs": [
    {
     "name": "stdout",
     "output_type": "stream",
     "text": [
      "[<openpathsampling.volume.CVDefinedVolume object at 0x7f17a3e19190>, <openpathsampling.volume.CVDefinedVolume object at 0x7f17a3e19730>]\n",
      "<openpathsampling.collectivevariable.FunctionCV object at 0x7f1c7675f370>\n"
     ]
    }
   ],
   "source": [
    "# complete the model\n",
    "model.complete_from_ops_storage(storage)\n",
    "# now states and descriptor transform should be ops objects again\n",
    "print(model.states)\n",
    "print(model.descriptor_transform)"
   ]
  },
  {
   "cell_type": "code",
   "execution_count": 17,
   "metadata": {},
   "outputs": [
    {
     "name": "stdout",
     "output_type": "stream",
     "text": [
      "<aimmd.keras.rcmodel.EEScaleKerasRCModel object at 0x7f1c76f03490>\n",
      "[[0.14685754]]\n"
     ]
    }
   ],
   "source": [
    "# check that it worked\n",
    "print(model)  # should print an initialized aimmd model\n",
    "print(model(storage.snapshots[-1]))  # predicts the commitment probability for the last shooting snapshot in the ops storage"
   ]
  },
  {
   "cell_type": "markdown",
   "metadata": {},
   "source": [
    "## Saving\n",
    "Of course you can also save any `aimmd.RCModel` you want at any time. Simply (re)set the key with the desired name to any `aimmd.RCModel`.\n",
    "\n",
    "As noted above, in case the model has an attached OPS `CollectiveVariable` as `descriptor_transform` or `Volume` objects as states, it will save their names instead, such that you can later only completely reconstruct the model if passing an `openpathsampling.Storage` that contains the/any CV with that name."
   ]
  },
  {
   "cell_type": "code",
   "execution_count": 18,
   "metadata": {},
   "outputs": [],
   "source": [
    "aimmd_storage.rcmodels[\"save_test\"] = model"
   ]
  },
  {
   "cell_type": "code",
   "execution_count": 20,
   "metadata": {},
   "outputs": [
    {
     "data": {
      "text/plain": [
       "['RCModel_after_step_1000',\n",
       " 'RCModel_after_step_500',\n",
       " 'most_recent',\n",
       " 'save_test']"
      ]
     },
     "execution_count": 20,
     "metadata": {},
     "output_type": "execute_result"
    }
   ],
   "source": [
    "# list all keys to see that it is there\n",
    "list(aimmd_storage.rcmodels.keys())"
   ]
  },
  {
   "cell_type": "markdown",
   "metadata": {},
   "source": [
    "## Arbitrary python functions for descriptor_transform and states"
   ]
  },
  {
   "cell_type": "code",
   "execution_count": 21,
   "metadata": {},
   "outputs": [],
   "source": [
    "# now lets test saving arbitrary python functions as descriptor_transform\n",
    "def test_func(x, y):\n",
    "    return x + y\n",
    "\n",
    "# this will break our model as it changes the call signature of descriptor_transform, only for demonstration purposes\n",
    "model.descriptor_transform = test_func"
   ]
  },
  {
   "cell_type": "code",
   "execution_count": 22,
   "metadata": {},
   "outputs": [],
   "source": [
    "aimmd_storage.rcmodels[\"save_test2\"] = model"
   ]
  },
  {
   "cell_type": "code",
   "execution_count": 23,
   "metadata": {},
   "outputs": [],
   "source": [
    "# load it to see if it worked\n",
    "loaded_model = aimmd_storage.rcmodels[\"save_test2\"]"
   ]
  },
  {
   "cell_type": "code",
   "execution_count": 25,
   "metadata": {},
   "outputs": [
    {
     "data": {
      "text/plain": [
       "2"
      ]
     },
     "execution_count": 25,
     "metadata": {},
     "output_type": "execute_result"
    }
   ],
   "source": [
    "# will return 2\n",
    "loaded_model.descriptor_transform(1, 1)"
   ]
  },
  {
   "cell_type": "code",
   "execution_count": 26,
   "metadata": {},
   "outputs": [],
   "source": [
    "aimmd_storage.close()  # close the aimmd.Storage, important to make sure everything is flushed from cache to disk"
   ]
  },
  {
   "cell_type": "code",
   "execution_count": 27,
   "metadata": {},
   "outputs": [],
   "source": [
    "storage.close()  # close the ops storage (should not be necessary if open in read-only, but better be save than sorry...)"
   ]
  },
  {
   "cell_type": "code",
   "execution_count": null,
   "metadata": {},
   "outputs": [],
   "source": []
  }
 ],
 "metadata": {
  "kernelspec": {
   "display_name": "AIMMD nature publish (py3)",
   "language": "python",
   "name": "aimmd_nature_publish"
  },
  "language_info": {
   "codemirror_mode": {
    "name": "ipython",
    "version": 3
   },
   "file_extension": ".py",
   "mimetype": "text/x-python",
   "name": "python",
   "nbconvert_exporter": "python",
   "pygments_lexer": "ipython3",
   "version": "3.8.10"
  }
 },
 "nbformat": 4,
 "nbformat_minor": 4
}
