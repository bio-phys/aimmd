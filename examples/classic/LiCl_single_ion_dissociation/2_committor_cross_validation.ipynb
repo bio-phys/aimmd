{
 "cells": [
  {
   "cell_type": "markdown",
   "metadata": {},
   "source": [
    "# Committor cross validation\n",
    "This notebook will show a quick way to asses if a training configuration gives self-consistent results.\n",
    "It assumes you have two trained RCModels and the corresponding OPS storages.\n",
    "By plotting the predictions of one model for points from its own training process against the prediction of the other model for those points as a scatter plot we can asses if the two models predict the same. If the points deviate from the diagonal this can have two different reasons:\n",
    "1. The models overfit to their respective training points and do not generalize well.\n",
    "2. The models have sampled two different reaction channels.\n",
    "\n",
    "To exclude #2 one could either try to train a third model on the combination of training points and repeat the test or have a look at the TP ensembles in some suitable projection if that is at hand."
   ]
  },
  {
   "cell_type": "code",
   "execution_count": 1,
   "metadata": {},
   "outputs": [
    {
     "name": "stderr",
     "output_type": "stream",
     "text": [
      "Using TensorFlow backend.\n"
     ]
    }
   ],
   "source": [
    "import arcd\n",
    "import os\n",
    "import openpathsampling as paths\n",
    "import numpy as np\n",
    "import matplotlib.pyplot as plt\n",
    "plt.rcParams['figure.figsize'] = 9, 6  # make the figures a bit bigger"
   ]
  },
  {
   "cell_type": "code",
   "execution_count": 2,
   "metadata": {},
   "outputs": [],
   "source": [
    "# change to the working directory of your choice\n",
    "wdir = '/homeloc/scratch/hejung/arcd_scratch/LiCl/'\n",
    "#wdir = None\n",
    "cur_dir = os.path.abspath(os.getcwd())\n",
    "if wdir is not None:\n",
    "    os.chdir(wdir)"
   ]
  },
  {
   "cell_type": "code",
   "execution_count": 3,
   "metadata": {},
   "outputs": [],
   "source": [
    "storageI = paths.Storage('LiCl_snn.nc', 'a')"
   ]
  },
  {
   "cell_type": "code",
   "execution_count": 4,
   "metadata": {},
   "outputs": [
    {
     "name": "stderr",
     "output_type": "stream",
     "text": [
      "Restoring RCModelSelector without model.If used together with arcd.TrainingHook you can ignore this warning, otherwise please take care of resetting the model yourself.\n"
     ]
    }
   ],
   "source": [
    "samplerI = storageI.pathsimulators[0]\n",
    "samplerI.restart_at_step(storageI.steps[-1], storageI)\n",
    "trainhookI = arcd.ops.TrainingHook(None, None, 100)\n",
    "samplerI.attach_hook(trainhookI)"
   ]
  },
  {
   "cell_type": "code",
   "execution_count": 5,
   "metadata": {},
   "outputs": [
    {
     "name": "stdout",
     "output_type": "stream",
     "text": [
      "Working on Monte Carlo cycle number 5001\n",
      "Starting simulation...\n",
      "Working on first step\n",
      "DONE! Completed 5001 Monte Carlo cycles.\n"
     ]
    }
   ],
   "source": [
    "samplerI.run(1)"
   ]
  },
  {
   "cell_type": "code",
   "execution_count": 6,
   "metadata": {},
   "outputs": [],
   "source": [
    "storageII = paths.Storage('LiCl_snnII.nc', 'a')"
   ]
  },
  {
   "cell_type": "code",
   "execution_count": 7,
   "metadata": {},
   "outputs": [
    {
     "name": "stderr",
     "output_type": "stream",
     "text": [
      "Restoring RCModelSelector without model.If used together with arcd.TrainingHook you can ignore this warning, otherwise please take care of resetting the model yourself.\n"
     ]
    }
   ],
   "source": [
    "samplerII = storageII.pathsimulators[0]\n",
    "samplerII.restart_at_step(storageII.steps[-1], storageII)\n",
    "trainhookII = arcd.ops.TrainingHook(None, None, 100)\n",
    "samplerII.attach_hook(trainhookII)"
   ]
  },
  {
   "cell_type": "code",
   "execution_count": 8,
   "metadata": {},
   "outputs": [
    {
     "name": "stdout",
     "output_type": "stream",
     "text": [
      "Working on Monte Carlo cycle number 5001\n",
      "Starting simulation...\n",
      "Working on first step\n",
      "DONE! Completed 5001 Monte Carlo cycles.\n"
     ]
    }
   ],
   "source": [
    "samplerII.run(1)"
   ]
  },
  {
   "cell_type": "code",
   "execution_count": 34,
   "metadata": {},
   "outputs": [],
   "source": [
    "pred_A = trainhookI.model(trainhookI.trainset.descriptors, use_transform=False)\n",
    "pred_B = trainhookII.model(trainhookI.trainset.descriptors, use_transform=False)"
   ]
  },
  {
   "cell_type": "code",
   "execution_count": 35,
   "metadata": {},
   "outputs": [],
   "source": [
    "pred_A = pred_A.flatten()\n",
    "pred_B = pred_B.flatten()"
   ]
  },
  {
   "cell_type": "code",
   "execution_count": 36,
   "metadata": {},
   "outputs": [],
   "source": [
    "pred_A_ = trainhookII.model(trainhookII.trainset.descriptors, use_transform=False).flatten()\n",
    "pred_B_ = trainhookI.model(trainhookII.trainset.descriptors, use_transform=False).flatten()"
   ]
  },
  {
   "cell_type": "code",
   "execution_count": 18,
   "metadata": {},
   "outputs": [],
   "source": [
    "from matplotlib import rc\n",
    "rc('font',**{'family':'sans-serif','sans-serif':['Helvetica']})\n",
    "## for Palatino and other serif fonts use:\n",
    "#rc('font',**{'family':'serif','serif':['Palatino']})\n",
    "rc('text', usetex=True)"
   ]
  },
  {
   "cell_type": "code",
   "execution_count": 41,
   "metadata": {},
   "outputs": [
    {
     "data": {
      "image/png": "[encoded data removed]",
      "text/plain": [
       "<Figure size 432x288 with 2 Axes>"
      ]
     },
     "metadata": {
      "needs_background": "light"
     },
     "output_type": "display_data"
    }
   ],
   "source": [
    "fig, axs = plt.subplots(1, 2)\n",
    "\n",
    "ax = axs[0]\n",
    "ax.scatter(pred_A, pred_B)\n",
    "ax.set_aspect('equal')\n",
    "ax.set_xlabel(r'$Model 1: p_B( \\theta_1)$', size=20)\n",
    "ax.set_ylabel(r'$Model 2: p_B( \\theta_1)$', size=20)\n",
    "ax.tick_params(labelsize=15)\n",
    "\n",
    "ax = axs[1]\n",
    "ax.scatter(pred_A_, pred_B_)\n",
    "ax.set_aspect('equal')\n",
    "ax.set_xlabel(r'$Model 2: p_B( \\theta_2)$', size=20)\n",
    "ax.set_ylabel(r'$Model 1: p_B( \\theta_2)$', size=20)\n",
    "ax.tick_params(labelsize=15)\n",
    "\n",
    "fig.tight_layout()"
   ]
  },
  {
   "cell_type": "code",
   "execution_count": null,
   "metadata": {},
   "outputs": [],
   "source": [
    "from mpl_toolkits.axes_grid1 import make_axes_locatable\n",
    "\n",
    "fig, axs = plt.subplots(1, 2)\n",
    "\n",
    "ax = axs[0]\n",
    "im, xses, yses, mesh = ax.hist2d(pred_A, pred_B, bins=20, cmin=0, cmax=100)\n",
    "#ax.tricontour(triang)\n",
    "ax.set_aspect('equal')\n",
    "ax.set_xlabel(r'$Model 1: p_B( \\theta_1)$', size=20)\n",
    "ax.set_ylabel(r'$Model 2: p_B( \\theta_1)$', size=20)\n",
    "ax.tick_params(labelsize=15)\n",
    "\n",
    "divider = make_axes_locatable(ax)\n",
    "cax = divider.append_axes(\"right\", size=\"10%\", pad=0.05)\n",
    "fig.colorbar(mesh, cax=cax, orientation='vertical')\n",
    "\n",
    "\n",
    "ax = axs[1]\n",
    "im, xses, yses, mesh = ax.hist2d(pred_A_, pred_B_, bins=20, cmin=0, cmax=100)\n",
    "ax.set_aspect('equal')\n",
    "ax.set_xlabel(r'$Model 2: p_B( \\theta_2)$', size=20)\n",
    "ax.set_ylabel(r'$Model 1: p_B( \\theta_2)$', size=20)\n",
    "ax.tick_params(labelsize=15)\n",
    "\n",
    "\n",
    "divider = make_axes_locatable(ax)\n",
    "cax = divider.append_axes(\"right\", size=\"10%\", pad=0.05)\n",
    "fig.colorbar(mesh, cax=cax, orientation='vertical')\n",
    "\n",
    "fig.tight_layout()"
   ]
  },
  {
   "cell_type": "code",
   "execution_count": 42,
   "metadata": {},
   "outputs": [],
   "source": [
    "storageI.sync_all()\n",
    "storageI.close()"
   ]
  },
  {
   "cell_type": "code",
   "execution_count": 43,
   "metadata": {},
   "outputs": [],
   "source": [
    "storageII.sync_all()\n",
    "storageII.close()"
   ]
  },
  {
   "cell_type": "code",
   "execution_count": null,
   "metadata": {},
   "outputs": [],
   "source": []
  }
 ],
 "metadata": {
  "kernelspec": {
   "display_name": "ARCD",
   "language": "python",
   "name": "arcd"
  },
  "language_info": {
   "codemirror_mode": {
    "name": "ipython",
    "version": 3
   },
   "file_extension": ".py",
   "mimetype": "text/x-python",
   "name": "python",
   "nbconvert_exporter": "python",
   "pygments_lexer": "ipython3",
   "version": "3.6.8"
  }
 },
 "nbformat": 4,
 "nbformat_minor": 2
}
