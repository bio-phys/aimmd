{
 "cells": [
  {
   "cell_type": "markdown",
   "metadata": {},
   "source": [
    "# Emulate a production run and postprocessing training for existing TPS data\n",
    "\n",
    "In this notebook we will first emulate an iterative production run from existing TPS data, i.e. we will not generate any new trajectories but train a model on the existing trajectory/shooting data. This can be done in wo different ways:\n",
    " - **emulate production** is trying to be as close as possible to the real simulation by adding the shooting results one by one to the trainingset in the order they have been produced. This is useful to quickly test different models/model architectures without the (computationally costly) trajectory propagation. Here we will do this on the LiCl data from the publication to reproduce those results.\n",
    " - **postprocessing training** usually gives the more accurate model, here we use the full training set from the begininng of the training on thereby avoiding issues that arise from correlations of subsequent shooting points and also do not have the issue that we train on a very limited amount of data as at the beginning of the iterative run\n",
    " \n",
    "We will start with emulating a production run, then do a postprocessing training and finish by cross correalting the two model with each other and the sampled validation committors.\n",
    "\n",
    "We will use the data in `training_and_validation_data`, which contains a `.npz` file with precalculated descriptors for the shooting points and the corresponding shooting reults. In that folder are also the results of validation committor shots for the single LiCl ion pair and for a 1 M LiCl solution to check the accuracy and transferability of the trained models. Additionally for every `.npz` file there is also a corresponding `mdtraj` `.h5` trajectory (with the suffix `_configurations.h5` instead of `_data.npz`) which contains the atomistic configurations of the shooting snapshots in case we want to try different descriptor functions to transform frrom the atomistic space to the space the model learns and predicts in."
   ]
  },
  {
   "cell_type": "code",
   "execution_count": 1,
   "metadata": {},
   "outputs": [],
   "source": [
    "%matplotlib inline"
   ]
  },
  {
   "cell_type": "code",
   "execution_count": 2,
   "metadata": {},
   "outputs": [],
   "source": [
    "import matplotlib.pyplot as plt\n",
    "import numpy as np\n",
    "import os\n",
    "import aimmd\n",
    "import mdtraj as mdt"
   ]
  },
  {
   "cell_type": "code",
   "execution_count": null,
   "metadata": {},
   "outputs": [],
   "source": [
    "# load the training data from the iterative run\n",
    "# the descriptors here correspond to the full symmetry function description used in the publication,\n",
    "# it is also what you get by removing the comments in the symmetry function setup from the iterative notebooks with \"reduced symmetry functions\"\n",
    "# We optionally load the data from figshare (if it is not present locally)\n",
    "from dataloader import DataLoaderLiCl\n",
    "\n",
    "DataLoaderLiCl.fetch(\"LiCl_training_data.npz\", progressbar=True)\n",
    "\n",
    "f = np.load(\"training_and_validation_data/LiCl_training_data.npz\")\n",
    "trainset = aimmd.TrainSet(n_states=2, descriptors=f[\"descriptors\"], shot_results=f[\"shot_results\"])"
   ]
  },
  {
   "cell_type": "code",
   "execution_count": 4,
   "metadata": {},
   "outputs": [],
   "source": [
    "# open an aimmd storage for model storing\n",
    "aimmd_store = aimmd.Storage(\"emulate_and_pptrain.h5\")"
   ]
  },
  {
   "cell_type": "markdown",
   "metadata": {},
   "source": [
    "## Emulate production"
   ]
  },
  {
   "cell_type": "markdown",
   "metadata": {},
   "source": [
    "### Define a model"
   ]
  },
  {
   "cell_type": "code",
   "execution_count": 5,
   "metadata": {},
   "outputs": [
    {
     "name": "stdout",
     "output_type": "stream",
     "text": [
      "number of input descriptors:  221\n"
     ]
    }
   ],
   "source": [
    "import torch.nn.functional as F\n",
    "import torch\n",
    "\n",
    "# create a pyramidal feed-forward architecture with a ResNet top part\n",
    "n_lay_pyramid = 6  # number of layers in the pyramid\n",
    "n_unit_top = 10  # number of units per layer in the top ResNet part\n",
    "n_lay_top = 2  # number of ResUnits in the top part, results in n_lay_top * residual_n_skip layers\n",
    "n_unit_base = trainset.descriptors.shape[1]  # number of inputs to the NN/number of units in the first layer\n",
    "print('number of input descriptors: ', n_unit_base)\n",
    "\n",
    "# calculate the factor by which we reduce the number of units per layer in the pyramidal part from layer to layer\n",
    "fact = (n_unit_top / n_unit_base)**(1./(n_lay_pyramid-1))\n",
    "\n",
    "ffnet = aimmd.pytorch.networks.SNN(n_in=n_unit_base,\n",
    "                                   n_hidden=[max(n_unit_top, int(n_unit_base * fact**i)) for i in range(n_lay_pyramid)],  # 4 hidden layer pyramidal network\n",
    "                                   dropout={str(i): 0.3 * fact**i for i in range(n_lay_pyramid)},  # dropout 0.25 works okayish!\n",
    "                                   )\n",
    "\n",
    "resnet = aimmd.pytorch.networks.ResNet(n_units=n_unit_top, n_blocks=n_lay_top)\n",
    "\n",
    "torch_model = aimmd.pytorch.networks.ModuleStack(n_out=1,  # using a single output we will predict only p_B and use a binomial loss\n",
    "                                                           # we could have also used n_out=n_states to use a multinomial loss and predict all states,\n",
    "                                                           # but this is probably only worthwhile if n_states > 2 as it would increase the number of free parameters in the NN\n",
    "                                                 modules=[ffnet, resnet],  # modules is a list of initialized torch.nn.Modules from aimmd.pytorch.networks\n",
    "                                                )\n",
    "\n",
    "# move model to GPU if CUDA is available\n",
    "if torch.cuda.is_available():\n",
    "    torch_model = torch_model.to('cuda')\n",
    "\n",
    "# choose and initialize an optimizer to train the model\n",
    "optimizer = torch.optim.Adam(torch_model.parameters(), lr=1e-3)\n",
    "\n",
    "# wrap it for use with aimmd\n",
    "model = aimmd.pytorch.EEScalePytorchRCModel(nnet=torch_model,\n",
    "                                            optimizer=optimizer,\n",
    "                                            # since we already have the descriptors and the shooting results\n",
    "                                            # our model does not need the 'real' states and descriptor transform\n",
    "                                            states=[\"bound\", \"unbound\"],  # just needs to have the correct length\n",
    "                                            descriptor_transform=None,  # using None means use given descriptors as is without applying any transformation\n",
    "                                            ee_params={'lr_0': 1e-3,\n",
    "                                                       'lr_min': 1e-4,  # lr_min = lr_0 / 10 is a good choice empirically\n",
    "                                                       'epochs_per_train': 1,\n",
    "                                                       'interval': 3,\n",
    "                                                       'window': 100,\n",
    "                                                       'batch_size':128,  # batch size to use during training,\n",
    "                                                       # None means take the current full trainingset length as batch size, i.e. one large batch per epoch\n",
    "                                                       },\n",
    "                                            cache_file=aimmd_store,\n",
    "                                            )"
   ]
  },
  {
   "cell_type": "code",
   "execution_count": 6,
   "metadata": {},
   "outputs": [],
   "source": [
    "# save initial model\n",
    "aimmd_store.rcmodels[\"initial_model_emulation\"] = model\n",
    "\n",
    "# now do a production emulation using one of the utility functions\n",
    "# (there is also a function to emulate a production run from an openpathsampling storage, but this is mainly useful if changing the descriptor_transform)\n",
    "model = aimmd.emulate_production_from_trainset(model=model, trainset=trainset)"
   ]
  },
  {
   "cell_type": "code",
   "execution_count": 7,
   "metadata": {},
   "outputs": [],
   "source": [
    "# save the model after training/emulating the production run\n",
    "aimmd_store.rcmodels[\"final_model_emulation\"] = model"
   ]
  },
  {
   "cell_type": "markdown",
   "metadata": {},
   "source": [
    "## Postprocessing training"
   ]
  },
  {
   "cell_type": "markdown",
   "metadata": {},
   "source": [
    "### Define a model\n",
    "(same architecture as above)"
   ]
  },
  {
   "cell_type": "code",
   "execution_count": 8,
   "metadata": {},
   "outputs": [
    {
     "name": "stdout",
     "output_type": "stream",
     "text": [
      "number of input descriptors:  221\n"
     ]
    }
   ],
   "source": [
    "# create a pyramidal feed-forward architecture with a ResNet top part\n",
    "n_lay_pyramid = 6  # number of layers in the pyramid\n",
    "n_unit_top = 10  # number of units per layer in the top ResNet part\n",
    "n_lay_top = 3  # number of ResUnits in the top part, results in n_lay_top * residual_n_skip layers\n",
    "n_unit_base = trainset.descriptors.shape[1]  # number of inputs to the NN/number of units in the first layer\n",
    "print('number of input descriptors: ', n_unit_base)\n",
    "\n",
    "# calculate the factor by which we reduce the number of units per layer in the pyramidal part from layer to layer\n",
    "fact = (n_unit_top / n_unit_base)**(1./(n_lay_pyramid-1))\n",
    "\n",
    "ffnet = aimmd.pytorch.networks.SNN(n_in=n_unit_base,\n",
    "                                   n_hidden=[max(n_unit_top, int(n_unit_base * fact**i)) for i in range(n_lay_pyramid)],  # 4 hidden layer pyramidal network\n",
    "                                   dropout={str(i): 0.3 * fact**i for i in range(n_lay_pyramid)},  # same here: 0.25 works okayish\n",
    "                                   )\n",
    "\n",
    "resnet = aimmd.pytorch.networks.ResNet(n_units=n_unit_top, n_blocks=n_lay_top)\n",
    "\n",
    "torch_model = aimmd.pytorch.networks.ModuleStack(n_out=1,  # using a single output we will predict only p_B and use a binomial loss\n",
    "                                                           # we could have also used n_out=n_states to use a multinomial loss and predict all states,\n",
    "                                                           # but this is probably only worthwhile if n_states > 2 as it would increase the number of free parameters in the NN\n",
    "                                                 modules=[ffnet, resnet],  # modules is a list of initialized torch.nn.Modules from aimmd.pytorch.networks\n",
    "                                                )\n",
    "\n",
    "# move model to GPU if CUDA is available\n",
    "if torch.cuda.is_available():\n",
    "    torch_model = torch_model.to('cuda')\n",
    "\n",
    "# choose and initialize an optimizer to train the model\n",
    "optimizer = torch.optim.Adam(torch_model.parameters(), lr=1e-3)\n",
    "\n",
    "# wrap it for use with aimmd\n",
    "model = aimmd.pytorch.EEScalePytorchRCModel(nnet=torch_model,\n",
    "                                            optimizer=optimizer,\n",
    "                                            # since we already have the descriptors and the shooting results\n",
    "                                            # our model does not need the 'real' states and descriptor transform\n",
    "                                            states=[\"bound\", \"unbound\"],  # just needs to have the correct length\n",
    "                                            descriptor_transform=None,  # using None means use given descriptors as is without applying any transformation\n",
    "                                            # here ee_params do not matter, because we do a post-processing training\n",
    "                                            ee_params={'lr_0': 1e-3,\n",
    "                                                       'lr_min': 1e-4,  # lr_min = lr_0 / 10 is a good choice empirically\n",
    "                                                       'epochs_per_train': 1,\n",
    "                                                       'interval': 3,\n",
    "                                                       'window': 100,\n",
    "                                                       'batch_size': 128,  # will be ignored in postprocessing training (we set it below)\n",
    "                                                       },\n",
    "                                            cache_file=aimmd_store,\n",
    "                                            )"
   ]
  },
  {
   "cell_type": "code",
   "execution_count": 9,
   "metadata": {},
   "outputs": [],
   "source": [
    "# save initial model\n",
    "aimmd_store.rcmodels[\"initial_model_pptrain\"] = model"
   ]
  },
  {
   "cell_type": "code",
   "execution_count": 10,
   "metadata": {},
   "outputs": [],
   "source": [
    "# split of test_frac (10%) of the training data as test data, which we will use to stop the training\n",
    "test_frac = 0.1\n",
    "\n",
    "val_split = np.zeros(len(trainset), dtype=bool)\n",
    "train_split = np.ones(len(trainset), dtype=bool)\n",
    "val_idxs = np.random.choice(np.arange(len(trainset)), size=int(test_frac*len(trainset)), replace=False)\n",
    "\n",
    "val_split[val_idxs] = True\n",
    "train_split[val_idxs] = False\n",
    "\n",
    "# Note that aimmd.TrainSet can be sliced and will return a new aimmd.TrainSet containing only the slice data\n",
    "trainset_train = trainset[train_split]\n",
    "trainset_val = trainset[val_split]"
   ]
  },
  {
   "cell_type": "code",
   "execution_count": 11,
   "metadata": {},
   "outputs": [],
   "source": [
    "# train the model\n",
    "# stop if we reach either:\n",
    "max_epochs = 100000  # maximum number of training epochs overall\n",
    "max_epochs_sans_improvement = 500  # maximum number of training epochs without a decrease in test loss\n",
    "\n",
    "batch_size = 128  # batch_size=None results in batches of the size of the trainset\n",
    "#batch_size = 256\n",
    "\n",
    "test_losses = []\n",
    "test_losses.append(model.test_loss(trainset_val, batch_size=batch_size))\n",
    "min_loss = test_losses[0]\n",
    "train_losses = []\n",
    "train = True\n",
    "no_decrease = []\n",
    "i = 0\n",
    "\n",
    "while train and i <= max_epochs:\n",
    "    train_losses.append(model.train_epoch(trainset_train, batch_size=batch_size))\n",
    "    test_losses.append(model.test_loss(trainset_val, batch_size=batch_size))\n",
    "\n",
    "    if test_losses[-1] <= min_loss:\n",
    "        min_loss = test_losses[-1]\n",
    "        no_decrease = []\n",
    "        aimmd_store.rcmodels[\"best_model_pptrain\"] = model  # always store the model with the best test loss\n",
    "    else:\n",
    "        no_decrease.append(1)\n",
    "        if sum(no_decrease) >= max_epochs_sans_improvement:\n",
    "            train = False\n",
    "\n",
    "    i += 1"
   ]
  },
  {
   "cell_type": "code",
   "execution_count": 12,
   "metadata": {},
   "outputs": [
    {
     "data": {
      "image/png": "[encoded data removed]",
      "text/plain": [
       "<Figure size 432x288 with 1 Axes>"
      ]
     },
     "metadata": {
      "needs_background": "light"
     },
     "output_type": "display_data"
    }
   ],
   "source": [
    "fig, axs = plt.subplots()\n",
    "\n",
    "axs.plot(test_losses, label=\"test loss\")\n",
    "axs.plot(train_losses, label=\"train loss\")\n",
    "\n",
    "axs.set_ylabel(\"Loss value\")\n",
    "axs.set_xlabel(\"Training epochs\")\n",
    "axs.legend();"
   ]
  },
  {
   "cell_type": "markdown",
   "metadata": {},
   "source": [
    "### (cross) validation of the models"
   ]
  },
  {
   "cell_type": "code",
   "execution_count": null,
   "metadata": {},
   "outputs": [],
   "source": [
    "# load the validation committors\n",
    "# again optionally download if not present\n",
    "DataLoaderLiCl.fetch(\"LiCl_validation_data.npz\", progressbar=True)\n",
    "\n",
    "f = np.load(\"training_and_validation_data/LiCl_validation_data.npz\")\n",
    "trainset_val = aimmd.TrainSet(n_states=2,\n",
    "                              descriptors=f[\"descriptors\"],\n",
    "                              shot_results=f[\"shot_results\"],\n",
    "                              )\n",
    "\n",
    "# load the models\n",
    "final_model_pptrain = aimmd_store.rcmodels[\"best_model_pptrain\"]\n",
    "final_model_emulate = aimmd_store.rcmodels[\"final_model_emulation\"]"
   ]
  },
  {
   "cell_type": "code",
   "execution_count": 14,
   "metadata": {},
   "outputs": [
    {
     "data": {
      "image/png": "[encoded data removed]",
      "text/plain": [
       "<Figure size 432x288 with 2 Axes>"
      ]
     },
     "metadata": {
      "needs_background": "light"
     },
     "output_type": "display_data"
    }
   ],
   "source": [
    "# validate models on untrained committor data\n",
    "fig, axs = plt.subplots(ncols=2, sharey=True)\n",
    "\n",
    "for axnum, (ax, mod, title) in enumerate(zip(axs,\n",
    "                                             [final_model_emulate, final_model_pptrain],\n",
    "                                             [\"emulate production\", \"postprocessing training\"]\n",
    "                                             )\n",
    "                                         ):\n",
    "    p_B = trainset_val.shot_results[:,1] / np.sum(trainset_val.shot_results, axis=1)\n",
    "    p_B_hat = mod(trainset_val.descriptors)[:,0]\n",
    "    \n",
    "    ax.set_title(title)\n",
    "    ret = ax.scatter(p_B, p_B_hat)\n",
    "    ax.set_aspect('equal')\n",
    "    ax.set_xlim(0,1)\n",
    "    ax.set_xlabel(\"predicted $p_B$\")\n",
    "    ax.set_ylim(0,1)\n",
    "    if axnum == 0:\n",
    "        ax.set_ylabel(\"sampled $p_B$\")\n"
   ]
  },
  {
   "cell_type": "code",
   "execution_count": 15,
   "metadata": {},
   "outputs": [
    {
     "data": {
      "image/png": "[encoded data removed]",
      "text/plain": [
       "<Figure size 432x288 with 2 Axes>"
      ]
     },
     "metadata": {
      "needs_background": "light"
     },
     "output_type": "display_data"
    }
   ],
   "source": [
    "# cross validate the two models against each other\n",
    "# (this is an easy way of checking for basic consistency even if we do not have validation committor shots available)\n",
    "fig, axs = plt.subplots(ncols=2, sharey=True)\n",
    "\n",
    "for axnum, (ax, ts, title) in enumerate(zip(axs, [trainset, trainset_val], [\"on validation data\", \"on training data\"])):\n",
    "    p_B_emul = final_model_emulate(ts.descriptors)[:,0]\n",
    "    p_B_pptrain = final_model_pptrain(ts.descriptors)[:,0]\n",
    "    \n",
    "    ax.set_title(title)\n",
    "    ret = ax.scatter(p_B_pptrain, p_B_emul)\n",
    "    ax.set_aspect(\"equal\")\n",
    "    ax.set_xlim(0,1)\n",
    "    ax.set_xlabel(\"from emulate production model\")\n",
    "    ax.set_ylim(0,1)\n",
    "    if axnum == 0:\n",
    "        ax.set_ylabel(\"from pptrain model\")\n",
    "    "
   ]
  },
  {
   "cell_type": "markdown",
   "metadata": {},
   "source": [
    "## Relative input importance analysis"
   ]
  },
  {
   "cell_type": "markdown",
   "metadata": {},
   "source": [
    "### (Re)define the symmetry functions parameters from the publication\n",
    "This enables us to use the utility functions that associate an index with a function and enables interpretation of the relative input importances."
   ]
  },
  {
   "cell_type": "code",
   "execution_count": 16,
   "metadata": {},
   "outputs": [],
   "source": [
    "one_frame_atomistic = mdt.load(\"LiCl_solv.pdb\")\n",
    "cutoff = 1. # consider G5 worst case scenarios for cutoff!\n",
    "g2_parms = [[200., 0.25], [200., 0.4], [200., 0.55], [200., 0.7], [200., 0.85]] # eta, r_s\n",
    "\n",
    "g5_etas_rs = [[120., 0.25],\n",
    "              [120., 0.4],\n",
    "              [120., 0.55],\n",
    "              [120., 0.7],\n",
    "              [120., 0.85]\n",
    "             ]\n",
    "\n",
    "zetas = [\n",
    "        1,\n",
    "        2,\n",
    "        4,\n",
    "        16,\n",
    "        64,\n",
    "        ]\n",
    "\n",
    "g5_parms = [[eta, r_s, zeta, lamb] for (eta, r_s) in g5_etas_rs for zeta in zetas for lamb in [+1., -1.]]\n",
    "\n",
    "g_parms = [g2_parms, g5_parms]\n",
    "\n",
    "mol_idxs, solv_idxs = aimmd.coords.symmetry.generate_indices(one_frame_atomistic.topology,\n",
    "                                                             ['HOH'],\n",
    "                                                             solvent_atelements=[['O', 'H']],\n",
    "                                                             reactant_selection='index 0 or index 1')\n",
    "\n",
    "sf_parms = {'mol_idxs': mol_idxs, 'solv_idxs': solv_idxs, 'g_parms': g_parms,\n",
    "            'cutoff': cutoff, 'n_per_solv': [[1., 2.]], 'rho_solv': [33.]}"
   ]
  },
  {
   "cell_type": "markdown",
   "metadata": {},
   "source": [
    "### Postprocessing training model"
   ]
  },
  {
   "cell_type": "code",
   "execution_count": 17,
   "metadata": {},
   "outputs": [],
   "source": [
    "hipr_pptrain = aimmd.analysis.HIPRanalysis(final_model_pptrain, trainset)"
   ]
  },
  {
   "cell_type": "code",
   "execution_count": 18,
   "metadata": {},
   "outputs": [],
   "source": [
    "hipr_losses_pp, hipr_stds_pp = hipr_pptrain.do_hipr_plus(20)"
   ]
  },
  {
   "cell_type": "code",
   "execution_count": 19,
   "metadata": {},
   "outputs": [
    {
     "data": {
      "image/png": "[encoded data removed]",
      "text/plain": [
       "<Figure size 432x288 with 1 Axes>"
      ]
     },
     "metadata": {
      "needs_background": "light"
     },
     "output_type": "display_data"
    }
   ],
   "source": [
    "# plot the loss differences as a bar plot\n",
    "loss_diffs = hipr_losses_pp[:-1] - hipr_losses_pp[-1]  # hipr_losses[-1] is the reference loss over the unaltered trainset\n",
    "plt.bar(np.arange(len(loss_diffs)), loss_diffs, yerr=hipr_stds_pp[:-1])\n",
    "plt.xlabel('Coordinate index', size=15)\n",
    "plt.ylabel('Relative importance', size=15);"
   ]
  },
  {
   "cell_type": "code",
   "execution_count": 20,
   "metadata": {},
   "outputs": [
    {
     "name": "stdout",
     "output_type": "stream",
     "text": [
      "reference loss: 0.5464013779210581\n",
      "\n",
      "loss for idx 220:  0.7191676482004064\n",
      "('CustomCV', 0)\n",
      "\n",
      "loss for idx 12:  0.6828146605412597\n",
      "('SF', ('G5', [120.0, 0.25, 16, -1.0], 0, 'HOH', 'O'))\n",
      "\n",
      "loss for idx 6:  0.5853910279885599\n",
      "('SF', ('G5', [120.0, 0.25, 1, -1.0], 0, 'HOH', 'O'))\n",
      "\n",
      "loss for idx 14:  0.5807313485602399\n",
      "('SF', ('G5', [120.0, 0.25, 64, -1.0], 0, 'HOH', 'O'))\n",
      "\n",
      "loss for idx 8:  0.5802102191169182\n",
      "('SF', ('G5', [120.0, 0.25, 2, -1.0], 0, 'HOH', 'O'))\n",
      "\n",
      "loss for idx 9:  0.5755736299883536\n",
      "('SF', ('G5', [120.0, 0.25, 4, 1.0], 0, 'HOH', 'O'))\n",
      "\n",
      "loss for idx 55:  0.5696391396749744\n",
      "('SF', ('G2', [200.0, 0.25], 1, 'HOH', 'O'))\n",
      "\n",
      "loss for idx 174:  0.5581226094567471\n",
      "('SF', ('G5', [120.0, 0.25, 4, 1.0], 1, 'HOH', 'H'))\n",
      "\n",
      "loss for idx 5:  0.5576405131575246\n",
      "('SF', ('G5', [120.0, 0.25, 1, 1.0], 0, 'HOH', 'O'))\n",
      "\n",
      "loss for idx 119:  0.5558662391736835\n",
      "('SF', ('G5', [120.0, 0.25, 4, 1.0], 0, 'HOH', 'H'))\n",
      "\n",
      "loss for idx 178:  0.5554331265817737\n",
      "('SF', ('G5', [120.0, 0.25, 64, 1.0], 1, 'HOH', 'H'))\n",
      "\n",
      "loss for idx 173:  0.5544253571960248\n",
      "('SF', ('G5', [120.0, 0.25, 2, -1.0], 1, 'HOH', 'H'))\n",
      "\n",
      "loss for idx 171:  0.5543114827516503\n",
      "('SF', ('G5', [120.0, 0.25, 1, -1.0], 1, 'HOH', 'H'))\n",
      "\n",
      "loss for idx 65:  0.553727228033291\n",
      "('SF', ('G5', [120.0, 0.25, 4, -1.0], 1, 'HOH', 'O'))\n",
      "\n",
      "loss for idx 21:  0.5534086205721735\n",
      "('SF', ('G5', [120.0, 0.4, 16, 1.0], 0, 'HOH', 'O'))\n",
      "\n",
      "loss for idx 56:  0.5533050117142031\n",
      "('SF', ('G2', [200.0, 0.4], 1, 'HOH', 'O'))\n",
      "\n",
      "loss for idx 0:  0.5524168334086672\n",
      "('SF', ('G2', [200.0, 0.25], 0, 'HOH', 'O'))\n",
      "\n",
      "loss for idx 116:  0.5517341442848324\n",
      "('SF', ('G5', [120.0, 0.25, 1, -1.0], 0, 'HOH', 'H'))\n",
      "\n",
      "loss for idx 22:  0.5513671261315842\n",
      "('SF', ('G5', [120.0, 0.4, 16, -1.0], 0, 'HOH', 'O'))\n",
      "\n",
      "loss for idx 77:  0.5505333050357063\n",
      "('SF', ('G5', [120.0, 0.4, 16, -1.0], 1, 'HOH', 'O'))\n"
     ]
    }
   ],
   "source": [
    "# print the 10 most relevant inputs and what they are\n",
    "loss_diffs = hipr_losses_pp[:-1] - hipr_losses_pp[-1]\n",
    "max_idxs = np.argsort(loss_diffs)[::-1]  # first get the array that would sort the indices from high importance to low importance\n",
    "\n",
    "# iterate over the 20 most important contributors\n",
    "print('reference loss:', hipr_losses_pp[-1])  # this is the loss over the unaltered training set\n",
    "for idx in max_idxs[:20]:\n",
    "    print()\n",
    "    print('loss for idx {:d}: '.format(idx), hipr_losses_pp[idx])  # this is the loss we get if we randomize that coordinate, higher means higher importance\n",
    "    print(aimmd.coords.get_involved(idx, sf_parms=sf_parms, solvent_atoms=[['O', 'H']], solvent_resname=['HOH']))  # this function will extract the parameters for every index\n",
    "    # it will print the type of transformation, i.e. 'SF' (symmetry function), 'IC' (internal coordinate) or 'customCV'\n",
    "    # followed by the exact description of the transformation, which naturally varies between SF, IC and customCV\n",
    "    # for SF we will output (in that order):\n",
    "    #     the type (G2/G5)\n",
    "    #     the parameters [eta, r_s, zeta, lambda], where zeta and lambda are applicable only to G5 type SFs\n",
    "    #     the index of the central atom as given by the topology\n",
    "    #     the name of the solvent, i.e. solvent resname from above\n",
    "    #     the atom element of the solvent atom type this coordinate describes"
   ]
  },
  {
   "cell_type": "markdown",
   "metadata": {},
   "source": [
    "### Emulate production model"
   ]
  },
  {
   "cell_type": "code",
   "execution_count": 21,
   "metadata": {},
   "outputs": [],
   "source": [
    "hipr_emulate = aimmd.analysis.HIPRanalysis(final_model_emulate, trainset)"
   ]
  },
  {
   "cell_type": "code",
   "execution_count": 22,
   "metadata": {},
   "outputs": [],
   "source": [
    "hipr_losses_e, hipr_stds_e = hipr_emulate.do_hipr_plus(20)"
   ]
  },
  {
   "cell_type": "code",
   "execution_count": 23,
   "metadata": {},
   "outputs": [
    {
     "data": {
      "image/png": "[encoded data removed]",
      "text/plain": [
       "<Figure size 432x288 with 1 Axes>"
      ]
     },
     "metadata": {
      "needs_background": "light"
     },
     "output_type": "display_data"
    }
   ],
   "source": [
    "# plot the loss differences as a bar plot\n",
    "loss_diffs = hipr_losses_e[:-1] - hipr_losses_e[-1]  # hipr_losses[-1] is the reference loss over the unaltered trainset\n",
    "plt.bar(np.arange(len(loss_diffs)), loss_diffs, yerr=hipr_stds_e[:-1])\n",
    "plt.xlabel('Coordinate index', size=15)\n",
    "plt.ylabel('Relative importance', size=15);"
   ]
  },
  {
   "cell_type": "code",
   "execution_count": 24,
   "metadata": {},
   "outputs": [
    {
     "name": "stdout",
     "output_type": "stream",
     "text": [
      "reference loss: 0.5838718501601164\n",
      "\n",
      "loss for idx 220:  0.6316155376839989\n",
      "('CustomCV', 0)\n",
      "\n",
      "loss for idx 12:  0.630106913370837\n",
      "('SF', ('G5', [120.0, 0.25, 16, -1.0], 0, 'HOH', 'O'))\n",
      "\n",
      "loss for idx 178:  0.6042459442268807\n",
      "('SF', ('G5', [120.0, 0.25, 64, 1.0], 1, 'HOH', 'H'))\n",
      "\n",
      "loss for idx 8:  0.5928778342717262\n",
      "('SF', ('G5', [120.0, 0.25, 2, -1.0], 0, 'HOH', 'O'))\n",
      "\n",
      "loss for idx 14:  0.5928642768474007\n",
      "('SF', ('G5', [120.0, 0.25, 64, -1.0], 0, 'HOH', 'O'))\n",
      "\n",
      "loss for idx 10:  0.5906976096579939\n",
      "('SF', ('G5', [120.0, 0.25, 4, -1.0], 0, 'HOH', 'O'))\n",
      "\n",
      "loss for idx 122:  0.5899891958544426\n",
      "('SF', ('G5', [120.0, 0.25, 16, -1.0], 0, 'HOH', 'H'))\n",
      "\n",
      "loss for idx 176:  0.5888735960292878\n",
      "('SF', ('G5', [120.0, 0.25, 16, 1.0], 1, 'HOH', 'H'))\n",
      "\n",
      "loss for idx 6:  0.5886100688387232\n",
      "('SF', ('G5', [120.0, 0.25, 1, -1.0], 0, 'HOH', 'O'))\n",
      "\n",
      "loss for idx 64:  0.5874344407317776\n",
      "('SF', ('G5', [120.0, 0.25, 4, 1.0], 1, 'HOH', 'O'))\n",
      "\n",
      "loss for idx 55:  0.5873005166887655\n",
      "('SF', ('G2', [200.0, 0.25], 1, 'HOH', 'O'))\n",
      "\n",
      "loss for idx 173:  0.5872411917495771\n",
      "('SF', ('G5', [120.0, 0.25, 2, -1.0], 1, 'HOH', 'H'))\n",
      "\n",
      "loss for idx 175:  0.5865788657620964\n",
      "('SF', ('G5', [120.0, 0.25, 4, -1.0], 1, 'HOH', 'H'))\n",
      "\n",
      "loss for idx 0:  0.5865367924798924\n",
      "('SF', ('G2', [200.0, 0.25], 0, 'HOH', 'O'))\n",
      "\n",
      "loss for idx 118:  0.5865328913775552\n",
      "('SF', ('G5', [120.0, 0.25, 2, -1.0], 0, 'HOH', 'H'))\n",
      "\n",
      "loss for idx 110:  0.5863713526220524\n",
      "('SF', ('G2', [200.0, 0.25], 0, 'HOH', 'H'))\n",
      "\n",
      "loss for idx 62:  0.5863158111338257\n",
      "('SF', ('G5', [120.0, 0.25, 2, 1.0], 1, 'HOH', 'O'))\n",
      "\n",
      "loss for idx 9:  0.5861348403205751\n",
      "('SF', ('G5', [120.0, 0.25, 4, 1.0], 0, 'HOH', 'O'))\n",
      "\n",
      "loss for idx 171:  0.5861280038739063\n",
      "('SF', ('G5', [120.0, 0.25, 1, -1.0], 1, 'HOH', 'H'))\n",
      "\n",
      "loss for idx 116:  0.5856719645842796\n",
      "('SF', ('G5', [120.0, 0.25, 1, -1.0], 0, 'HOH', 'H'))\n"
     ]
    }
   ],
   "source": [
    "# print the 10 most relevant inputs and what they are\n",
    "loss_diffs = hipr_losses_e[:-1] - hipr_losses_e[-1]\n",
    "max_idxs = np.argsort(loss_diffs)[::-1]  # first get the array that would sort the indices from high importance to low importance\n",
    "\n",
    "# iterate over the 20 most important contributors\n",
    "print('reference loss:', hipr_losses_e[-1])  # this is the loss over the unaltered training set\n",
    "for idx in max_idxs[:20]:\n",
    "    print()\n",
    "    print('loss for idx {:d}: '.format(idx), hipr_losses_e[idx])  # this is the loss we get if we randomize that coordinate, higher means higher importance\n",
    "    print(aimmd.coords.get_involved(idx, sf_parms=sf_parms, solvent_atoms=[['O', 'H']], solvent_resname=['HOH']))  # this function will extract the parameters for every index\n",
    "    # it will print the type of transformation, i.e. 'SF' (symmetry function), 'IC' (internal coordinate) or 'customCV'\n",
    "    # followed by the exact description of the transformation, which naturally varies between SF, IC and customCV\n",
    "    # for SF we will output (in that order):\n",
    "    #     the type (G2/G5)\n",
    "    #     the parameters [eta, r_s, zeta, lambda], where zeta and lambda are applicable only to G5 type SFs\n",
    "    #     the index of the central atom as given by the topology\n",
    "    #     the name of the solvent, i.e. solvent resname from above\n",
    "    #     the atom element of the solvent atom type this coordinate describes"
   ]
  },
  {
   "cell_type": "code",
   "execution_count": 25,
   "metadata": {},
   "outputs": [],
   "source": [
    "aimmd_store.close()"
   ]
  },
  {
   "cell_type": "code",
   "execution_count": null,
   "metadata": {},
   "outputs": [],
   "source": []
  }
 ],
 "metadata": {
  "kernelspec": {
   "display_name": "AIMMD nature publish (py3)",
   "language": "python",
   "name": "aimmd_nature_publish"
  },
  "language_info": {
   "codemirror_mode": {
    "name": "ipython",
    "version": 3
   },
   "file_extension": ".py",
   "mimetype": "text/x-python",
   "name": "python",
   "nbconvert_exporter": "python",
   "pygments_lexer": "ipython3",
   "version": "3.8.10"
  }
 },
 "nbformat": 4,
 "nbformat_minor": 4
}
